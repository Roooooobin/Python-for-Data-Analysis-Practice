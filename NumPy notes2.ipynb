{
 "cells": [
  {
   "cell_type": "code",
   "execution_count": 1,
   "metadata": {
    "collapsed": true
   },
   "outputs": [
    {
     "name": "stdout",
     "output_type": "stream",
     "text": [
      "[0 1 2 3 4 5 6 7 8 9]\n[0.         1.         1.41421356 1.73205081 2.         2.23606798\n 2.44948974 2.64575131 2.82842712 3.        ]\n[1.00000000e+00 2.71828183e+00 7.38905610e+00 2.00855369e+01\n 5.45981500e+01 1.48413159e+02 4.03428793e+02 1.09663316e+03\n 2.98095799e+03 8.10308393e+03]\n"
     ]
    }
   ],
   "source": [
    "import numpy as np\n",
    "arr = np.arange(10)\n",
    "print(arr)\n",
    "print(np.sqrt(arr))\n",
    "print(np.exp(arr))"
   ]
  },
  {
   "cell_type": "code",
   "execution_count": 9,
   "metadata": {},
   "outputs": [
    {
     "name": "stdout",
     "output_type": "stream",
     "text": [
      "[ 0.1010892   0.28999941  1.62428494  1.39287574 -1.29022536 -2.64644178\n -2.87358794  0.54721768]\n[-0.38446493 -1.18621065  1.19984222  0.72810126 -0.09542971  0.05005931\n  0.81959073 -1.25658804]\n[ 0.1010892   0.28999941  1.62428494  1.39287574 -0.09542971  0.05005931\n  0.81959073  0.54721768]\n[  0.505446     1.44999707   8.12142472   6.96437868  -6.45112682\n -13.23220891 -14.3679397    2.73608839]\n[ 0.505446    0.44999707  0.12142472  0.96437868 -0.45112682 -0.23220891\n -0.3679397   0.73608839]\n[  0.   1.   8.   6.  -6. -13. -14.   2.]\n[-7.84331414 -6.00863506 -1.57172243  6.85037505 -3.74419001 -0.3503937\n -1.34285366]\n"
     ]
    },
    {
     "name": "stderr",
     "output_type": "stream",
     "text": [
      "d:\\python3.6\\lib\\site-packages\\ipykernel_launcher.py:12: RuntimeWarning: invalid value encountered in sqrt\n  if sys.path[0] == '':\n"
     ]
    },
    {
     "data": {
      "text/plain": [
       "array([       nan,        nan,        nan, 2.61732211,        nan,\n              nan,        nan])"
      ]
     },
     "execution_count": 9,
     "metadata": {},
     "output_type": "execute_result"
    }
   ],
   "source": [
    "x = np.random.randn(8)\n",
    "y = np.random.randn(8)\n",
    "print(x)\n",
    "print(y)\n",
    "print(np.maximum(x, y))\n",
    "print(x*5)\n",
    "remainder, whole_part = np.modf(x*5)\n",
    "print(remainder)\n",
    "print(whole_part)\n",
    "arr = np.random.randn(7) * 5\n",
    "print(arr)\n",
    "# Ufuncs accept an optional out argument that allows them to operate in-place on arrays\n",
    "np.sqrt(arr, arr)\n",
    "arr"
   ]
  },
  {
   "cell_type": "code",
   "execution_count": 12,
   "metadata": {},
   "outputs": [
    {
     "name": "stdout",
     "output_type": "stream",
     "text": [
      "[ 7  9 11 13 15]\n"
     ]
    }
   ],
   "source": [
    "arr = np.array([1, 2, 3, 4, 5])\n",
    "arr2 = np.array([6, 7, 8, 9, 10])\n",
    "arr = np.add(arr, arr2)\n",
    "print(arr)"
   ]
  },
  {
   "cell_type": "code",
   "execution_count": 20,
   "metadata": {},
   "outputs": [
    {
     "name": "stdout",
     "output_type": "stream",
     "text": [
      "[[-5.   -4.99 -4.98 ...  4.97  4.98  4.99]\n [-5.   -4.99 -4.98 ...  4.97  4.98  4.99]\n [-5.   -4.99 -4.98 ...  4.97  4.98  4.99]\n ...\n [-5.   -4.99 -4.98 ...  4.97  4.98  4.99]\n [-5.   -4.99 -4.98 ...  4.97  4.98  4.99]\n [-5.   -4.99 -4.98 ...  4.97  4.98  4.99]]\n[[-5.   -5.   -5.   ... -5.   -5.   -5.  ]\n [-4.99 -4.99 -4.99 ... -4.99 -4.99 -4.99]\n [-4.98 -4.98 -4.98 ... -4.98 -4.98 -4.98]\n ...\n [ 4.97  4.97  4.97 ...  4.97  4.97  4.97]\n [ 4.98  4.98  4.98 ...  4.98  4.98  4.98]\n [ 4.99  4.99  4.99 ...  4.99  4.99  4.99]]\n"
     ]
    }
   ],
   "source": [
    "points = np.arange(-5, 5, 0.01)\n",
    "xs, ys = np.meshgrid(points, points)\n",
    "print(xs)\n",
    "print(ys)\n",
    "print(np.sqrt(xs**2, ys**2))"
   ]
  },
  {
   "cell_type": "code",
   "execution_count": 22,
   "metadata": {},
   "outputs": [
    {
     "name": "stdout",
     "output_type": "stream",
     "text": [
      "[1.1 2.2 1.3 1.4 2.5]\n[[-1.26780594 -0.27816492 -0.34784271  0.24558702]\n [ 0.26321023  0.13614334  0.29009628 -0.04444269]\n [ 1.66292745  1.09985219 -1.08916397  1.51918755]\n [-1.48046791  0.87337347 -0.4187956  -1.82918915]]\n[[-2 -2 -2  2]\n [ 2  2  2 -2]\n [ 2  2 -2  2]\n [-2  2 -2 -2]]\n"
     ]
    }
   ],
   "source": [
    "# the numpy.where function is a vectorized version of the ternary expression: x if condition else y\n",
    "xarr = np.array([1.1, 1.2, 1.3, 1.4, 1.5])\n",
    "yarr = np.array([2.1, 2.2, 2.3, 2.4, 2.5])\n",
    "cond = np.array([True, False, True, True, False])\n",
    "result = np.where(cond, xarr, yarr)\n",
    "print(result)\n",
    "# the second and third arguments don't need to be arrays, can be scalars.\n",
    "# A typical use of where in data analysis is to produce a new array of values based on another array\n",
    "arr = np.random.randn(4, 4)\n",
    "print(arr)\n",
    "print(np.where(arr > 0, 2, -2))     # >0->2, else ->-2\n",
    "print(np.where(arr > 0, 2, arr))    # >0->2, else remains"
   ]
  },
  {
   "cell_type": "code",
   "execution_count": 24,
   "metadata": {},
   "outputs": [
    {
     "name": "stdout",
     "output_type": "stream",
     "text": [
      "[[ 0.04187699 -0.46828998 -1.37653803  0.22643065]\n [ 0.22456317  0.21186521  0.07129734 -0.4835207 ]\n [-1.37974252 -1.12437802 -1.59011759  0.46863588]\n [-0.03236291 -1.12653347  0.73301539  1.38698151]\n [ 0.02757524 -2.18559104 -0.3986631  -1.48850445]]\n-0.4131000212148403\n-8.262000424296806\n[-0.39413009  0.00605125 -0.90640056  0.24027513 -1.01129584]\n[-1.11809004 -4.6929273  -2.56100598  0.1100229 ]\n"
     ]
    }
   ],
   "source": [
    "# Mathematical and Statistical Methods\n",
    "arr = np.random.randn(5, 4)\n",
    "print(arr)\n",
    "print(arr.mean())\n",
    "print(arr.sum())\n",
    "print(arr.mean(axis=1))  # compute mean across the columns\n",
    "print(arr.sum(axis=0))  # compute sum down the rows"
   ]
  },
  {
   "cell_type": "code",
   "execution_count": 32,
   "metadata": {},
   "outputs": [
    {
     "name": "stdout",
     "output_type": "stream",
     "text": [
      "[0 1 2 3 4 5 6 7]\n[ 0  1  3  6 10 15 21 28]\n[[0 1 2]\n [3 5 4]\n [9 7 8]]\n[[ 0  1  2]\n [ 3  6  6]\n [12 13 14]]\n[[  0   0   0]\n [  3  15  60]\n [  9  63 504]]\n7\n[0 0 1]\n"
     ]
    }
   ],
   "source": [
    "arr = np.arange(8)\n",
    "print(arr)\n",
    "print(arr.cumsum())\n",
    "arr2D = np.array([[0, 1, 2], [3, 5, 4], [9, 7, 8]])\n",
    "print(arr2D)\n",
    "print(arr2D.cumsum(axis=0))\n",
    "print(arr2D.cumprod(axis=1))\n",
    "print(arr.argmax())\n",
    "print(arr2D.argmin(axis=1))"
   ]
  },
  {
   "cell_type": "code",
   "execution_count": 34,
   "metadata": {},
   "outputs": [
    {
     "name": "stdout",
     "output_type": "stream",
     "text": [
      "[-9.17293218e-01  3.82071280e-02 -1.37153458e+00  3.47710756e-01\n  2.42980027e-01 -6.78674843e-01  6.30433360e-01  1.02389870e+00\n -1.65761555e+00  3.89777376e-01 -3.44252436e-01  8.06240140e-01\n -2.52519971e-01  1.50666018e-01  1.93304271e-01  1.82601141e+00\n -2.48441669e-01  1.45320877e+00 -5.54389221e-01 -9.64147922e-02\n -3.11441079e-01 -6.32559704e-01  1.17791430e+00 -1.73885718e+00\n -1.99049998e-01  5.19625704e-01 -1.77866259e+00  2.69378913e-01\n -4.71250510e-01  1.71868772e-01 -1.34208208e+00 -1.12183244e+00\n -1.27148372e+00 -8.95889400e-01 -8.47859753e-01  9.73560324e-01\n  1.04932996e+00 -1.67191735e-01 -9.23399033e-01  2.39887418e-01\n  1.29613593e+00  1.24611768e-01 -6.76896768e-02 -1.05673521e+00\n  8.42567149e-01  1.34805142e+00  2.65957708e-01 -8.35104198e-01\n  8.47142290e-02 -4.11125776e-01  2.37368676e-01 -2.43607519e-01\n -2.84404096e-01 -7.79183338e-01  2.38972343e-01  3.71934121e-01\n -1.51800764e+00  8.37216483e-01 -1.56982525e+00 -3.95345753e-01\n -2.01823604e-01  1.18821997e+00  1.33959027e+00 -2.44605923e-01\n  2.56443396e-01 -2.95084711e-01 -2.07430790e-01 -1.77320261e+00\n  5.49139570e-01 -1.92335792e-01  1.16293807e+00 -9.83459482e-01\n  1.39345380e+00  3.48179990e-01  3.35325503e-01 -8.75958461e-01\n -1.85386407e+00 -4.40063000e-02 -9.56609659e-01  1.02112275e+00\n -4.28788348e-01  4.32190212e-01  1.16614570e+00  1.44464503e+00\n  9.41449208e-01  1.75320472e+00 -7.68441921e-01 -2.29235799e+00\n -1.69769335e+00 -6.22754082e-02 -2.13389246e-01 -6.88629013e-01\n -1.01653294e+00 -6.55376535e-01  1.55624250e-03 -1.35719570e-01\n  2.58415579e-01 -2.78940009e-01 -8.82430612e-01  1.15297806e+00]\n45\nTrue\nFalse\n"
     ]
    }
   ],
   "source": [
    "# methods for boolean arrays\n",
    "arr = np.random.randn(100)\n",
    "print(arr)\n",
    "print((arr > 0).sum())  # number of positive number\n",
    "bools = np.array([False, True, False, False])\n",
    "print(bools.any())\n",
    "print(bools.all())  # also work with non-boolean arrays where non-zero elements evaluate to True"
   ]
  },
  {
   "cell_type": "code",
   "execution_count": 38,
   "metadata": {},
   "outputs": [
    {
     "name": "stdout",
     "output_type": "stream",
     "text": [
      "[-2.11024248 -0.79102347 -2.13725096  1.77070927  0.14040654 -0.05380285]\nNone\n"
     ]
    },
    {
     "data": {
      "text/plain": [
       "-1.5825120769018646"
      ]
     },
     "execution_count": 38,
     "metadata": {},
     "output_type": "execute_result"
    }
   ],
   "source": [
    "# Sorting\n",
    "arr = np.random.randn(6)\n",
    "print(arr)\n",
    "print(arr.sort())\n",
    "# the top-level method np.sort returns a sorted copy of an array instead of modifying the array in-place\n",
    "# compute the quantiles of an array\n",
    "large_arr = np.random.randn(1000)\n",
    "large_arr.sort()\n",
    "large_arr[int(0.05 * len(large_arr))]"
   ]
  },
  {
   "cell_type": "code",
   "execution_count": 39,
   "metadata": {},
   "outputs": [
    {
     "name": "stdout",
     "output_type": "stream",
     "text": [
      "['Bob' 'Joe' 'Will']\n"
     ]
    }
   ],
   "source": [
    "# unique\n",
    "names = np.array(['Bob', 'Joe', 'Will', 'Bob', 'Will', 'Joe', 'Joe'])\n",
    "print(np.unique(names))"
   ]
  },
  {
   "cell_type": "code",
   "execution_count": 41,
   "metadata": {},
   "outputs": [
    {
     "name": "stdout",
     "output_type": "stream",
     "text": [
      "[ True False False  True  True False  True]\n[6 3 2 6]\n"
     ]
    }
   ],
   "source": [
    "# np.in1d tests membership of the values in one array in another, return a boolean array\n",
    "values = np.array([6, 0, 0, 3, 2, 5, 6])\n",
    "print(np.in1d(values, [2, 3, 6]))\n",
    "print(values[np.in1d(values, [2, 3, 6])])"
   ]
  },
  {
   "cell_type": "code",
   "execution_count": 5,
   "metadata": {},
   "outputs": [
    {
     "name": "stdout",
     "output_type": "stream",
     "text": [
      "[0 1 2 3 4 5 6 7 8 9]\n[0 1 2 3 4 5 6 7 8 9]\n"
     ]
    }
   ],
   "source": [
    "# File Input and Output with Arrays\n",
    "# np.save and np.load\n",
    "import numpy as np\n",
    "arr = np.arange(10)\n",
    "np.save('some_array', arr)\n",
    "print(np.load('some_array.npy'))\n",
    "# save multiple arrays in an uncompressed archive using np.savez and passing the arrays as keyword arguments\n",
    "np.savez('array_archive.npz', a=arr, b=arr)\n",
    "arch = np.load('array_archive.npz')  # get a dict-like object\n",
    "print(arch['b'])\n",
    "# If your data compresses well, you may wish to use numpy.savez_compressed instead:\n",
    "np.savez_compressed('arrays_compressed.npz', a=arr, b=arr)"
   ]
  },
  {
   "cell_type": "code",
   "execution_count": 6,
   "metadata": {},
   "outputs": [
    {
     "name": "stdout",
     "output_type": "stream",
     "text": [
      "[[1. 2. 3.]\n [4. 5. 6.]]\n[[ 6. 23.]\n [-1.  7.]\n [ 8.  9.]]\n[[ 28.  64.]\n [ 67. 181.]]\n[[ 28.  64.]\n [ 67. 181.]]\n[ 6. 15.]\n"
     ]
    }
   ],
   "source": [
    "# Linear Algebra\n",
    "x = np.array([[1., 2., 3.], [4., 5., 6.]])\n",
    "y = np.array([[6., 23.], [-1, 7], [8, 9]])\n",
    "print(x)\n",
    "print(y)\n",
    "print(x.dot(y))\n",
    "print(np.dot(x, y))\n",
    "print(x @ np.ones(3))   # @ symbol also works as an infix operator that performs matrix multiplication"
   ]
  },
  {
   "cell_type": "code",
   "execution_count": 10,
   "metadata": {},
   "outputs": [
    {
     "name": "stdout",
     "output_type": "stream",
     "text": [
      "[[ 1.48261312  0.67247096  0.95664578 -0.51840587  0.11192787]\n [ 0.67247096  0.72650062  0.14609186 -0.15627889 -0.27642238]\n [ 0.95664578  0.14609186  1.09819402 -0.44008956  0.38656311]\n [-0.51840587 -0.15627889 -0.44008956  0.30499421 -0.11001987]\n [ 0.11192787 -0.27642238  0.38656311 -0.11001987  0.84549687]]\n[[-7.36482196  5.8734814   3.75299492 -5.06462228  0.56100173]\n [ 0.         -2.38983523 -1.34656504 -5.55598815 -1.29136506]\n [ 0.          0.         -3.99573039 -7.31109267  1.22713274]\n [ 0.          0.          0.         -1.42647651 -0.46033864]\n [ 0.          0.          0.          0.          1.0177952 ]]\n[ 5.08782191  4.62308331  4.04828445 10.05259401  1.80662937]\n25.61841304936228\n"
     ]
    }
   ],
   "source": [
    "# numpy.linalg has a standard set of matrix decompositions and things like inverse and determinant\n",
    "from numpy.linalg import inv, qr\n",
    "X = np.random.randn(5, 5)\n",
    "mat = X.T.dot(X)\n",
    "print(inv(mat))     # inverse of the matrix\n",
    "mat.dot(inv(mat))\n",
    "q, r = qr(mat)\n",
    "print(r)\n",
    "print(np.diag(mat))\n",
    "print(np.trace(mat))"
   ]
  },
  {
   "cell_type": "code",
   "execution_count": 12,
   "metadata": {},
   "outputs": [
    {
     "name": "stdout",
     "output_type": "stream",
     "text": [
      "[[-0.63321365  1.01748879  0.49437093 -0.35385508]\n [-0.63165636 -0.93472363  0.84029373 -0.42678071]\n [ 0.21721838 -0.31081044 -0.99023543  0.33320131]\n [ 0.39988678  0.94320588 -0.57045961  0.01947988]]\n"
     ]
    }
   ],
   "source": [
    "\"\"\"\n",
    "The numpy.random module supplements the built-in Python random with functions\n",
    "for efficiently generating whole arrays of sample values from many kinds of probability\n",
    "distributions.\n",
    "For example, you can get a 4 × 4 array of samples from the standard\n",
    "normal distribution using normal\n",
    "\"\"\"\n",
    "samples = np.random.normal(size=(4, 4))\n",
    "print(samples)"
   ]
  },
  {
   "cell_type": "code",
   "execution_count": 13,
   "metadata": {},
   "outputs": [
    {
     "name": "stdout",
     "output_type": "stream",
     "text": [
      "[ 0.47143516 -1.19097569  1.43270697 -0.3126519  -0.72058873  0.88716294\n  0.85958841 -0.6365235   0.01569637 -2.24268495]\n"
     ]
    }
   ],
   "source": [
    "\"\"\"\n",
    "you can use numpy.random.RandomState to create a random number\n",
    "generator isolated from others\n",
    "\"\"\"\n",
    "rng = np.random.RandomState(1234)   # seed: 1234\n",
    "print(rng.randn(10))"
   ]
  },
  {
   "cell_type": "code",
   "execution_count": null,
   "metadata": {},
   "outputs": [],
   "source": []
  }
 ],
 "metadata": {
  "kernelspec": {
   "display_name": "Python 2",
   "language": "python",
   "name": "python2"
  },
  "language_info": {
   "codemirror_mode": {
    "name": "ipython",
    "version": 2
   },
   "file_extension": ".py",
   "mimetype": "text/x-python",
   "name": "python",
   "nbconvert_exporter": "python",
   "pygments_lexer": "ipython2",
   "version": "2.7.6"
  }
 },
 "nbformat": 4,
 "nbformat_minor": 0
}
