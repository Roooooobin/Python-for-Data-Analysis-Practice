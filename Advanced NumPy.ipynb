{
 "cells": [
  {
   "cell_type": "code",
   "execution_count": 2,
   "metadata": {
    "collapsed": true
   },
   "outputs": [],
   "source": [
    "from IPython.core.interactiveshell import InteractiveShell\n",
    "InteractiveShell.ast_node_interactivity = \"all\"\n",
    "import pandas as pd\n",
    "import numpy as np"
   ]
  },
  {
   "cell_type": "code",
   "execution_count": 3,
   "metadata": {},
   "outputs": [
    {
     "data": {
      "text/plain": [
       "'\\nthis will include more internal details about the ndarray type and more advanced array manipulations and algorithms\\n'"
      ]
     },
     "execution_count": 3,
     "metadata": {},
     "output_type": "execute_result"
    },
    {
     "data": {
      "text/plain": [
       "'\\nThe NumPy ndarray provides a means to interpret a block of homogeneous data\\n(either contiguous or strided) as a multidimensional array object. The data type, or dtype, \\ndetermines how the data is interpreted as being floating point, integer, boolean,\\nor any of the other types we’ve been looking at\\nPart of what makes ndarray flexible is that every array object is a strided view on a\\nblock of data. You might wonder, for example, how the array view arr[::2, ::-1]\\ndoes not copy any data. The reason is that the ndarray is more than just a chunk of\\nmemory and a dtype; it also has “striding” information that enables the array to move\\nthrough memory with varying step sizes. More precisely, the ndarray internally consists\\nof the following:\\n'"
      ]
     },
     "execution_count": 3,
     "metadata": {},
     "output_type": "execute_result"
    },
    {
     "data": {
      "text/plain": [
       "(10, 5)"
      ]
     },
     "execution_count": 3,
     "metadata": {},
     "output_type": "execute_result"
    },
    {
     "data": {
      "text/plain": [
       "(160, 40, 8)"
      ]
     },
     "execution_count": 3,
     "metadata": {},
     "output_type": "execute_result"
    },
    {
     "data": {
      "text/plain": [
       "array([[[1., 1., 1., 1., 1.],\n        [1., 1., 1., 1., 1.],\n        [1., 1., 1., 1., 1.],\n        [1., 1., 1., 1., 1.]],\n\n       [[1., 1., 1., 1., 1.],\n        [1., 1., 1., 1., 1.],\n        [1., 1., 1., 1., 1.],\n        [1., 1., 1., 1., 1.]],\n\n       [[1., 1., 1., 1., 1.],\n        [1., 1., 1., 1., 1.],\n        [1., 1., 1., 1., 1.],\n        [1., 1., 1., 1., 1.]]])"
      ]
     },
     "execution_count": 3,
     "metadata": {},
     "output_type": "execute_result"
    }
   ],
   "source": [
    "\"\"\"\n",
    "this will include more internal details about the ndarray type and more advanced array manipulations and algorithms\n",
    "\"\"\"\n",
    "# ndarray object internals\n",
    "\"\"\"\n",
    "The NumPy ndarray provides a means to interpret a block of homogeneous data\n",
    "(either contiguous or strided) as a multidimensional array object. The data type, or dtype, \n",
    "determines how the data is interpreted as being floating point, integer, boolean,\n",
    "or any of the other types we’ve been looking at\n",
    "Part of what makes ndarray flexible is that every array object is a strided view on a\n",
    "block of data. You might wonder, for example, how the array view arr[::2, ::-1]\n",
    "does not copy any data. The reason is that the ndarray is more than just a chunk of\n",
    "memory and a dtype; it also has “striding” information that enables the array to move\n",
    "through memory with varying step sizes. More precisely, the ndarray internally consists\n",
    "of the following:\n",
    "\"\"\"\n",
    "np.ones((10, 5)).shape\n",
    "np.ones((3, 4, 5), dtype=np.float64).strides\n",
    "obj = np.ones((3, 4, 5), dtype=np.float64)\n",
    "obj[::-1]"
   ]
  },
  {
   "cell_type": "code",
   "execution_count": 4,
   "metadata": {},
   "outputs": [
    {
     "data": {
      "text/plain": [
       "'\\ndtypes have superclasses such as np.integer, np.floating\\nused in conjunction with np.issubdtype\\n'"
      ]
     },
     "execution_count": 4,
     "metadata": {},
     "output_type": "execute_result"
    },
    {
     "data": {
      "text/plain": [
       "True"
      ]
     },
     "execution_count": 4,
     "metadata": {},
     "output_type": "execute_result"
    },
    {
     "data": {
      "text/plain": [
       "True"
      ]
     },
     "execution_count": 4,
     "metadata": {},
     "output_type": "execute_result"
    },
    {
     "data": {
      "text/plain": [
       "[numpy.float64,\n numpy.floating,\n numpy.inexact,\n numpy.number,\n numpy.generic,\n float,\n object]"
      ]
     },
     "execution_count": 4,
     "metadata": {},
     "output_type": "execute_result"
    },
    {
     "data": {
      "text/plain": [
       "[numpy.float32,\n numpy.floating,\n numpy.inexact,\n numpy.number,\n numpy.generic,\n object]"
      ]
     },
     "execution_count": 4,
     "metadata": {},
     "output_type": "execute_result"
    }
   ],
   "source": [
    "# NumPy dtype Hierarchy\n",
    "\"\"\"\n",
    "dtypes have superclasses such as np.integer, np.floating\n",
    "used in conjunction with np.issubdtype\n",
    "\"\"\"\n",
    "ints = np.ones(10, dtype=np.uint16)\n",
    "floats = np.ones(10, dtype=np.float32)\n",
    "np.issubdtype(ints.dtype, np.integer)\n",
    "np.issubdtype(floats.dtype, np.floating)\n",
    "# see the parent classes of a specific dtype by calling the type's mro method\n",
    "np.float64.mro()\n",
    "np.float32.mro()"
   ]
  },
  {
   "cell_type": "code",
   "execution_count": 5,
   "metadata": {},
   "outputs": [
    {
     "data": {
      "text/plain": [
       "array([[0, 1],\n       [2, 3],\n       [4, 5],\n       [6, 7]])"
      ]
     },
     "execution_count": 5,
     "metadata": {},
     "output_type": "execute_result"
    },
    {
     "data": {
      "text/plain": [
       "array([[0, 1, 2, 3],\n       [4, 5, 6, 7]])"
      ]
     },
     "execution_count": 5,
     "metadata": {},
     "output_type": "execute_result"
    },
    {
     "data": {
      "text/plain": [
       "array([[0, 1],\n       [2, 3],\n       [4, 5],\n       [6, 7]])"
      ]
     },
     "execution_count": 5,
     "metadata": {},
     "output_type": "execute_result"
    },
    {
     "data": {
      "text/plain": [
       "array([[0, 4],\n       [1, 5],\n       [2, 6],\n       [3, 7]])"
      ]
     },
     "execution_count": 5,
     "metadata": {},
     "output_type": "execute_result"
    },
    {
     "data": {
      "text/plain": [
       "array([[ 0,  1,  2],\n       [ 3,  4,  5],\n       [ 6,  7,  8],\n       [ 9, 10, 11],\n       [12, 13, 14]])"
      ]
     },
     "execution_count": 5,
     "metadata": {},
     "output_type": "execute_result"
    },
    {
     "data": {
      "text/plain": [
       "array([[ 0,  1,  2],\n       [ 3,  4,  5],\n       [ 6,  7,  8],\n       [ 9, 10, 11],\n       [12, 13, 14]])"
      ]
     },
     "execution_count": 5,
     "metadata": {},
     "output_type": "execute_result"
    },
    {
     "data": {
      "text/plain": [
       "array([ 0,  1,  2,  3,  4,  5,  6,  7,  8,  9, 10, 11, 12, 13, 14])"
      ]
     },
     "execution_count": 5,
     "metadata": {},
     "output_type": "execute_result"
    },
    {
     "data": {
      "text/plain": [
       "array([ 0,  1,  2,  3,  4,  5,  6,  7,  8,  9, 10, 11, 12, 13, 14])"
      ]
     },
     "execution_count": 5,
     "metadata": {},
     "output_type": "execute_result"
    }
   ],
   "source": [
    "# advanced array manipulation\n",
    "# reshape arrays\n",
    "arr = np.arange(8)\n",
    "arr.reshape((4, 2))\n",
    "arr.reshape((4, 2)).reshape((2, 4))\n",
    "arr.reshape((4, 2), order='C')  # row major(default)\n",
    "arr.reshape((4, 2), order='F')  # column major\n",
    "# one of the passed shape dimensions can be -1, in which case the value used for that dimension will be inferred from the data\n",
    "arr = np.arange(15)\n",
    "arr.reshape((5, -1))\n",
    "# the opposite operation of reshape is known as flattening or raveling\n",
    "arr = np.arange(15).reshape((5, 3))\n",
    "arr\n",
    "arr.ravel()  # ravel does not produce a copy of the underlying values if the values in the result were contiguous in the original array\n",
    "arr.flatten()   # the flatten method behaves like ravel except it always returns a copy of the data\n"
   ]
  },
  {
   "cell_type": "code",
   "execution_count": 6,
   "metadata": {},
   "outputs": [
    {
     "data": {
      "text/plain": [
       "array([[ 0,  1,  2,  3],\n       [ 4,  5,  6,  7],\n       [ 8,  9, 10, 11]])"
      ]
     },
     "execution_count": 6,
     "metadata": {},
     "output_type": "execute_result"
    },
    {
     "data": {
      "text/plain": [
       "array([ 0,  1,  2,  3,  4,  5,  6,  7,  8,  9, 10, 11])"
      ]
     },
     "execution_count": 6,
     "metadata": {},
     "output_type": "execute_result"
    },
    {
     "data": {
      "text/plain": [
       "array([ 0,  4,  8,  1,  5,  9,  2,  6, 10,  3,  7, 11])"
      ]
     },
     "execution_count": 6,
     "metadata": {},
     "output_type": "execute_result"
    }
   ],
   "source": [
    "# c v.s. fortran order\n",
    "arr = np.arange(12).reshape((3, 4))\n",
    "arr\n",
    "arr.ravel('C')  # c(row major), traverse higher dimensions first. by default\n",
    "arr.ravel('F')  # fortran(column major)"
   ]
  },
  {
   "cell_type": "code",
   "execution_count": 7,
   "metadata": {},
   "outputs": [
    {
     "data": {
      "text/plain": [
       "array([[ 1,  2,  3],\n       [ 4,  5,  6],\n       [ 7,  8,  9],\n       [10, 11, 12]])"
      ]
     },
     "execution_count": 7,
     "metadata": {},
     "output_type": "execute_result"
    },
    {
     "data": {
      "text/plain": [
       "array([[ 1,  2,  3,  7,  8,  9],\n       [ 4,  5,  6, 10, 11, 12]])"
      ]
     },
     "execution_count": 7,
     "metadata": {},
     "output_type": "execute_result"
    },
    {
     "data": {
      "text/plain": [
       "array([[ 1,  2,  3],\n       [ 4,  5,  6],\n       [ 7,  8,  9],\n       [10, 11, 12]])"
      ]
     },
     "execution_count": 7,
     "metadata": {},
     "output_type": "execute_result"
    },
    {
     "data": {
      "text/plain": [
       "array([[ 1,  2,  3,  7,  8,  9],\n       [ 4,  5,  6, 10, 11, 12]])"
      ]
     },
     "execution_count": 7,
     "metadata": {},
     "output_type": "execute_result"
    },
    {
     "data": {
      "text/plain": [
       "array([[ 0.64030984,  0.12620815],\n       [ 0.33217546, -0.73193776],\n       [-0.41044585, -0.40043271],\n       [-0.09112562,  0.50914895],\n       [-0.20081111,  0.08192198]])"
      ]
     },
     "execution_count": 7,
     "metadata": {},
     "output_type": "execute_result"
    },
    {
     "data": {
      "text/plain": [
       "array([[0.64030984, 0.12620815]])"
      ]
     },
     "execution_count": 7,
     "metadata": {},
     "output_type": "execute_result"
    },
    {
     "data": {
      "text/plain": [
       "array([[ 0.33217546, -0.73193776],\n       [-0.41044585, -0.40043271]])"
      ]
     },
     "execution_count": 7,
     "metadata": {},
     "output_type": "execute_result"
    },
    {
     "data": {
      "text/plain": [
       "array([[-0.09112562,  0.50914895],\n       [-0.20081111,  0.08192198]])"
      ]
     },
     "execution_count": 7,
     "metadata": {},
     "output_type": "execute_result"
    },
    {
     "data": {
      "text/plain": [
       "array([[ 0.        ,  1.        ],\n       [ 2.        ,  3.        ],\n       [ 4.        ,  5.        ],\n       [-0.62193507,  1.47836399],\n       [ 0.28735421, -0.28968613],\n       [-0.98297258,  0.53028796]])"
      ]
     },
     "execution_count": 7,
     "metadata": {},
     "output_type": "execute_result"
    },
    {
     "data": {
      "text/plain": [
       "array([[ 0.        ,  1.        ,  0.        ],\n       [ 2.        ,  3.        ,  1.        ],\n       [ 4.        ,  5.        ,  2.        ],\n       [-0.62193507,  1.47836399,  3.        ],\n       [ 0.28735421, -0.28968613,  4.        ],\n       [-0.98297258,  0.53028796,  5.        ]])"
      ]
     },
     "execution_count": 7,
     "metadata": {},
     "output_type": "execute_result"
    }
   ],
   "source": [
    "# concatenating and splitting arrays\n",
    "# numpy.concatenate takes a sequence(tuple, list) of arrays and joins them together in order along the input axis\n",
    "arr1 = np.array([[1, 2, 3], [4, 5, 6]])\n",
    "arr2 = np.array([[7, 8, 9], [10, 11, 12]])\n",
    "np.concatenate([arr1, arr2], axis=0)\n",
    "np.concatenate([arr1, arr2], axis=1)\n",
    "# there are some convenience functions like vstack, hstack\n",
    "np.vstack((arr1, arr2))\n",
    "np.hstack((arr1, arr2))\n",
    "\n",
    "# split\n",
    "arr = np.random.randn(5, 2)\n",
    "arr\n",
    "first, second, third = np.split(arr, [1, 3])    # 1, 3 indicate the index to split\n",
    "first\n",
    "second\n",
    "third\n",
    "\n",
    "# stacking helpers: r_ and c_\n",
    "arr = np.arange(6)\n",
    "arr1 = arr.reshape((3, 2))\n",
    "arr2 = np.random.randn(3, 2)\n",
    "np.r_[arr1, arr2]\n",
    "np.c_[np.r_[arr1, arr2], arr]\n"
   ]
  },
  {
   "cell_type": "code",
   "execution_count": 8,
   "metadata": {},
   "outputs": [
    {
     "data": {
      "text/plain": [
       "array([0, 1, 2])"
      ]
     },
     "execution_count": 8,
     "metadata": {},
     "output_type": "execute_result"
    },
    {
     "data": {
      "text/plain": [
       "array([0, 0, 0, 1, 1, 1, 2, 2, 2])"
      ]
     },
     "execution_count": 8,
     "metadata": {},
     "output_type": "execute_result"
    },
    {
     "data": {
      "text/plain": [
       "array([[ 0.20982655, -0.22047142],\n       [ 0.20982655, -0.22047142],\n       [ 0.45692333,  0.18895794],\n       [ 0.45692333,  0.18895794]])"
      ]
     },
     "execution_count": 8,
     "metadata": {},
     "output_type": "execute_result"
    },
    {
     "data": {
      "text/plain": [
       "array([[ 0.20982655, -0.22047142],\n       [ 0.20982655, -0.22047142],\n       [ 0.45692333,  0.18895794],\n       [ 0.45692333,  0.18895794],\n       [ 0.45692333,  0.18895794]])"
      ]
     },
     "execution_count": 8,
     "metadata": {},
     "output_type": "execute_result"
    },
    {
     "data": {
      "text/plain": [
       "array([[ 0.20982655, -0.22047142],\n       [ 0.45692333,  0.18895794]])"
      ]
     },
     "execution_count": 8,
     "metadata": {},
     "output_type": "execute_result"
    },
    {
     "data": {
      "text/plain": [
       "array([[ 0.20982655, -0.22047142,  0.20982655, -0.22047142],\n       [ 0.45692333,  0.18895794,  0.45692333,  0.18895794]])"
      ]
     },
     "execution_count": 8,
     "metadata": {},
     "output_type": "execute_result"
    },
    {
     "data": {
      "text/plain": [
       "array([[ 0.20982655, -0.22047142,  0.20982655, -0.22047142],\n       [ 0.45692333,  0.18895794,  0.45692333,  0.18895794]])"
      ]
     },
     "execution_count": 8,
     "metadata": {},
     "output_type": "execute_result"
    },
    {
     "data": {
      "text/plain": [
       "array([[ 0.20982655, -0.22047142,  0.20982655, -0.22047142],\n       [ 0.45692333,  0.18895794,  0.45692333,  0.18895794],\n       [ 0.20982655, -0.22047142,  0.20982655, -0.22047142],\n       [ 0.45692333,  0.18895794,  0.45692333,  0.18895794],\n       [ 0.20982655, -0.22047142,  0.20982655, -0.22047142],\n       [ 0.45692333,  0.18895794,  0.45692333,  0.18895794]])"
      ]
     },
     "execution_count": 8,
     "metadata": {},
     "output_type": "execute_result"
    }
   ],
   "source": [
    "# Repeating Elements: tile and repeat\n",
    "# repeat replicates each element in an array some number of times, producing a larger array\n",
    "arr = np.arange(3)\n",
    "arr\n",
    "arr.repeat(3)\n",
    "arr_2d = np.random.randn(2, 2)\n",
    "arr_2d.repeat(2, axis=0)\n",
    "arr_2d.repeat([2, 3], axis=0)  # pass an array of ints to repeat different number of times\n",
    "\n",
    "# tile is a shortcut for stacking copies of an array along an axis\n",
    "arr_2d\n",
    "np.tile(arr_2d, 2)\n",
    "np.tile(arr_2d, (1, 2))\n",
    "np.tile(arr_2d, (3, 2))"
   ]
  },
  {
   "cell_type": "code",
   "execution_count": 9,
   "metadata": {},
   "outputs": [
    {
     "data": {
      "text/plain": [
       "array([700, 100, 200, 600])"
      ]
     },
     "execution_count": 9,
     "metadata": {},
     "output_type": "execute_result"
    },
    {
     "data": {
      "text/plain": [
       "array([700, 100, 200, 600])"
      ]
     },
     "execution_count": 9,
     "metadata": {},
     "output_type": "execute_result"
    },
    {
     "data": {
      "text/plain": [
       "array([  0,  23,  23, 300, 400, 500,  23,  23, 800, 900])"
      ]
     },
     "execution_count": 9,
     "metadata": {},
     "output_type": "execute_result"
    },
    {
     "data": {
      "text/plain": [
       "array([  0,  41,  42, 300, 400, 500,  43,  40, 800, 900])"
      ]
     },
     "execution_count": 9,
     "metadata": {},
     "output_type": "execute_result"
    },
    {
     "data": {
      "text/plain": [
       "array([[-0.12035594, -0.41940418, -1.64780288, -0.32510427],\n       [-0.50470904,  0.04540897, -0.22737202, -0.19368248]])"
      ]
     },
     "execution_count": 9,
     "metadata": {},
     "output_type": "execute_result"
    },
    {
     "data": {
      "text/plain": [
       "array([[-1.64780288, -0.12035594, -1.64780288, -0.41940418],\n       [-0.22737202, -0.50470904, -0.22737202,  0.04540897]])"
      ]
     },
     "execution_count": 9,
     "metadata": {},
     "output_type": "execute_result"
    }
   ],
   "source": [
    "# fancy indexing equivalents: take and put\n",
    "arr = np.arange(10) * 100\n",
    "inds = [7, 1, 2, 6]\n",
    "arr[inds]\n",
    "arr.take(inds)\n",
    "arr.put(inds, 23)\n",
    "arr\n",
    "arr.put(inds, [40, 41, 42, 43])\n",
    "arr\n",
    "\n",
    "inds = [2, 0, 2, 1]\n",
    "arr = np.random.randn(2, 4)\n",
    "arr\n",
    "arr.take(inds, axis=1)"
   ]
  },
  {
   "cell_type": "code",
   "execution_count": 14,
   "metadata": {},
   "outputs": [
    {
     "data": {
      "text/plain": [
       "array([0, 1, 2, 3, 4])"
      ]
     },
     "execution_count": 14,
     "metadata": {},
     "output_type": "execute_result"
    },
    {
     "data": {
      "text/plain": [
       "array([ 0,  4,  8, 12, 16])"
      ]
     },
     "execution_count": 14,
     "metadata": {},
     "output_type": "execute_result"
    },
    {
     "data": {
      "text/plain": [
       "array([[-1.48795043,  0.37073387,  0.0020737 ],\n       [ 0.85362738, -0.46068449, -0.29131907],\n       [-1.41630578,  0.44582262,  0.10585292],\n       [ 0.14578223, -1.02013819, -0.63176927]])"
      ]
     },
     "execution_count": 14,
     "metadata": {},
     "output_type": "execute_result"
    },
    {
     "data": {
      "text/plain": [
       "array([-0.47621165, -0.16606655, -0.20379043])"
      ]
     },
     "execution_count": 14,
     "metadata": {},
     "output_type": "execute_result"
    },
    {
     "data": {
      "text/plain": [
       "array([[-1.01173878,  0.53680042,  0.20586414],\n       [ 1.32983903, -0.29461794, -0.08752864],\n       [-0.94009413,  0.61188916,  0.30964335],\n       [ 0.62199388, -0.85407164, -0.42797884]])"
      ]
     },
     "execution_count": 14,
     "metadata": {},
     "output_type": "execute_result"
    },
    {
     "data": {
      "text/plain": [
       "array([ 0.00000000e+00, -2.77555756e-17, -1.38777878e-17])"
      ]
     },
     "execution_count": 14,
     "metadata": {},
     "output_type": "execute_result"
    },
    {
     "data": {
      "text/plain": [
       "'\\nTwo arrays are compatible for broadcasting if for each trailing dimension (i.e., starting\\nfrom the end) the axis lengths match or if either of the lengths is 1. Broadcasting is\\nthen performed over the missing or length 1 dimensions.\\n'"
      ]
     },
     "execution_count": 14,
     "metadata": {},
     "output_type": "execute_result"
    },
    {
     "data": {
      "text/plain": [
       "array([[-1.11623614,  0.74244816,  0.37378799],\n       [ 0.81975277, -0.49455909, -0.32519368],\n       [-1.1280957 ,  0.7340327 ,  0.394063  ],\n       [ 0.64782398, -0.51809645, -0.12972753]])"
      ]
     },
     "execution_count": 14,
     "metadata": {},
     "output_type": "execute_result"
    },
    {
     "ename": "ValueError",
     "evalue": "operands could not be broadcast together with shapes (4,3) (4,) ",
     "traceback": [
      "\u001b[1;31m---------------------------------------------------------------------------\u001b[0m",
      "\u001b[1;31mValueError\u001b[0m                                Traceback (most recent call last)",
      "\u001b[1;32m<ipython-input-14-0df58b60891a>\u001b[0m in \u001b[0;36m<module>\u001b[1;34m\u001b[0m\n\u001b[0;32m     19\u001b[0m \u001b[1;31m# broadcasting over other axes\u001b[0m\u001b[1;33m\u001b[0m\u001b[1;33m\u001b[0m\u001b[0m\n\u001b[0;32m     20\u001b[0m \u001b[0marr\u001b[0m \u001b[1;33m-\u001b[0m \u001b[0marr\u001b[0m\u001b[1;33m.\u001b[0m\u001b[0mmean\u001b[0m\u001b[1;33m(\u001b[0m\u001b[1;36m1\u001b[0m\u001b[1;33m)\u001b[0m\u001b[1;33m.\u001b[0m\u001b[0mreshape\u001b[0m\u001b[1;33m(\u001b[0m\u001b[1;33m(\u001b[0m\u001b[1;36m4\u001b[0m\u001b[1;33m,\u001b[0m \u001b[1;36m1\u001b[0m\u001b[1;33m)\u001b[0m\u001b[1;33m)\u001b[0m\u001b[1;33m\u001b[0m\u001b[0m\n\u001b[1;32m---> 21\u001b[1;33m \u001b[0marr\u001b[0m \u001b[1;33m-\u001b[0m \u001b[0marr\u001b[0m\u001b[1;33m.\u001b[0m\u001b[0mmean\u001b[0m\u001b[1;33m(\u001b[0m\u001b[1;36m1\u001b[0m\u001b[1;33m)\u001b[0m\u001b[1;33m\u001b[0m\u001b[0m\n\u001b[0m",
      "\u001b[1;31mValueError\u001b[0m: operands could not be broadcast together with shapes (4,3) (4,) "
     ],
     "output_type": "error"
    }
   ],
   "source": [
    "# broadcasting\n",
    "# broadcasting describes how arithmetic works between arrays of different shapes\n",
    "arr = np.arange(5)\n",
    "arr\n",
    "arr * 4\n",
    "\n",
    "arr = np.random.randn(4, 3)\n",
    "arr\n",
    "arr.mean(0)\n",
    "demeaned = arr - arr.mean(0)\n",
    "demeaned\n",
    "demeaned.mean(0)\n",
    "\"\"\"\n",
    "Two arrays are compatible for broadcasting if for each trailing dimension (i.e., starting\n",
    "from the end) the axis lengths match or if either of the lengths is 1. Broadcasting is\n",
    "then performed over the missing or length 1 dimensions.\n",
    "\"\"\"\n",
    "\n",
    "# broadcasting over other axes\n",
    "arr - arr.mean(1).reshape((4, 1))\n",
    "arr - arr.mean(1)\n"
   ]
  },
  {
   "cell_type": "code",
   "execution_count": 16,
   "metadata": {},
   "outputs": [
    {
     "data": {
      "text/plain": [
       "45"
      ]
     },
     "execution_count": 16,
     "metadata": {},
     "output_type": "execute_result"
    },
    {
     "data": {
      "text/plain": [
       "45"
      ]
     },
     "execution_count": 16,
     "metadata": {},
     "output_type": "execute_result"
    },
    {
     "data": {
      "text/plain": [
       "array([[ True,  True,  True,  True],\n       [False,  True, False, False],\n       [ True,  True,  True,  True],\n       [ True, False,  True,  True],\n       [ True,  True,  True,  True]])"
      ]
     },
     "execution_count": 16,
     "metadata": {},
     "output_type": "execute_result"
    },
    {
     "data": {
      "text/plain": [
       "array([ True, False,  True, False,  True])"
      ]
     },
     "execution_count": 16,
     "metadata": {},
     "output_type": "execute_result"
    },
    {
     "data": {
      "text/plain": [
       "array([10, 18, 17], dtype=int32)"
      ]
     },
     "execution_count": 16,
     "metadata": {},
     "output_type": "execute_result"
    }
   ],
   "source": [
    "# advanced ufunc usage\n",
    "# reduce takes a single array and aggregates its values\n",
    "arr = np.arange(10)\n",
    "np.add.reduce(arr)\n",
    "arr.sum()\n",
    "\n",
    "np.random.seed(12346)\n",
    "arr = np.random.randn(5, 5)\n",
    "arr[::2].sort(1)\n",
    "arr[:, :-1] < arr[:, 1:]\n",
    "np.logical_and.reduce(arr[:, :-1] < arr[:, 1:], axis=1)\n",
    "\n",
    "arr = np.arange(10)\n",
    "np.add.reduceat(arr, [0, 5, 8])\n"
   ]
  },
  {
   "cell_type": "code",
   "execution_count": 17,
   "metadata": {},
   "outputs": [
    {
     "data": {
      "text/plain": [
       "array([0, 2, 4, 6, 8, 10, 12, 14], dtype=object)"
      ]
     },
     "execution_count": 17,
     "metadata": {},
     "output_type": "execute_result"
    }
   ],
   "source": [
    "# write new ufuncs in Python\n",
    "# numpy.frompyfunc accepts a Python function along with a specification for the number of inputs and outputs\n",
    "def add_elements(x, y):\n",
    "    return x + y\n",
    "\n",
    "\n",
    "add_them = np.frompyfunc(add_elements, 2, 1)\n",
    "add_them(np.arange(8), np.arange(8))\n",
    "# These functions provide a way to create ufunc-like functions, but they are very slow\n",
    "# because they require a Python function call to compute each element, which is a lot\n",
    "# slower than NumPy’s C-based ufunc loops:"
   ]
  },
  {
   "cell_type": "code",
   "execution_count": null,
   "metadata": {},
   "outputs": [],
   "source": []
  }
 ],
 "metadata": {
  "kernelspec": {
   "display_name": "Python 2",
   "language": "python",
   "name": "python2"
  },
  "language_info": {
   "codemirror_mode": {
    "name": "ipython",
    "version": 2
   },
   "file_extension": ".py",
   "mimetype": "text/x-python",
   "name": "python",
   "nbconvert_exporter": "python",
   "pygments_lexer": "ipython2",
   "version": "2.7.6"
  }
 },
 "nbformat": 4,
 "nbformat_minor": 0
}
