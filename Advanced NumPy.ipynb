{
 "cells": [
  {
   "cell_type": "code",
   "execution_count": 1,
   "metadata": {
    "collapsed": true
   },
   "outputs": [],
   "source": [
    "from IPython.core.interactiveshell import InteractiveShell\n",
    "InteractiveShell.ast_node_interactivity = \"all\"\n",
    "import pandas as pd\n",
    "import numpy as np"
   ]
  },
  {
   "cell_type": "code",
   "execution_count": 3,
   "metadata": {},
   "outputs": [
    {
     "data": {
      "text/plain": [
       "'\\nthis will include more internal details about the ndarray type and more advanced array manipulations and algorithms\\n'"
      ]
     },
     "execution_count": 3,
     "metadata": {},
     "output_type": "execute_result"
    },
    {
     "data": {
      "text/plain": [
       "'\\nThe NumPy ndarray provides a means to interpret a block of homogeneous data\\n(either contiguous or strided) as a multidimensional array object. The data type, or dtype, \\ndetermines how the data is interpreted as being floating point, integer, boolean,\\nor any of the other types we’ve been looking at\\nPart of what makes ndarray flexible is that every array object is a strided view on a\\nblock of data. You might wonder, for example, how the array view arr[::2, ::-1]\\ndoes not copy any data. The reason is that the ndarray is more than just a chunk of\\nmemory and a dtype; it also has “striding” information that enables the array to move\\nthrough memory with varying step sizes. More precisely, the ndarray internally consists\\nof the following:\\n'"
      ]
     },
     "execution_count": 3,
     "metadata": {},
     "output_type": "execute_result"
    },
    {
     "data": {
      "text/plain": [
       "(10, 5)"
      ]
     },
     "execution_count": 3,
     "metadata": {},
     "output_type": "execute_result"
    },
    {
     "data": {
      "text/plain": [
       "(160, 40, 8)"
      ]
     },
     "execution_count": 3,
     "metadata": {},
     "output_type": "execute_result"
    },
    {
     "data": {
      "text/plain": [
       "array([[[1., 1., 1., 1., 1.],\n        [1., 1., 1., 1., 1.],\n        [1., 1., 1., 1., 1.],\n        [1., 1., 1., 1., 1.]],\n\n       [[1., 1., 1., 1., 1.],\n        [1., 1., 1., 1., 1.],\n        [1., 1., 1., 1., 1.],\n        [1., 1., 1., 1., 1.]],\n\n       [[1., 1., 1., 1., 1.],\n        [1., 1., 1., 1., 1.],\n        [1., 1., 1., 1., 1.],\n        [1., 1., 1., 1., 1.]]])"
      ]
     },
     "execution_count": 3,
     "metadata": {},
     "output_type": "execute_result"
    }
   ],
   "source": [
    "\"\"\"\n",
    "this will include more internal details about the ndarray type and more advanced array manipulations and algorithms\n",
    "\"\"\"\n",
    "# ndarray object internals\n",
    "\"\"\"\n",
    "The NumPy ndarray provides a means to interpret a block of homogeneous data\n",
    "(either contiguous or strided) as a multidimensional array object. The data type, or dtype, \n",
    "determines how the data is interpreted as being floating point, integer, boolean,\n",
    "or any of the other types we’ve been looking at\n",
    "Part of what makes ndarray flexible is that every array object is a strided view on a\n",
    "block of data. You might wonder, for example, how the array view arr[::2, ::-1]\n",
    "does not copy any data. The reason is that the ndarray is more than just a chunk of\n",
    "memory and a dtype; it also has “striding” information that enables the array to move\n",
    "through memory with varying step sizes. More precisely, the ndarray internally consists\n",
    "of the following:\n",
    "\"\"\"\n",
    "np.ones((10, 5)).shape\n",
    "np.ones((3, 4, 5), dtype=np.float64).strides\n",
    "obj = np.ones((3, 4, 5), dtype=np.float64)\n",
    "obj[::-1]"
   ]
  },
  {
   "cell_type": "code",
   "execution_count": 5,
   "metadata": {},
   "outputs": [
    {
     "data": {
      "text/plain": [
       "'\\ndtypes have superclasses such as np.integer, np.floating\\nused in conjunction with np.issubdtype\\n'"
      ]
     },
     "execution_count": 5,
     "metadata": {},
     "output_type": "execute_result"
    },
    {
     "data": {
      "text/plain": [
       "True"
      ]
     },
     "execution_count": 5,
     "metadata": {},
     "output_type": "execute_result"
    },
    {
     "data": {
      "text/plain": [
       "True"
      ]
     },
     "execution_count": 5,
     "metadata": {},
     "output_type": "execute_result"
    },
    {
     "data": {
      "text/plain": [
       "[numpy.float64,\n numpy.floating,\n numpy.inexact,\n numpy.number,\n numpy.generic,\n float,\n object]"
      ]
     },
     "execution_count": 5,
     "metadata": {},
     "output_type": "execute_result"
    },
    {
     "data": {
      "text/plain": [
       "[numpy.float32,\n numpy.floating,\n numpy.inexact,\n numpy.number,\n numpy.generic,\n object]"
      ]
     },
     "execution_count": 5,
     "metadata": {},
     "output_type": "execute_result"
    }
   ],
   "source": [
    "# NumPy dtype Hierarchy\n",
    "\"\"\"\n",
    "dtypes have superclasses such as np.integer, np.floating\n",
    "used in conjunction with np.issubdtype\n",
    "\"\"\"\n",
    "ints = np.ones(10, dtype=np.uint16)\n",
    "floats = np.ones(10, dtype=np.float32)\n",
    "np.issubdtype(ints.dtype, np.integer)\n",
    "np.issubdtype(floats.dtype, np.floating)\n",
    "# see the parent classes of a specific dtype by calling the type's mro method\n",
    "np.float64.mro()\n",
    "np.float32.mro()"
   ]
  },
  {
   "cell_type": "code",
   "execution_count": 10,
   "metadata": {},
   "outputs": [
    {
     "data": {
      "text/plain": [
       "array([[0, 1],\n       [2, 3],\n       [4, 5],\n       [6, 7]])"
      ]
     },
     "execution_count": 10,
     "metadata": {},
     "output_type": "execute_result"
    },
    {
     "data": {
      "text/plain": [
       "array([[0, 1, 2, 3],\n       [4, 5, 6, 7]])"
      ]
     },
     "execution_count": 10,
     "metadata": {},
     "output_type": "execute_result"
    },
    {
     "data": {
      "text/plain": [
       "array([[0, 1],\n       [2, 3],\n       [4, 5],\n       [6, 7]])"
      ]
     },
     "execution_count": 10,
     "metadata": {},
     "output_type": "execute_result"
    },
    {
     "data": {
      "text/plain": [
       "array([[0, 4],\n       [1, 5],\n       [2, 6],\n       [3, 7]])"
      ]
     },
     "execution_count": 10,
     "metadata": {},
     "output_type": "execute_result"
    },
    {
     "data": {
      "text/plain": [
       "array([[ 0,  1,  2],\n       [ 3,  4,  5],\n       [ 6,  7,  8],\n       [ 9, 10, 11],\n       [12, 13, 14]])"
      ]
     },
     "execution_count": 10,
     "metadata": {},
     "output_type": "execute_result"
    },
    {
     "data": {
      "text/plain": [
       "array([[ 0,  1,  2],\n       [ 3,  4,  5],\n       [ 6,  7,  8],\n       [ 9, 10, 11],\n       [12, 13, 14]])"
      ]
     },
     "execution_count": 10,
     "metadata": {},
     "output_type": "execute_result"
    },
    {
     "data": {
      "text/plain": [
       "array([ 0,  1,  2,  3,  4,  5,  6,  7,  8,  9, 10, 11, 12, 13, 14])"
      ]
     },
     "execution_count": 10,
     "metadata": {},
     "output_type": "execute_result"
    },
    {
     "data": {
      "text/plain": [
       "array([ 0,  1,  2,  3,  4,  5,  6,  7,  8,  9, 10, 11, 12, 13, 14])"
      ]
     },
     "execution_count": 10,
     "metadata": {},
     "output_type": "execute_result"
    }
   ],
   "source": [
    "# advanced array manipulation\n",
    "# reshape arrays\n",
    "arr = np.arange(8)\n",
    "arr.reshape((4, 2))\n",
    "arr.reshape((4, 2)).reshape((2, 4))\n",
    "arr.reshape((4, 2), order='C')  # row major(default)\n",
    "arr.reshape((4, 2), order='F')  # column major\n",
    "# one of the passed shape dimensions can be -1, in which case the value used for that dimension will be inferred from the data\n",
    "arr = np.arange(15)\n",
    "arr.reshape((5, -1))\n",
    "# the opposite operation of reshape is known as flattening or raveling\n",
    "arr = np.arange(15).reshape((5, 3))\n",
    "arr\n",
    "arr.ravel()  # ravel does not produce a copy of the underlying values if the values in the result were contiguous in the original array\n",
    "arr.flatten()   # the flatten method behaves like ravel except it always returns a copy of the data\n"
   ]
  },
  {
   "cell_type": "code",
   "execution_count": 11,
   "metadata": {},
   "outputs": [
    {
     "data": {
      "text/plain": [
       "array([[ 0,  1,  2,  3],\n       [ 4,  5,  6,  7],\n       [ 8,  9, 10, 11]])"
      ]
     },
     "execution_count": 11,
     "metadata": {},
     "output_type": "execute_result"
    },
    {
     "data": {
      "text/plain": [
       "array([ 0,  1,  2,  3,  4,  5,  6,  7,  8,  9, 10, 11])"
      ]
     },
     "execution_count": 11,
     "metadata": {},
     "output_type": "execute_result"
    },
    {
     "data": {
      "text/plain": [
       "array([ 0,  4,  8,  1,  5,  9,  2,  6, 10,  3,  7, 11])"
      ]
     },
     "execution_count": 11,
     "metadata": {},
     "output_type": "execute_result"
    }
   ],
   "source": [
    "# c v.s. fortran order\n",
    "arr = np.arange(12).reshape((3, 4))\n",
    "arr\n",
    "arr.ravel('C')  # c(row major), traverse higher dimensions first. by default\n",
    "arr.ravel('F')  # fortran(column major)"
   ]
  },
  {
   "cell_type": "code",
   "execution_count": null,
   "metadata": {},
   "outputs": [],
   "source": []
  }
 ],
 "metadata": {
  "kernelspec": {
   "display_name": "Python 2",
   "language": "python",
   "name": "python2"
  },
  "language_info": {
   "codemirror_mode": {
    "name": "ipython",
    "version": 2
   },
   "file_extension": ".py",
   "mimetype": "text/x-python",
   "name": "python",
   "nbconvert_exporter": "python",
   "pygments_lexer": "ipython2",
   "version": "2.7.6"
  }
 },
 "nbformat": 4,
 "nbformat_minor": 0
}
