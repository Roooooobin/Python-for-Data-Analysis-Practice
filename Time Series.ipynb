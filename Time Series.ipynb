{
 "cells": [
  {
   "cell_type": "code",
   "execution_count": 1,
   "metadata": {
    "collapsed": true
   },
   "outputs": [],
   "source": [
    "from IPython.core.interactiveshell import InteractiveShell\n",
    "InteractiveShell.ast_node_interactivity = \"all\""
   ]
  },
  {
   "cell_type": "code",
   "execution_count": 5,
   "metadata": {},
   "outputs": [
    {
     "data": {
      "text/plain": [
       "'\\nAnything that is observed or measured at many points in time forms a time series. Many time series are fixed frequency\\n• Timestamps, specific instants in time\\n• Fixed periods, such as the month January 2007 or the full year 2010\\n• Intervals of time, indicated by a start and end timestamp. Periods can be thought\\nof as special cases of intervals\\n• Experiment or elapsed time; each timestamp is a measure of time relative to a\\nparticular start time (e.g., the diameter of a cookie baking each second since\\nbeing placed in the oven)\\n'"
      ]
     },
     "execution_count": 5,
     "metadata": {},
     "output_type": "execute_result"
    },
    {
     "data": {
      "text/plain": [
       "datetime.datetime(2020, 2, 16, 16, 18, 45, 487628)"
      ]
     },
     "execution_count": 5,
     "metadata": {},
     "output_type": "execute_result"
    },
    {
     "data": {
      "text/plain": [
       "(2020, 2, 16)"
      ]
     },
     "execution_count": 5,
     "metadata": {},
     "output_type": "execute_result"
    },
    {
     "data": {
      "text/plain": [
       "datetime.timedelta(926, 56700)"
      ]
     },
     "execution_count": 5,
     "metadata": {},
     "output_type": "execute_result"
    },
    {
     "data": {
      "text/plain": [
       "(926, 56700)"
      ]
     },
     "execution_count": 5,
     "metadata": {},
     "output_type": "execute_result"
    },
    {
     "data": {
      "text/plain": [
       "datetime.datetime(2011, 1, 19, 0, 0)"
      ]
     },
     "execution_count": 5,
     "metadata": {},
     "output_type": "execute_result"
    }
   ],
   "source": [
    "\"\"\"\n",
    "Anything that is observed or measured at many points in time forms a time series. Many time series are fixed frequency\n",
    "• Timestamps, specific instants in time\n",
    "• Fixed periods, such as the month January 2007 or the full year 2010\n",
    "• Intervals of time, indicated by a start and end timestamp. Periods can be thought\n",
    "of as special cases of intervals\n",
    "• Experiment or elapsed time; each timestamp is a measure of time relative to a\n",
    "particular start time (e.g., the diameter of a cookie baking each second since\n",
    "being placed in the oven)\n",
    "\"\"\"\n",
    "# Date and Time data types and tools\n",
    "from datetime import datetime, timedelta\n",
    "now = datetime.now()\n",
    "now\n",
    "now.year, now.month, now.day\n",
    "delta = datetime(2011, 1, 7) - datetime(2008, 6, 24, 8, 15)\n",
    "delta\n",
    "delta.days, delta.seconds\n",
    "start = datetime(2011, 1, 7)\n",
    "start + timedelta(12)   # days = 12"
   ]
  },
  {
   "cell_type": "code",
   "execution_count": 8,
   "metadata": {},
   "outputs": [
    {
     "data": {
      "text/plain": [
       "'2011-01-03 00:00:00'"
      ]
     },
     "execution_count": 8,
     "metadata": {},
     "output_type": "execute_result"
    },
    {
     "data": {
      "text/plain": [
       "'2011-01-03'"
      ]
     },
     "execution_count": 8,
     "metadata": {},
     "output_type": "execute_result"
    },
    {
     "data": {
      "text/plain": [
       "'11-01-03-1'"
      ]
     },
     "execution_count": 8,
     "metadata": {},
     "output_type": "execute_result"
    },
    {
     "data": {
      "text/plain": [
       "'2011-01-03'"
      ]
     },
     "execution_count": 8,
     "metadata": {},
     "output_type": "execute_result"
    },
    {
     "data": {
      "text/plain": [
       "'\\n%Y Four-digit year\\n%y Two-digit year\\n%m Two-digit month [01, 12]\\n%d Two-digit day [01, 31]\\n%H Hour (24-hour clock) [00, 23]\\n%I Hour (12-hour clock) [01, 12]\\n%M Two-digit minute [00, 59]\\n%S Second [00, 61] (seconds 60, 61 account for leap seconds)\\n%w Weekday as integer [0 (Sunday), 6]\\n%U Week number of the year [00, 53]; Sunday is considered the first day of the week, and days before the first Sunday of\\nthe year are “week 0”\\n%W Week number of the year [00, 53]; Monday is considered the first day of the week, and days before the first Monday of\\nthe year are “week 0”\\n%z UTC time zone offset as +HHMM or -HHMM; empty if time zone naive\\n%F Shortcut for %Y-%m-%d (e.g., 2012-4-18)\\n%D Shortcut for %m/%d/%y (e.g., 04/18/12)\\n'"
      ]
     },
     "execution_count": 8,
     "metadata": {},
     "output_type": "execute_result"
    }
   ],
   "source": [
    "# converting between string and datetime\n",
    "stamp = datetime(2011, 1, 3)\n",
    "str(stamp)\n",
    "stamp.strftime('%Y-%m-%d')\n",
    "stamp.strftime('%y-%m-%d-%w')\n",
    "stamp.strftime('%F')\n",
    "\"\"\"\n",
    "%Y Four-digit year\n",
    "%y Two-digit year\n",
    "%m Two-digit month [01, 12]\n",
    "%d Two-digit day [01, 31]\n",
    "%H Hour (24-hour clock) [00, 23]\n",
    "%I Hour (12-hour clock) [01, 12]\n",
    "%M Two-digit minute [00, 59]\n",
    "%S Second [00, 61] (seconds 60, 61 account for leap seconds)\n",
    "%w Weekday as integer [0 (Sunday), 6]\n",
    "%U Week number of the year [00, 53]; Sunday is considered the first day of the week, and days before the first Sunday of\n",
    "the year are “week 0”\n",
    "%W Week number of the year [00, 53]; Monday is considered the first day of the week, and days before the first Monday of\n",
    "the year are “week 0”\n",
    "%z UTC time zone offset as +HHMM or -HHMM; empty if time zone naive\n",
    "%F Shortcut for %Y-%m-%d (e.g., 2012-4-18)\n",
    "%D Shortcut for %m/%d/%y (e.g., 04/18/12)\n",
    "\"\"\"\n",
    "# from str to datetime\n",
    "value = '2011-01-03'\n",
    "datetime.strptime(value, '%F')\n",
    "# parser.parse method in the third-party dateutil package\n",
    "from dateutil.parser import parse\n",
    "parse('2011-01-03')\n",
    "parse('Jan 31, 1997 10:45 PM')\n",
    "parse('6/12/2011', dayfirst=True)   # day appearing before month\n",
    "# dateutil.parser is a useful but imperfect tool. it will recognize some strings as dates that you might prefer that it didn't\n",
    "# '42' will be parsed as the year 2042"
   ]
  },
  {
   "cell_type": "code",
   "execution_count": 4,
   "metadata": {},
   "outputs": [
    {
     "data": {
      "text/plain": [
       "DatetimeIndex(['2011-07-06 12:00:00', '2011-08-06 00:00:00'], dtype='datetime64[ns]', freq=None)"
      ]
     },
     "execution_count": 4,
     "metadata": {},
     "output_type": "execute_result"
    },
    {
     "data": {
      "text/plain": [
       "DatetimeIndex(['2011-07-06 12:00:00', '2011-08-06 00:00:00', 'NaT'], dtype='datetime64[ns]', freq=None)"
      ]
     },
     "execution_count": 4,
     "metadata": {},
     "output_type": "execute_result"
    },
    {
     "data": {
      "text/plain": [
       "array([False, False,  True])"
      ]
     },
     "execution_count": 4,
     "metadata": {},
     "output_type": "execute_result"
    }
   ],
   "source": [
    "import pandas as pd\n",
    "\n",
    "datestrs = ['2011-07-06 12:00:00', '2011-08-06 00:00:00']\n",
    "pd.to_datetime(datestrs)\n",
    "idx = pd.to_datetime(datestrs + [None])\n",
    "idx\n",
    "pd.isnull(idx)"
   ]
  },
  {
   "cell_type": "code",
   "execution_count": 12,
   "metadata": {},
   "outputs": [
    {
     "data": {
      "text/plain": [
       "2011-07-06 12:00:00   -0.788390\n2011-08-06 00:00:00   -1.369073\nNaT                    0.044217\ndtype: float64"
      ]
     },
     "execution_count": 12,
     "metadata": {},
     "output_type": "execute_result"
    },
    {
     "data": {
      "text/plain": [
       "2011-01-02    0.241353\n2011-01-05   -1.124495\n2011-01-07   -0.769710\n2011-01-08    1.014994\n2011-01-10    0.011631\n2011-01-12   -0.988195\ndtype: float64"
      ]
     },
     "execution_count": 12,
     "metadata": {},
     "output_type": "execute_result"
    },
    {
     "data": {
      "text/plain": [
       "DatetimeIndex(['2011-01-02', '2011-01-05', '2011-01-07', '2011-01-08',\n               '2011-01-10', '2011-01-12'],\n              dtype='datetime64[ns]', freq=None)"
      ]
     },
     "execution_count": 12,
     "metadata": {},
     "output_type": "execute_result"
    },
    {
     "data": {
      "text/plain": [
       "2011-01-02    0.482706\n2011-01-05         NaN\n2011-01-07   -1.539420\n2011-01-08         NaN\n2011-01-10    0.023261\n2011-01-12         NaN\ndtype: float64"
      ]
     },
     "execution_count": 12,
     "metadata": {},
     "output_type": "execute_result"
    },
    {
     "data": {
      "text/plain": [
       "Timestamp('2011-01-02 00:00:00')"
      ]
     },
     "execution_count": 12,
     "metadata": {},
     "output_type": "execute_result"
    }
   ],
   "source": [
    "# time series basics\n",
    "import numpy as np\n",
    "from datetime import datetime\n",
    "\n",
    "dates = [datetime(2011, 1, 2), datetime(2011, 1, 5),\n",
    "         datetime(2011, 1, 7), datetime(2011, 1, 8),\n",
    "         datetime(2011, 1, 10), datetime(2011, 1, 12)]\n",
    "ts = pd.Series(np.random.randn(3), index=idx)\n",
    "ts\n",
    "ts = pd.Series(np.random.randn(6), index=dates)\n",
    "ts\n",
    "ts.index\n",
    "ts + ts[::2]\n",
    "stamp = ts.index[0]\n",
    "stamp"
   ]
  },
  {
   "cell_type": "code",
   "execution_count": 17,
   "metadata": {},
   "outputs": [
    {
     "data": {
      "text/plain": [
       "Timestamp('2011-01-07 00:00:00')"
      ]
     },
     "execution_count": 17,
     "metadata": {},
     "output_type": "execute_result"
    },
    {
     "data": {
      "text/plain": [
       "-0.7697099387469818"
      ]
     },
     "execution_count": 17,
     "metadata": {},
     "output_type": "execute_result"
    },
    {
     "data": {
      "text/plain": [
       "0.01163065013699577"
      ]
     },
     "execution_count": 17,
     "metadata": {},
     "output_type": "execute_result"
    },
    {
     "data": {
      "text/plain": [
       "0.01163065013699577"
      ]
     },
     "execution_count": 17,
     "metadata": {},
     "output_type": "execute_result"
    },
    {
     "data": {
      "text/plain": [
       "2000-01-01   -1.584814\n2000-01-02    0.592963\n2000-01-03   -0.106804\n2000-01-04   -0.659606\n2000-01-05    1.065595\n2000-01-06    0.724497\n2000-01-07   -0.406729\n2000-01-08    0.548382\n2000-01-09    0.744132\n2000-01-10   -1.906219\n2000-01-11   -0.715561\n2000-01-12    1.591292\n2000-01-13    1.157389\n2000-01-14   -0.050235\n2000-01-15   -0.335627\n2000-01-16    0.852874\n2000-01-17   -2.653801\n2000-01-18    1.451410\n2000-01-19   -0.918924\n2000-01-20    1.134049\n2000-01-21    0.374802\n2000-01-22   -0.022881\n2000-01-23   -0.331475\n2000-01-24   -0.659360\n2000-01-25   -0.437885\n2000-01-26    2.097430\n2000-01-27    0.908668\n2000-01-28    1.221123\n2000-01-29   -0.101854\n2000-01-30    0.535357\n                ...   \n2002-08-28    0.945968\n2002-08-29   -0.752068\n2002-08-30   -2.435870\n2002-08-31   -0.216566\n2002-09-01   -0.190708\n2002-09-02   -0.699760\n2002-09-03    0.393022\n2002-09-04    0.689626\n2002-09-05    0.025603\n2002-09-06    2.942408\n2002-09-07    0.175947\n2002-09-08   -0.811778\n2002-09-09   -1.489208\n2002-09-10    0.795540\n2002-09-11   -0.897936\n2002-09-12   -0.717153\n2002-09-13   -0.126171\n2002-09-14   -0.861766\n2002-09-15   -0.293872\n2002-09-16    0.018985\n2002-09-17    1.032854\n2002-09-18    0.354727\n2002-09-19    0.330422\n2002-09-20    1.017679\n2002-09-21    1.338417\n2002-09-22   -0.605365\n2002-09-23    0.786469\n2002-09-24    1.452996\n2002-09-25    0.308871\n2002-09-26   -0.198170\nFreq: D, Length: 1000, dtype: float64"
      ]
     },
     "execution_count": 17,
     "metadata": {},
     "output_type": "execute_result"
    },
    {
     "data": {
      "text/plain": [
       "2001-01-01    0.970215\n2001-01-02   -0.603992\n2001-01-03    2.369241\n2001-01-04   -1.837530\n2001-01-05    1.437161\n2001-01-06    0.327961\n2001-01-07   -0.369043\n2001-01-08    0.918330\n2001-01-09   -0.727845\n2001-01-10    0.199112\n2001-01-11    0.322122\n2001-01-12   -0.485507\n2001-01-13    0.350024\n2001-01-14   -0.083758\n2001-01-15   -1.150379\n2001-01-16    0.902140\n2001-01-17   -1.536772\n2001-01-18    1.049771\n2001-01-19   -0.327860\n2001-01-20   -0.709047\n2001-01-21    1.332727\n2001-01-22    1.399755\n2001-01-23   -0.493382\n2001-01-24    0.796419\n2001-01-25    0.605971\n2001-01-26    0.323677\n2001-01-27   -0.433454\n2001-01-28    1.737380\n2001-01-29    0.172487\n2001-01-30    0.096060\n                ...   \n2001-12-02   -0.630782\n2001-12-03    1.620075\n2001-12-04   -0.163346\n2001-12-05    0.213443\n2001-12-06    0.749441\n2001-12-07   -0.847627\n2001-12-08   -1.728615\n2001-12-09    1.463516\n2001-12-10    1.161815\n2001-12-11   -0.789612\n2001-12-12    0.058826\n2001-12-13   -0.392971\n2001-12-14   -0.863873\n2001-12-15    0.874361\n2001-12-16    0.636007\n2001-12-17    0.032571\n2001-12-18    0.450774\n2001-12-19    0.386218\n2001-12-20   -1.411195\n2001-12-21    1.495693\n2001-12-22    0.031221\n2001-12-23   -0.038189\n2001-12-24   -1.653602\n2001-12-25   -1.041754\n2001-12-26    0.407277\n2001-12-27    1.175482\n2001-12-28    0.463573\n2001-12-29    0.954284\n2001-12-30    0.369836\n2001-12-31   -1.004095\nFreq: D, Length: 365, dtype: float64"
      ]
     },
     "execution_count": 17,
     "metadata": {},
     "output_type": "execute_result"
    },
    {
     "data": {
      "text/plain": [
       "2011-01-07   -0.769710\n2011-01-08    1.014994\n2011-01-10    0.011631\n2011-01-12   -0.988195\ndtype: float64"
      ]
     },
     "execution_count": 17,
     "metadata": {},
     "output_type": "execute_result"
    }
   ],
   "source": [
    "# indexing, selection, subsetting\n",
    "stamp = ts.index[2]\n",
    "stamp\n",
    "ts[stamp]\n",
    "# As a convenience, you can also pass a string that is interpretable as a date\n",
    "ts['1/10/2011']\n",
    "ts['20110110']\n",
    "\n",
    "# for longer time series\n",
    "longer_ts = pd.Series(np.random.randn(1000),\n",
    "                      index=pd.date_range('1/1/2000', periods=1000))\n",
    "longer_ts\n",
    "longer_ts['2001']   # selects time period of whole 2001 year\n",
    "# slicing with datetime object\n",
    "ts[datetime(2011, 1, 7):]"
   ]
  },
  {
   "cell_type": "code",
   "execution_count": 19,
   "metadata": {},
   "outputs": [
    {
     "data": {
      "text/plain": [
       "2011-01-02    0.241353\n2011-01-05   -1.124495\n2011-01-07   -0.769710\n2011-01-08    1.014994\n2011-01-10    0.011631\n2011-01-12   -0.988195\ndtype: float64"
      ]
     },
     "execution_count": 19,
     "metadata": {},
     "output_type": "execute_result"
    },
    {
     "data": {
      "text/plain": [
       "2011-01-07   -0.769710\n2011-01-08    1.014994\n2011-01-10    0.011631\ndtype: float64"
      ]
     },
     "execution_count": 19,
     "metadata": {},
     "output_type": "execute_result"
    }
   ],
   "source": [
    "# slice with timestamps not contained in a time series to perform a range query, slicing produces views\n",
    "ts\n",
    "ts['1/6/2011': '1/11/2011']\n",
    "ts.truncate(after='1/9/2011')\n"
   ]
  },
  {
   "cell_type": "code",
   "execution_count": 21,
   "metadata": {},
   "outputs": [
    {
     "data": {
      "text/plain": [
       "DatetimeIndex(['2000-01-05', '2000-01-12', '2000-01-19', '2000-01-26',\n               '2000-02-02', '2000-02-09', '2000-02-16', '2000-02-23',\n               '2000-03-01', '2000-03-08', '2000-03-15', '2000-03-22',\n               '2000-03-29', '2000-04-05', '2000-04-12', '2000-04-19',\n               '2000-04-26', '2000-05-03', '2000-05-10', '2000-05-17',\n               '2000-05-24', '2000-05-31', '2000-06-07', '2000-06-14',\n               '2000-06-21', '2000-06-28', '2000-07-05', '2000-07-12',\n               '2000-07-19', '2000-07-26', '2000-08-02', '2000-08-09',\n               '2000-08-16', '2000-08-23', '2000-08-30', '2000-09-06',\n               '2000-09-13', '2000-09-20', '2000-09-27', '2000-10-04',\n               '2000-10-11', '2000-10-18', '2000-10-25', '2000-11-01',\n               '2000-11-08', '2000-11-15', '2000-11-22', '2000-11-29',\n               '2000-12-06', '2000-12-13', '2000-12-20', '2000-12-27',\n               '2001-01-03', '2001-01-10', '2001-01-17', '2001-01-24',\n               '2001-01-31', '2001-02-07', '2001-02-14', '2001-02-21',\n               '2001-02-28', '2001-03-07', '2001-03-14', '2001-03-21',\n               '2001-03-28', '2001-04-04', '2001-04-11', '2001-04-18',\n               '2001-04-25', '2001-05-02', '2001-05-09', '2001-05-16',\n               '2001-05-23', '2001-05-30', '2001-06-06', '2001-06-13',\n               '2001-06-20', '2001-06-27', '2001-07-04', '2001-07-11',\n               '2001-07-18', '2001-07-25', '2001-08-01', '2001-08-08',\n               '2001-08-15', '2001-08-22', '2001-08-29', '2001-09-05',\n               '2001-09-12', '2001-09-19', '2001-09-26', '2001-10-03',\n               '2001-10-10', '2001-10-17', '2001-10-24', '2001-10-31',\n               '2001-11-07', '2001-11-14', '2001-11-21', '2001-11-28'],\n              dtype='datetime64[ns]', freq='W-WED')"
      ]
     },
     "execution_count": 21,
     "metadata": {},
     "output_type": "execute_result"
    },
    {
     "data": {
      "text/html": [
       "<div>\n",
       "<style scoped>\n",
       "    .dataframe tbody tr th:only-of-type {\n",
       "        vertical-align: middle;\n",
       "    }\n",
       "\n",
       "    .dataframe tbody tr th {\n",
       "        vertical-align: top;\n",
       "    }\n",
       "\n",
       "    .dataframe thead th {\n",
       "        text-align: right;\n",
       "    }\n",
       "</style>\n",
       "<table border=\"1\" class=\"dataframe\">\n",
       "  <thead>\n",
       "    <tr style=\"text-align: right;\">\n",
       "      <th></th>\n",
       "      <th>Colorado</th>\n",
       "      <th>Texas</th>\n",
       "      <th>New York</th>\n",
       "      <th>Ohio</th>\n",
       "    </tr>\n",
       "  </thead>\n",
       "  <tbody>\n",
       "    <tr>\n",
       "      <th>2001-05-02</th>\n",
       "      <td>-1.112818</td>\n",
       "      <td>-0.096935</td>\n",
       "      <td>0.004793</td>\n",
       "      <td>-0.328774</td>\n",
       "    </tr>\n",
       "    <tr>\n",
       "      <th>2001-05-09</th>\n",
       "      <td>0.320603</td>\n",
       "      <td>-0.595071</td>\n",
       "      <td>0.776346</td>\n",
       "      <td>-1.242355</td>\n",
       "    </tr>\n",
       "    <tr>\n",
       "      <th>2001-05-16</th>\n",
       "      <td>1.788320</td>\n",
       "      <td>0.403644</td>\n",
       "      <td>-1.364312</td>\n",
       "      <td>0.790722</td>\n",
       "    </tr>\n",
       "    <tr>\n",
       "      <th>2001-05-23</th>\n",
       "      <td>-1.335367</td>\n",
       "      <td>1.487993</td>\n",
       "      <td>1.050101</td>\n",
       "      <td>-0.817476</td>\n",
       "    </tr>\n",
       "    <tr>\n",
       "      <th>2001-05-30</th>\n",
       "      <td>2.069516</td>\n",
       "      <td>1.501538</td>\n",
       "      <td>-0.533321</td>\n",
       "      <td>-0.215638</td>\n",
       "    </tr>\n",
       "  </tbody>\n",
       "</table>\n",
       "</div>"
      ],
      "text/plain": [
       "<div>\n",
       "<style scoped>\n",
       "    .dataframe tbody tr th:only-of-type {\n",
       "        vertical-align: middle;\n",
       "    }\n",
       "\n",
       "    .dataframe tbody tr th {\n",
       "        vertical-align: top;\n",
       "    }\n",
       "\n",
       "    .dataframe thead th {\n",
       "        text-align: right;\n",
       "    }\n",
       "</style>\n",
       "<table border=\"1\" class=\"dataframe\">\n",
       "  <thead>\n",
       "    <tr style=\"text-align: right;\">\n",
       "      <th></th>\n",
       "      <th>Colorado</th>\n",
       "      <th>Texas</th>\n",
       "      <th>New York</th>\n",
       "      <th>Ohio</th>\n",
       "    </tr>\n",
       "  </thead>\n",
       "  <tbody>\n",
       "    <tr>\n",
       "      <th>2001-05-02</th>\n",
       "      <td>-1.112818</td>\n",
       "      <td>-0.096935</td>\n",
       "      <td>0.004793</td>\n",
       "      <td>-0.328774</td>\n",
       "    </tr>\n",
       "    <tr>\n",
       "      <th>2001-05-09</th>\n",
       "      <td>0.320603</td>\n",
       "      <td>-0.595071</td>\n",
       "      <td>0.776346</td>\n",
       "      <td>-1.242355</td>\n",
       "    </tr>\n",
       "    <tr>\n",
       "      <th>2001-05-16</th>\n",
       "      <td>1.788320</td>\n",
       "      <td>0.403644</td>\n",
       "      <td>-1.364312</td>\n",
       "      <td>0.790722</td>\n",
       "    </tr>\n",
       "    <tr>\n",
       "      <th>2001-05-23</th>\n",
       "      <td>-1.335367</td>\n",
       "      <td>1.487993</td>\n",
       "      <td>1.050101</td>\n",
       "      <td>-0.817476</td>\n",
       "    </tr>\n",
       "    <tr>\n",
       "      <th>2001-05-30</th>\n",
       "      <td>2.069516</td>\n",
       "      <td>1.501538</td>\n",
       "      <td>-0.533321</td>\n",
       "      <td>-0.215638</td>\n",
       "    </tr>\n",
       "  </tbody>\n",
       "</table>\n",
       "</div>"
      ]
     },
     "execution_count": 21,
     "metadata": {},
     "output_type": "execute_result"
    }
   ],
   "source": [
    "# holds true for DataFrame as well, indexing on its rows\n",
    "dates = pd.date_range('1/1/2000', periods=100, freq='W-WED')\n",
    "dates\n",
    "long_df = pd.DataFrame(np.random.randn(100, 4),\n",
    "                       index=dates,\n",
    "                       columns=['Colorado', 'Texas',\n",
    "                                'New York', 'Ohio'])\n",
    "long_df.loc['5-2001']"
   ]
  },
  {
   "cell_type": "code",
   "execution_count": 24,
   "metadata": {},
   "outputs": [
    {
     "data": {
      "text/plain": [
       "2000-01-01    0\n2000-01-02    1\n2000-01-02    2\n2000-01-02    3\n2000-01-03    4\ndtype: int32"
      ]
     },
     "execution_count": 24,
     "metadata": {},
     "output_type": "execute_result"
    },
    {
     "data": {
      "text/plain": [
       "2000-01-02    1\n2000-01-02    2\n2000-01-02    3\ndtype: int32"
      ]
     },
     "execution_count": 24,
     "metadata": {},
     "output_type": "execute_result"
    },
    {
     "data": {
      "text/plain": [
       "2000-01-01    0\n2000-01-02    2\n2000-01-03    4\ndtype: int32"
      ]
     },
     "execution_count": 24,
     "metadata": {},
     "output_type": "execute_result"
    }
   ],
   "source": [
    "# time series with duplicate indices\n",
    "dates = pd.DatetimeIndex(['1/1/2000', '1/2/2000', '1/2/2000',\n",
    "                          '1/2/2000', '1/3/2000'])\n",
    "dup_ts = pd.Series(np.arange(5), index=dates)\n",
    "dup_ts\n",
    "dup_ts['1/2/2000']\n",
    "grouped = dup_ts.groupby(level=0)\n",
    "grouped.mean()\n"
   ]
  },
  {
   "cell_type": "code",
   "execution_count": null,
   "metadata": {},
   "outputs": [],
   "source": []
  }
 ],
 "metadata": {
  "kernelspec": {
   "display_name": "Python 2",
   "language": "python",
   "name": "python2"
  },
  "language_info": {
   "codemirror_mode": {
    "name": "ipython",
    "version": 2
   },
   "file_extension": ".py",
   "mimetype": "text/x-python",
   "name": "python",
   "nbconvert_exporter": "python",
   "pygments_lexer": "ipython2",
   "version": "2.7.6"
  }
 },
 "nbformat": 4,
 "nbformat_minor": 0
}
