{
 "cells": [
  {
   "cell_type": "code",
   "execution_count": 1,
   "metadata": {
    "collapsed": true
   },
   "outputs": [],
   "source": [
    "from IPython.core.interactiveshell import InteractiveShell\n",
    "InteractiveShell.ast_node_interactivity = \"all\""
   ]
  },
  {
   "cell_type": "code",
   "execution_count": 2,
   "metadata": {},
   "outputs": [
    {
     "data": {
      "text/plain": [
       "'\\nAnything that is observed or measured at many points in time forms a time series. Many time series are fixed frequency\\n• Timestamps, specific instants in time\\n• Fixed periods, such as the month January 2007 or the full year 2010\\n• Intervals of time, indicated by a start and end timestamp. Periods can be thought\\nof as special cases of intervals\\n• Experiment or elapsed time; each timestamp is a measure of time relative to a\\nparticular start time (e.g., the diameter of a cookie baking each second since\\nbeing placed in the oven)\\n'"
      ]
     },
     "execution_count": 2,
     "metadata": {},
     "output_type": "execute_result"
    },
    {
     "data": {
      "text/plain": [
       "datetime.datetime(2020, 2, 19, 16, 59, 34, 964393)"
      ]
     },
     "execution_count": 2,
     "metadata": {},
     "output_type": "execute_result"
    },
    {
     "data": {
      "text/plain": [
       "(2020, 2, 19)"
      ]
     },
     "execution_count": 2,
     "metadata": {},
     "output_type": "execute_result"
    },
    {
     "data": {
      "text/plain": [
       "datetime.timedelta(926, 56700)"
      ]
     },
     "execution_count": 2,
     "metadata": {},
     "output_type": "execute_result"
    },
    {
     "data": {
      "text/plain": [
       "(926, 56700)"
      ]
     },
     "execution_count": 2,
     "metadata": {},
     "output_type": "execute_result"
    },
    {
     "data": {
      "text/plain": [
       "datetime.datetime(2011, 1, 19, 0, 0)"
      ]
     },
     "execution_count": 2,
     "metadata": {},
     "output_type": "execute_result"
    }
   ],
   "source": [
    "\"\"\"\n",
    "Anything that is observed or measured at many points in time forms a time series. Many time series are fixed frequency\n",
    "• Timestamps, specific instants in time\n",
    "• Fixed periods, such as the month January 2007 or the full year 2010\n",
    "• Intervals of time, indicated by a start and end timestamp. Periods can be thought\n",
    "of as special cases of intervals\n",
    "• Experiment or elapsed time; each timestamp is a measure of time relative to a\n",
    "particular start time (e.g., the diameter of a cookie baking each second since\n",
    "being placed in the oven)\n",
    "\"\"\"\n",
    "# Date and Time data types and tools\n",
    "from datetime import datetime, timedelta\n",
    "now = datetime.now()\n",
    "now\n",
    "now.year, now.month, now.day\n",
    "delta = datetime(2011, 1, 7) - datetime(2008, 6, 24, 8, 15)\n",
    "delta\n",
    "delta.days, delta.seconds\n",
    "start = datetime(2011, 1, 7)\n",
    "start + timedelta(12)   # days = 12"
   ]
  },
  {
   "cell_type": "code",
   "execution_count": 3,
   "metadata": {},
   "outputs": [
    {
     "data": {
      "text/plain": [
       "'2011-01-03 00:00:00'"
      ]
     },
     "execution_count": 3,
     "metadata": {},
     "output_type": "execute_result"
    },
    {
     "data": {
      "text/plain": [
       "'2011-01-03'"
      ]
     },
     "execution_count": 3,
     "metadata": {},
     "output_type": "execute_result"
    },
    {
     "data": {
      "text/plain": [
       "'11-01-03-1'"
      ]
     },
     "execution_count": 3,
     "metadata": {},
     "output_type": "execute_result"
    },
    {
     "data": {
      "text/plain": [
       "'2011-01-03'"
      ]
     },
     "execution_count": 3,
     "metadata": {},
     "output_type": "execute_result"
    },
    {
     "data": {
      "text/plain": [
       "'\\n%Y Four-digit year\\n%y Two-digit year\\n%m Two-digit month [01, 12]\\n%d Two-digit day [01, 31]\\n%H Hour (24-hour clock) [00, 23]\\n%I Hour (12-hour clock) [01, 12]\\n%M Two-digit minute [00, 59]\\n%S Second [00, 61] (seconds 60, 61 account for leap seconds)\\n%w Weekday as integer [0 (Sunday), 6]\\n%U Week number of the year [00, 53]; Sunday is considered the first day of the week, and days before the first Sunday of\\nthe year are “week 0”\\n%W Week number of the year [00, 53]; Monday is considered the first day of the week, and days before the first Monday of\\nthe year are “week 0”\\n%z UTC time zone offset as +HHMM or -HHMM; empty if time zone naive\\n%F Shortcut for %Y-%m-%d (e.g., 2012-4-18)\\n%D Shortcut for %m/%d/%y (e.g., 04/18/12)\\n'"
      ]
     },
     "execution_count": 3,
     "metadata": {},
     "output_type": "execute_result"
    },
    {
     "ename": "ValueError",
     "evalue": "'F' is a bad directive in format '%F'",
     "traceback": [
      "\u001b[1;31m---------------------------------------------------------------------------\u001b[0m",
      "\u001b[1;31mValueError\u001b[0m                                Traceback (most recent call last)",
      "\u001b[1;32m<ipython-input-3-54257083867e>\u001b[0m in \u001b[0;36m<module>\u001b[1;34m\u001b[0m\n\u001b[0;32m     25\u001b[0m \u001b[1;31m# from str to datetime\u001b[0m\u001b[1;33m\u001b[0m\u001b[1;33m\u001b[0m\u001b[0m\n\u001b[0;32m     26\u001b[0m \u001b[0mvalue\u001b[0m \u001b[1;33m=\u001b[0m \u001b[1;34m'2011-01-03'\u001b[0m\u001b[1;33m\u001b[0m\u001b[0m\n\u001b[1;32m---> 27\u001b[1;33m \u001b[0mdatetime\u001b[0m\u001b[1;33m.\u001b[0m\u001b[0mstrptime\u001b[0m\u001b[1;33m(\u001b[0m\u001b[0mvalue\u001b[0m\u001b[1;33m,\u001b[0m \u001b[1;34m'%F'\u001b[0m\u001b[1;33m)\u001b[0m\u001b[1;33m\u001b[0m\u001b[0m\n\u001b[0m\u001b[0;32m     28\u001b[0m \u001b[1;31m# parser.parse method in the third-party dateutil package\u001b[0m\u001b[1;33m\u001b[0m\u001b[1;33m\u001b[0m\u001b[0m\n\u001b[0;32m     29\u001b[0m \u001b[1;32mfrom\u001b[0m \u001b[0mdateutil\u001b[0m\u001b[1;33m.\u001b[0m\u001b[0mparser\u001b[0m \u001b[1;32mimport\u001b[0m \u001b[0mparse\u001b[0m\u001b[1;33m\u001b[0m\u001b[0m\n",
      "\u001b[1;32md:\\python3.6\\lib\\_strptime.py\u001b[0m in \u001b[0;36m_strptime_datetime\u001b[1;34m(cls, data_string, format)\u001b[0m\n\u001b[0;32m    563\u001b[0m     \"\"\"Return a class cls instance based on the input string and the\n\u001b[0;32m    564\u001b[0m     format string.\"\"\"\n\u001b[1;32m--> 565\u001b[1;33m     \u001b[0mtt\u001b[0m\u001b[1;33m,\u001b[0m \u001b[0mfraction\u001b[0m \u001b[1;33m=\u001b[0m \u001b[0m_strptime\u001b[0m\u001b[1;33m(\u001b[0m\u001b[0mdata_string\u001b[0m\u001b[1;33m,\u001b[0m \u001b[0mformat\u001b[0m\u001b[1;33m)\u001b[0m\u001b[1;33m\u001b[0m\u001b[0m\n\u001b[0m\u001b[0;32m    566\u001b[0m     \u001b[0mtzname\u001b[0m\u001b[1;33m,\u001b[0m \u001b[0mgmtoff\u001b[0m \u001b[1;33m=\u001b[0m \u001b[0mtt\u001b[0m\u001b[1;33m[\u001b[0m\u001b[1;33m-\u001b[0m\u001b[1;36m2\u001b[0m\u001b[1;33m:\u001b[0m\u001b[1;33m]\u001b[0m\u001b[1;33m\u001b[0m\u001b[0m\n\u001b[0;32m    567\u001b[0m     \u001b[0margs\u001b[0m \u001b[1;33m=\u001b[0m \u001b[0mtt\u001b[0m\u001b[1;33m[\u001b[0m\u001b[1;33m:\u001b[0m\u001b[1;36m6\u001b[0m\u001b[1;33m]\u001b[0m \u001b[1;33m+\u001b[0m \u001b[1;33m(\u001b[0m\u001b[0mfraction\u001b[0m\u001b[1;33m,\u001b[0m\u001b[1;33m)\u001b[0m\u001b[1;33m\u001b[0m\u001b[0m\n",
      "\u001b[1;32md:\\python3.6\\lib\\_strptime.py\u001b[0m in \u001b[0;36m_strptime\u001b[1;34m(data_string, format)\u001b[0m\n\u001b[0;32m    352\u001b[0m                 \u001b[1;32mdel\u001b[0m \u001b[0merr\u001b[0m\u001b[1;33m\u001b[0m\u001b[0m\n\u001b[0;32m    353\u001b[0m                 raise ValueError(\"'%s' is a bad directive in format '%s'\" %\n\u001b[1;32m--> 354\u001b[1;33m                                     (bad_directive, format)) from None\n\u001b[0m\u001b[0;32m    355\u001b[0m             \u001b[1;31m# IndexError only occurs when the format string is \"%\"\u001b[0m\u001b[1;33m\u001b[0m\u001b[1;33m\u001b[0m\u001b[0m\n\u001b[0;32m    356\u001b[0m             \u001b[1;32mexcept\u001b[0m \u001b[0mIndexError\u001b[0m\u001b[1;33m:\u001b[0m\u001b[1;33m\u001b[0m\u001b[0m\n",
      "\u001b[1;31mValueError\u001b[0m: 'F' is a bad directive in format '%F'"
     ],
     "output_type": "error"
    }
   ],
   "source": [
    "# converting between string and datetime\n",
    "stamp = datetime(2011, 1, 3)\n",
    "str(stamp)\n",
    "stamp.strftime('%Y-%m-%d')\n",
    "stamp.strftime('%y-%m-%d-%w')\n",
    "stamp.strftime('%F')\n",
    "\"\"\"\n",
    "%Y Four-digit year\n",
    "%y Two-digit year\n",
    "%m Two-digit month [01, 12]\n",
    "%d Two-digit day [01, 31]\n",
    "%H Hour (24-hour clock) [00, 23]\n",
    "%I Hour (12-hour clock) [01, 12]\n",
    "%M Two-digit minute [00, 59]\n",
    "%S Second [00, 61] (seconds 60, 61 account for leap seconds)\n",
    "%w Weekday as integer [0 (Sunday), 6]\n",
    "%U Week number of the year [00, 53]; Sunday is considered the first day of the week, and days before the first Sunday of\n",
    "the year are “week 0”\n",
    "%W Week number of the year [00, 53]; Monday is considered the first day of the week, and days before the first Monday of\n",
    "the year are “week 0”\n",
    "%z UTC time zone offset as +HHMM or -HHMM; empty if time zone naive\n",
    "%F Shortcut for %Y-%m-%d (e.g., 2012-4-18)\n",
    "%D Shortcut for %m/%d/%y (e.g., 04/18/12)\n",
    "\"\"\"\n",
    "# from str to datetime\n",
    "value = '2011-01-03'\n",
    "datetime.strptime(value, '%F')\n",
    "# parser.parse method in the third-party dateutil package\n",
    "from dateutil.parser import parse\n",
    "parse('2011-01-03')\n",
    "parse('Jan 31, 1997 10:45 PM')\n",
    "parse('6/12/2011', dayfirst=True)   # day appearing before month\n",
    "# dateutil.parser is a useful but imperfect tool. it will recognize some strings as dates that you might prefer that it didn't\n",
    "# '42' will be parsed as the year 2042"
   ]
  },
  {
   "cell_type": "code",
   "execution_count": 4,
   "metadata": {},
   "outputs": [
    {
     "data": {
      "text/plain": [
       "DatetimeIndex(['2011-07-06 12:00:00', '2011-08-06 00:00:00'], dtype='datetime64[ns]', freq=None)"
      ]
     },
     "execution_count": 4,
     "metadata": {},
     "output_type": "execute_result"
    },
    {
     "data": {
      "text/plain": [
       "DatetimeIndex(['2011-07-06 12:00:00', '2011-08-06 00:00:00', 'NaT'], dtype='datetime64[ns]', freq=None)"
      ]
     },
     "execution_count": 4,
     "metadata": {},
     "output_type": "execute_result"
    },
    {
     "data": {
      "text/plain": [
       "array([False, False,  True])"
      ]
     },
     "execution_count": 4,
     "metadata": {},
     "output_type": "execute_result"
    }
   ],
   "source": [
    "import pandas as pd\n",
    "\n",
    "datestrs = ['2011-07-06 12:00:00', '2011-08-06 00:00:00']\n",
    "pd.to_datetime(datestrs)\n",
    "idx = pd.to_datetime(datestrs + [None])\n",
    "idx\n",
    "pd.isnull(idx)"
   ]
  },
  {
   "cell_type": "code",
   "execution_count": 5,
   "metadata": {},
   "outputs": [
    {
     "data": {
      "text/plain": [
       "2011-07-06 12:00:00   -1.092608\n2011-08-06 00:00:00   -0.308508\nNaT                   -0.298670\ndtype: float64"
      ]
     },
     "execution_count": 5,
     "metadata": {},
     "output_type": "execute_result"
    },
    {
     "data": {
      "text/plain": [
       "2011-01-02   -0.084716\n2011-01-05   -0.184652\n2011-01-07   -0.122547\n2011-01-08   -0.954296\n2011-01-10    0.931601\n2011-01-12   -1.267576\ndtype: float64"
      ]
     },
     "execution_count": 5,
     "metadata": {},
     "output_type": "execute_result"
    },
    {
     "data": {
      "text/plain": [
       "DatetimeIndex(['2011-01-02', '2011-01-05', '2011-01-07', '2011-01-08',\n               '2011-01-10', '2011-01-12'],\n              dtype='datetime64[ns]', freq=None)"
      ]
     },
     "execution_count": 5,
     "metadata": {},
     "output_type": "execute_result"
    },
    {
     "data": {
      "text/plain": [
       "2011-01-02   -0.169431\n2011-01-05         NaN\n2011-01-07   -0.245095\n2011-01-08         NaN\n2011-01-10    1.863201\n2011-01-12         NaN\ndtype: float64"
      ]
     },
     "execution_count": 5,
     "metadata": {},
     "output_type": "execute_result"
    },
    {
     "data": {
      "text/plain": [
       "Timestamp('2011-01-02 00:00:00')"
      ]
     },
     "execution_count": 5,
     "metadata": {},
     "output_type": "execute_result"
    }
   ],
   "source": [
    "# time series basics\n",
    "import numpy as np\n",
    "from datetime import datetime\n",
    "\n",
    "dates = [datetime(2011, 1, 2), datetime(2011, 1, 5),\n",
    "         datetime(2011, 1, 7), datetime(2011, 1, 8),\n",
    "         datetime(2011, 1, 10), datetime(2011, 1, 12)]\n",
    "ts = pd.Series(np.random.randn(3), index=idx)\n",
    "ts\n",
    "ts = pd.Series(np.random.randn(6), index=dates)\n",
    "ts\n",
    "ts.index\n",
    "ts + ts[::2]\n",
    "stamp = ts.index[0]\n",
    "stamp"
   ]
  },
  {
   "cell_type": "code",
   "execution_count": 6,
   "metadata": {},
   "outputs": [
    {
     "data": {
      "text/plain": [
       "Timestamp('2011-01-07 00:00:00')"
      ]
     },
     "execution_count": 6,
     "metadata": {},
     "output_type": "execute_result"
    },
    {
     "data": {
      "text/plain": [
       "-0.12254740503549948"
      ]
     },
     "execution_count": 6,
     "metadata": {},
     "output_type": "execute_result"
    },
    {
     "data": {
      "text/plain": [
       "0.9316006797159124"
      ]
     },
     "execution_count": 6,
     "metadata": {},
     "output_type": "execute_result"
    },
    {
     "data": {
      "text/plain": [
       "0.9316006797159124"
      ]
     },
     "execution_count": 6,
     "metadata": {},
     "output_type": "execute_result"
    },
    {
     "data": {
      "text/plain": [
       "2000-01-01   -0.634649\n2000-01-02    1.779337\n2000-01-03   -1.527270\n2000-01-04   -0.841636\n2000-01-05   -0.798837\n2000-01-06    1.154520\n2000-01-07   -0.365667\n2000-01-08   -0.168173\n2000-01-09   -0.494888\n2000-01-10    0.363555\n2000-01-11    0.504538\n2000-01-12    1.642736\n2000-01-13   -1.897355\n2000-01-14   -0.251795\n2000-01-15    0.227602\n2000-01-16    0.048643\n2000-01-17    1.206500\n2000-01-18   -0.052373\n2000-01-19    1.603625\n2000-01-20   -1.240269\n2000-01-21   -0.259511\n2000-01-22   -0.047658\n2000-01-23   -0.186926\n2000-01-24    0.552348\n2000-01-25   -0.751128\n2000-01-26   -0.051779\n2000-01-27   -0.446296\n2000-01-28    1.361540\n2000-01-29    0.053426\n2000-01-30    0.735089\n                ...   \n2002-08-28   -0.613634\n2002-08-29    1.958802\n2002-08-30   -1.276198\n2002-08-31    2.274109\n2002-09-01    0.069073\n2002-09-02    0.340418\n2002-09-03    0.650912\n2002-09-04    0.657233\n2002-09-05    0.336324\n2002-09-06   -1.178678\n2002-09-07    1.249604\n2002-09-08   -0.036225\n2002-09-09   -2.335659\n2002-09-10    1.309994\n2002-09-11    0.855734\n2002-09-12   -0.025233\n2002-09-13    0.515371\n2002-09-14   -1.026523\n2002-09-15    1.175402\n2002-09-16    0.255058\n2002-09-17   -1.191897\n2002-09-18   -2.802044\n2002-09-19   -0.789364\n2002-09-20    1.036762\n2002-09-21   -0.796026\n2002-09-22   -2.654019\n2002-09-23    1.530167\n2002-09-24    0.030016\n2002-09-25    0.217478\n2002-09-26   -1.133463\nFreq: D, Length: 1000, dtype: float64"
      ]
     },
     "execution_count": 6,
     "metadata": {},
     "output_type": "execute_result"
    },
    {
     "data": {
      "text/plain": [
       "2001-01-01   -0.499492\n2001-01-02   -0.253930\n2001-01-03    2.249595\n2001-01-04   -0.048737\n2001-01-05   -0.840165\n2001-01-06   -0.077093\n2001-01-07   -0.664682\n2001-01-08    0.027312\n2001-01-09    1.172401\n2001-01-10   -0.490403\n2001-01-11   -2.588948\n2001-01-12    0.292352\n2001-01-13    0.028621\n2001-01-14    0.321449\n2001-01-15   -1.602154\n2001-01-16   -2.207095\n2001-01-17    0.678153\n2001-01-18    0.333345\n2001-01-19    0.289177\n2001-01-20    0.035663\n2001-01-21    0.834418\n2001-01-22   -0.545329\n2001-01-23    0.702615\n2001-01-24   -0.479973\n2001-01-25   -0.086280\n2001-01-26   -0.047856\n2001-01-27    1.093288\n2001-01-28    0.100433\n2001-01-29   -1.516955\n2001-01-30   -1.115753\n                ...   \n2001-12-02    0.282626\n2001-12-03    0.146936\n2001-12-04   -0.278412\n2001-12-05    1.549884\n2001-12-06    1.223313\n2001-12-07   -0.470824\n2001-12-08    0.202077\n2001-12-09   -0.076353\n2001-12-10    1.842582\n2001-12-11   -0.297259\n2001-12-12   -0.150655\n2001-12-13    0.031124\n2001-12-14   -0.692840\n2001-12-15   -0.327455\n2001-12-16    0.449504\n2001-12-17   -0.691985\n2001-12-18   -0.935076\n2001-12-19   -1.001819\n2001-12-20    0.382915\n2001-12-21    0.054397\n2001-12-22    0.016479\n2001-12-23   -0.463919\n2001-12-24   -0.413908\n2001-12-25    0.008152\n2001-12-26    0.831716\n2001-12-27    1.832171\n2001-12-28    1.762592\n2001-12-29    0.860988\n2001-12-30    0.183417\n2001-12-31    1.018891\nFreq: D, Length: 365, dtype: float64"
      ]
     },
     "execution_count": 6,
     "metadata": {},
     "output_type": "execute_result"
    },
    {
     "data": {
      "text/plain": [
       "2011-01-07   -0.122547\n2011-01-08   -0.954296\n2011-01-10    0.931601\n2011-01-12   -1.267576\ndtype: float64"
      ]
     },
     "execution_count": 6,
     "metadata": {},
     "output_type": "execute_result"
    }
   ],
   "source": [
    "# indexing, selection, subsetting\n",
    "stamp = ts.index[2]\n",
    "stamp\n",
    "ts[stamp]\n",
    "# As a convenience, you can also pass a string that is interpretable as a date\n",
    "ts['1/10/2011']\n",
    "ts['20110110']\n",
    "\n",
    "# for longer time series\n",
    "longer_ts = pd.Series(np.random.randn(1000),\n",
    "                      index=pd.date_range('1/1/2000', periods=1000))\n",
    "longer_ts\n",
    "longer_ts['2001']   # selects time period of whole 2001 year\n",
    "# slicing with datetime object\n",
    "ts[datetime(2011, 1, 7):]"
   ]
  },
  {
   "cell_type": "code",
   "execution_count": 7,
   "metadata": {},
   "outputs": [
    {
     "data": {
      "text/plain": [
       "2011-01-02   -0.084716\n2011-01-05   -0.184652\n2011-01-07   -0.122547\n2011-01-08   -0.954296\n2011-01-10    0.931601\n2011-01-12   -1.267576\ndtype: float64"
      ]
     },
     "execution_count": 7,
     "metadata": {},
     "output_type": "execute_result"
    },
    {
     "data": {
      "text/plain": [
       "2011-01-07   -0.122547\n2011-01-08   -0.954296\n2011-01-10    0.931601\ndtype: float64"
      ]
     },
     "execution_count": 7,
     "metadata": {},
     "output_type": "execute_result"
    },
    {
     "data": {
      "text/plain": [
       "2011-01-02   -0.084716\n2011-01-05   -0.184652\n2011-01-07   -0.122547\n2011-01-08   -0.954296\ndtype: float64"
      ]
     },
     "execution_count": 7,
     "metadata": {},
     "output_type": "execute_result"
    }
   ],
   "source": [
    "# slice with timestamps not contained in a time series to perform a range query, slicing produces views\n",
    "ts\n",
    "ts['1/6/2011': '1/11/2011']\n",
    "ts.truncate(after='1/9/2011')\n"
   ]
  },
  {
   "cell_type": "code",
   "execution_count": 8,
   "metadata": {},
   "outputs": [
    {
     "data": {
      "text/plain": [
       "DatetimeIndex(['2000-01-05', '2000-01-12', '2000-01-19', '2000-01-26',\n               '2000-02-02', '2000-02-09', '2000-02-16', '2000-02-23',\n               '2000-03-01', '2000-03-08', '2000-03-15', '2000-03-22',\n               '2000-03-29', '2000-04-05', '2000-04-12', '2000-04-19',\n               '2000-04-26', '2000-05-03', '2000-05-10', '2000-05-17',\n               '2000-05-24', '2000-05-31', '2000-06-07', '2000-06-14',\n               '2000-06-21', '2000-06-28', '2000-07-05', '2000-07-12',\n               '2000-07-19', '2000-07-26', '2000-08-02', '2000-08-09',\n               '2000-08-16', '2000-08-23', '2000-08-30', '2000-09-06',\n               '2000-09-13', '2000-09-20', '2000-09-27', '2000-10-04',\n               '2000-10-11', '2000-10-18', '2000-10-25', '2000-11-01',\n               '2000-11-08', '2000-11-15', '2000-11-22', '2000-11-29',\n               '2000-12-06', '2000-12-13', '2000-12-20', '2000-12-27',\n               '2001-01-03', '2001-01-10', '2001-01-17', '2001-01-24',\n               '2001-01-31', '2001-02-07', '2001-02-14', '2001-02-21',\n               '2001-02-28', '2001-03-07', '2001-03-14', '2001-03-21',\n               '2001-03-28', '2001-04-04', '2001-04-11', '2001-04-18',\n               '2001-04-25', '2001-05-02', '2001-05-09', '2001-05-16',\n               '2001-05-23', '2001-05-30', '2001-06-06', '2001-06-13',\n               '2001-06-20', '2001-06-27', '2001-07-04', '2001-07-11',\n               '2001-07-18', '2001-07-25', '2001-08-01', '2001-08-08',\n               '2001-08-15', '2001-08-22', '2001-08-29', '2001-09-05',\n               '2001-09-12', '2001-09-19', '2001-09-26', '2001-10-03',\n               '2001-10-10', '2001-10-17', '2001-10-24', '2001-10-31',\n               '2001-11-07', '2001-11-14', '2001-11-21', '2001-11-28'],\n              dtype='datetime64[ns]', freq='W-WED')"
      ]
     },
     "execution_count": 8,
     "metadata": {},
     "output_type": "execute_result"
    },
    {
     "data": {
      "text/html": [
       "<div>\n",
       "<style scoped>\n",
       "    .dataframe tbody tr th:only-of-type {\n",
       "        vertical-align: middle;\n",
       "    }\n",
       "\n",
       "    .dataframe tbody tr th {\n",
       "        vertical-align: top;\n",
       "    }\n",
       "\n",
       "    .dataframe thead th {\n",
       "        text-align: right;\n",
       "    }\n",
       "</style>\n",
       "<table border=\"1\" class=\"dataframe\">\n",
       "  <thead>\n",
       "    <tr style=\"text-align: right;\">\n",
       "      <th></th>\n",
       "      <th>Colorado</th>\n",
       "      <th>Texas</th>\n",
       "      <th>New York</th>\n",
       "      <th>Ohio</th>\n",
       "    </tr>\n",
       "  </thead>\n",
       "  <tbody>\n",
       "    <tr>\n",
       "      <th>2001-05-02</th>\n",
       "      <td>0.073904</td>\n",
       "      <td>-0.347607</td>\n",
       "      <td>1.636189</td>\n",
       "      <td>2.261138</td>\n",
       "    </tr>\n",
       "    <tr>\n",
       "      <th>2001-05-09</th>\n",
       "      <td>-1.303656</td>\n",
       "      <td>-0.327417</td>\n",
       "      <td>-0.426688</td>\n",
       "      <td>-0.553281</td>\n",
       "    </tr>\n",
       "    <tr>\n",
       "      <th>2001-05-16</th>\n",
       "      <td>-1.939264</td>\n",
       "      <td>-0.909407</td>\n",
       "      <td>-0.097087</td>\n",
       "      <td>0.869816</td>\n",
       "    </tr>\n",
       "    <tr>\n",
       "      <th>2001-05-23</th>\n",
       "      <td>0.195423</td>\n",
       "      <td>-0.605214</td>\n",
       "      <td>0.033732</td>\n",
       "      <td>-0.873392</td>\n",
       "    </tr>\n",
       "    <tr>\n",
       "      <th>2001-05-30</th>\n",
       "      <td>-0.172758</td>\n",
       "      <td>0.490027</td>\n",
       "      <td>-0.067670</td>\n",
       "      <td>-1.194851</td>\n",
       "    </tr>\n",
       "  </tbody>\n",
       "</table>\n",
       "</div>"
      ],
      "text/plain": [
       "<div>\n",
       "<style scoped>\n",
       "    .dataframe tbody tr th:only-of-type {\n",
       "        vertical-align: middle;\n",
       "    }\n",
       "\n",
       "    .dataframe tbody tr th {\n",
       "        vertical-align: top;\n",
       "    }\n",
       "\n",
       "    .dataframe thead th {\n",
       "        text-align: right;\n",
       "    }\n",
       "</style>\n",
       "<table border=\"1\" class=\"dataframe\">\n",
       "  <thead>\n",
       "    <tr style=\"text-align: right;\">\n",
       "      <th></th>\n",
       "      <th>Colorado</th>\n",
       "      <th>Texas</th>\n",
       "      <th>New York</th>\n",
       "      <th>Ohio</th>\n",
       "    </tr>\n",
       "  </thead>\n",
       "  <tbody>\n",
       "    <tr>\n",
       "      <th>2001-05-02</th>\n",
       "      <td>0.073904</td>\n",
       "      <td>-0.347607</td>\n",
       "      <td>1.636189</td>\n",
       "      <td>2.261138</td>\n",
       "    </tr>\n",
       "    <tr>\n",
       "      <th>2001-05-09</th>\n",
       "      <td>-1.303656</td>\n",
       "      <td>-0.327417</td>\n",
       "      <td>-0.426688</td>\n",
       "      <td>-0.553281</td>\n",
       "    </tr>\n",
       "    <tr>\n",
       "      <th>2001-05-16</th>\n",
       "      <td>-1.939264</td>\n",
       "      <td>-0.909407</td>\n",
       "      <td>-0.097087</td>\n",
       "      <td>0.869816</td>\n",
       "    </tr>\n",
       "    <tr>\n",
       "      <th>2001-05-23</th>\n",
       "      <td>0.195423</td>\n",
       "      <td>-0.605214</td>\n",
       "      <td>0.033732</td>\n",
       "      <td>-0.873392</td>\n",
       "    </tr>\n",
       "    <tr>\n",
       "      <th>2001-05-30</th>\n",
       "      <td>-0.172758</td>\n",
       "      <td>0.490027</td>\n",
       "      <td>-0.067670</td>\n",
       "      <td>-1.194851</td>\n",
       "    </tr>\n",
       "  </tbody>\n",
       "</table>\n",
       "</div>"
      ]
     },
     "execution_count": 8,
     "metadata": {},
     "output_type": "execute_result"
    }
   ],
   "source": [
    "# holds true for DataFrame as well, indexing on its rows\n",
    "dates = pd.date_range('1/1/2000', periods=100, freq='W-WED')\n",
    "dates\n",
    "long_df = pd.DataFrame(np.random.randn(100, 4),\n",
    "                       index=dates,\n",
    "                       columns=['Colorado', 'Texas',\n",
    "                                'New York', 'Ohio'])\n",
    "long_df.loc['5-2001']"
   ]
  },
  {
   "cell_type": "code",
   "execution_count": 9,
   "metadata": {},
   "outputs": [
    {
     "data": {
      "text/plain": [
       "2000-01-01    0\n2000-01-02    1\n2000-01-02    2\n2000-01-02    3\n2000-01-03    4\ndtype: int32"
      ]
     },
     "execution_count": 9,
     "metadata": {},
     "output_type": "execute_result"
    },
    {
     "data": {
      "text/plain": [
       "2000-01-02    1\n2000-01-02    2\n2000-01-02    3\ndtype: int32"
      ]
     },
     "execution_count": 9,
     "metadata": {},
     "output_type": "execute_result"
    },
    {
     "data": {
      "text/plain": [
       "2000-01-01    0\n2000-01-02    2\n2000-01-03    4\ndtype: int32"
      ]
     },
     "execution_count": 9,
     "metadata": {},
     "output_type": "execute_result"
    }
   ],
   "source": [
    "# time series with duplicate indices\n",
    "dates = pd.DatetimeIndex(['1/1/2000', '1/2/2000', '1/2/2000',\n",
    "                          '1/2/2000', '1/3/2000'])\n",
    "dup_ts = pd.Series(np.arange(5), index=dates)\n",
    "dup_ts\n",
    "dup_ts['1/2/2000']\n",
    "grouped = dup_ts.groupby(level=0)\n",
    "grouped.mean()\n"
   ]
  },
  {
   "cell_type": "code",
   "execution_count": 10,
   "metadata": {},
   "outputs": [
    {
     "data": {
      "text/plain": [
       "2011-01-02   -0.084716\n2011-01-05   -0.184652\n2011-01-07   -0.122547\n2011-01-08   -0.954296\n2011-01-10    0.931601\n2011-01-12   -1.267576\ndtype: float64"
      ]
     },
     "execution_count": 10,
     "metadata": {},
     "output_type": "execute_result"
    },
    {
     "data": {
      "text/plain": [
       "DatetimeIndexResampler [freq=<Day>, axis=0, closed=left, label=left, convention=start, base=0]"
      ]
     },
     "execution_count": 10,
     "metadata": {},
     "output_type": "execute_result"
    }
   ],
   "source": [
    "# date ranges, frequencies, and shifting\n",
    "# pandas has a\n",
    "# full suite of standard time series frequencies and tools for resampling, inferring frequencies,\n",
    "# and generating fixed-frequency date ranges. For example, you can convert\n",
    "# the sample time series to be fixed daily frequency by calling resample:\n",
    "ts\n",
    "resampler = ts.resample('D')    # 'D' is interpreted as daily frequency\n",
    "resampler\n"
   ]
  },
  {
   "cell_type": "code",
   "execution_count": 11,
   "metadata": {},
   "outputs": [
    {
     "data": {
      "text/plain": [
       "DatetimeIndex(['2012-04-01', '2012-04-02', '2012-04-03', '2012-04-04',\n               '2012-04-05', '2012-04-06', '2012-04-07', '2012-04-08',\n               '2012-04-09', '2012-04-10', '2012-04-11', '2012-04-12',\n               '2012-04-13', '2012-04-14', '2012-04-15', '2012-04-16',\n               '2012-04-17', '2012-04-18', '2012-04-19', '2012-04-20',\n               '2012-04-21', '2012-04-22', '2012-04-23', '2012-04-24',\n               '2012-04-25', '2012-04-26', '2012-04-27', '2012-04-28',\n               '2012-04-29', '2012-04-30', '2012-05-01', '2012-05-02',\n               '2012-05-03', '2012-05-04', '2012-05-05', '2012-05-06',\n               '2012-05-07', '2012-05-08', '2012-05-09', '2012-05-10',\n               '2012-05-11', '2012-05-12', '2012-05-13', '2012-05-14',\n               '2012-05-15', '2012-05-16', '2012-05-17', '2012-05-18',\n               '2012-05-19', '2012-05-20', '2012-05-21', '2012-05-22',\n               '2012-05-23', '2012-05-24', '2012-05-25', '2012-05-26',\n               '2012-05-27', '2012-05-28', '2012-05-29', '2012-05-30',\n               '2012-05-31', '2012-06-01'],\n              dtype='datetime64[ns]', freq='D')"
      ]
     },
     "execution_count": 11,
     "metadata": {},
     "output_type": "execute_result"
    },
    {
     "data": {
      "text/plain": [
       "DatetimeIndex(['2012-04-01', '2012-04-02', '2012-04-03', '2012-04-04',\n               '2012-04-05', '2012-04-06', '2012-04-07', '2012-04-08',\n               '2012-04-09', '2012-04-10', '2012-04-11', '2012-04-12',\n               '2012-04-13', '2012-04-14', '2012-04-15', '2012-04-16',\n               '2012-04-17', '2012-04-18', '2012-04-19', '2012-04-20'],\n              dtype='datetime64[ns]', freq='D')"
      ]
     },
     "execution_count": 11,
     "metadata": {},
     "output_type": "execute_result"
    },
    {
     "data": {
      "text/plain": [
       "DatetimeIndex(['2012-03-13', '2012-03-14', '2012-03-15', '2012-03-16',\n               '2012-03-17', '2012-03-18', '2012-03-19', '2012-03-20',\n               '2012-03-21', '2012-03-22', '2012-03-23', '2012-03-24',\n               '2012-03-25', '2012-03-26', '2012-03-27', '2012-03-28',\n               '2012-03-29', '2012-03-30', '2012-03-31', '2012-04-01'],\n              dtype='datetime64[ns]', freq='D')"
      ]
     },
     "execution_count": 11,
     "metadata": {},
     "output_type": "execute_result"
    },
    {
     "data": {
      "text/plain": [
       "DatetimeIndex(['2000-01-31', '2000-02-29', '2000-03-31', '2000-04-28',\n               '2000-05-31', '2000-06-30', '2000-07-31', '2000-08-31',\n               '2000-09-29', '2000-10-31', '2000-11-30'],\n              dtype='datetime64[ns]', freq='BM')"
      ]
     },
     "execution_count": 11,
     "metadata": {},
     "output_type": "execute_result"
    },
    {
     "data": {
      "text/plain": [
       "DatetimeIndex(['2000-01-03', '2000-01-04', '2000-01-05', '2000-01-06',\n               '2000-01-07', '2000-01-10', '2000-01-11', '2000-01-12',\n               '2000-01-13', '2000-01-14', '2000-01-17', '2000-01-18',\n               '2000-01-19', '2000-01-20', '2000-01-21', '2000-01-24',\n               '2000-01-25', '2000-01-26', '2000-01-27', '2000-01-28',\n               '2000-01-31', '2000-02-01'],\n              dtype='datetime64[ns]', freq='B')"
      ]
     },
     "execution_count": 11,
     "metadata": {},
     "output_type": "execute_result"
    },
    {
     "data": {
      "text/plain": [
       "DatetimeIndex(['2000-01-01 00:00:00', '2000-01-01 01:00:00',\n               '2000-01-01 02:00:00', '2000-01-01 03:00:00',\n               '2000-01-01 04:00:00', '2000-01-01 05:00:00',\n               '2000-01-01 06:00:00', '2000-01-01 07:00:00',\n               '2000-01-01 08:00:00', '2000-01-01 09:00:00',\n               ...\n               '2000-01-31 15:00:00', '2000-01-31 16:00:00',\n               '2000-01-31 17:00:00', '2000-01-31 18:00:00',\n               '2000-01-31 19:00:00', '2000-01-31 20:00:00',\n               '2000-01-31 21:00:00', '2000-01-31 22:00:00',\n               '2000-01-31 23:00:00', '2000-02-01 00:00:00'],\n              dtype='datetime64[ns]', length=745, freq='H')"
      ]
     },
     "execution_count": 11,
     "metadata": {},
     "output_type": "execute_result"
    },
    {
     "data": {
      "text/plain": [
       "DatetimeIndex(['2012-05-02 12:56:31', '2012-05-03 12:56:31',\n               '2012-05-04 12:56:31', '2012-05-05 12:56:31',\n               '2012-05-06 12:56:31'],\n              dtype='datetime64[ns]', freq='D')"
      ]
     },
     "execution_count": 11,
     "metadata": {},
     "output_type": "execute_result"
    },
    {
     "data": {
      "text/plain": [
       "DatetimeIndex(['2012-05-02', '2012-05-03', '2012-05-04', '2012-05-05',\n               '2012-05-06'],\n              dtype='datetime64[ns]', freq='D')"
      ]
     },
     "execution_count": 11,
     "metadata": {},
     "output_type": "execute_result"
    }
   ],
   "source": [
    "# generating date ranges\n",
    "# date_range is responsible for generating a DatetimeIndex with an indicated length according to a particular frequency\n",
    "index = pd.date_range('2012-04-01', '2012-06-01')\n",
    "index\n",
    "pd.date_range(start='2012-04-01', periods=20)\n",
    "pd.date_range(end='2012-04-01', periods=20)\n",
    "# if you wanted a date index containing the last business day of each month, you would pass the 'BM' frequency\n",
    "pd.date_range('2000-01-01', '2000-12-01', freq='BM')\n",
    "pd.date_range('2000-01-01', '2000-02-01', freq='B')  # only businessday\n",
    "pd.date_range('2000-01-01', '2000-02-01', freq='H')\n",
    "# by default preserves the time\n",
    "pd.date_range('2012-05-02 12:56:31', periods=5)\n",
    "pd.date_range('2012-05-02 12:56:31', periods=5, normalize=True)\n"
   ]
  },
  {
   "cell_type": "code",
   "execution_count": 12,
   "metadata": {},
   "outputs": [
    {
     "data": {
      "text/plain": [
       "<Hour>"
      ]
     },
     "execution_count": 12,
     "metadata": {},
     "output_type": "execute_result"
    },
    {
     "data": {
      "text/plain": [
       "<4 * Hours>"
      ]
     },
     "execution_count": 12,
     "metadata": {},
     "output_type": "execute_result"
    },
    {
     "data": {
      "text/plain": [
       "DatetimeIndex(['2000-01-01 00:00:00', '2000-01-01 04:00:00',\n               '2000-01-01 08:00:00', '2000-01-01 12:00:00',\n               '2000-01-01 16:00:00', '2000-01-01 20:00:00',\n               '2000-01-02 00:00:00', '2000-01-02 04:00:00',\n               '2000-01-02 08:00:00', '2000-01-02 12:00:00',\n               '2000-01-02 16:00:00', '2000-01-02 20:00:00',\n               '2000-01-03 00:00:00'],\n              dtype='datetime64[ns]', freq='4H')"
      ]
     },
     "execution_count": 12,
     "metadata": {},
     "output_type": "execute_result"
    },
    {
     "data": {
      "text/plain": [
       "DatetimeIndex(['2000-01-01 00:00:00', '2000-01-01 01:30:00',\n               '2000-01-01 03:00:00', '2000-01-01 04:30:00',\n               '2000-01-01 06:00:00', '2000-01-01 07:30:00',\n               '2000-01-01 09:00:00', '2000-01-01 10:30:00',\n               '2000-01-01 12:00:00', '2000-01-01 13:30:00',\n               '2000-01-01 15:00:00', '2000-01-01 16:30:00',\n               '2000-01-01 18:00:00', '2000-01-01 19:30:00',\n               '2000-01-01 21:00:00', '2000-01-01 22:30:00',\n               '2000-01-02 00:00:00', '2000-01-02 01:30:00',\n               '2000-01-02 03:00:00', '2000-01-02 04:30:00',\n               '2000-01-02 06:00:00', '2000-01-02 07:30:00',\n               '2000-01-02 09:00:00', '2000-01-02 10:30:00',\n               '2000-01-02 12:00:00', '2000-01-02 13:30:00',\n               '2000-01-02 15:00:00', '2000-01-02 16:30:00',\n               '2000-01-02 18:00:00', '2000-01-02 19:30:00',\n               '2000-01-02 21:00:00', '2000-01-02 22:30:00',\n               '2000-01-03 00:00:00'],\n              dtype='datetime64[ns]', freq='90T')"
      ]
     },
     "execution_count": 12,
     "metadata": {},
     "output_type": "execute_result"
    },
    {
     "data": {
      "text/plain": [
       "[Timestamp('2012-01-20 00:00:00', freq='WOM-3FRI'),\n Timestamp('2012-02-17 00:00:00', freq='WOM-3FRI'),\n Timestamp('2012-03-16 00:00:00', freq='WOM-3FRI'),\n Timestamp('2012-04-20 00:00:00', freq='WOM-3FRI'),\n Timestamp('2012-05-18 00:00:00', freq='WOM-3FRI'),\n Timestamp('2012-06-15 00:00:00', freq='WOM-3FRI'),\n Timestamp('2012-07-20 00:00:00', freq='WOM-3FRI'),\n Timestamp('2012-08-17 00:00:00', freq='WOM-3FRI')]"
      ]
     },
     "execution_count": 12,
     "metadata": {},
     "output_type": "execute_result"
    }
   ],
   "source": [
    "# frequencies and date offsets\n",
    "# date offset\n",
    "from pandas.tseries.offsets import Hour, Minute\n",
    "hour = Hour()\n",
    "hour\n",
    "Hour(4)\n",
    "# mostly you would never need to explicitly create one of these objects\n",
    "pd.date_range('2000-01-01', '2000-01-03', freq='4h')\n",
    "pd.date_range('2000-01-01', '2000-01-03', freq='1h30min')\n",
    "# week of month dates\n",
    "# one useful frequency class is 'week of month' starting with WOM which enables you to get dates like the third Friday or so\n",
    "rng = pd.date_range('2012-01-01', '2012-09-01', freq='WOM-3FRI')\n",
    "list(rng)"
   ]
  },
  {
   "cell_type": "code",
   "execution_count": 13,
   "metadata": {},
   "outputs": [
    {
     "data": {
      "text/plain": [
       "2000-01-31   -0.651579\n2000-02-29    0.707420\n2000-03-31    0.975092\n2000-04-30   -0.121033\nFreq: M, dtype: float64"
      ]
     },
     "execution_count": 13,
     "metadata": {},
     "output_type": "execute_result"
    },
    {
     "data": {
      "text/plain": [
       "2000-01-31         NaN\n2000-02-29         NaN\n2000-03-31   -0.651579\n2000-04-30    0.707420\nFreq: M, dtype: float64"
      ]
     },
     "execution_count": 13,
     "metadata": {},
     "output_type": "execute_result"
    },
    {
     "data": {
      "text/plain": [
       "2000-01-31    0.975092\n2000-02-29   -0.121033\n2000-03-31         NaN\n2000-04-30         NaN\nFreq: M, dtype: float64"
      ]
     },
     "execution_count": 13,
     "metadata": {},
     "output_type": "execute_result"
    },
    {
     "data": {
      "text/plain": [
       "2000-01-31         NaN\n2000-02-29   -2.085701\n2000-03-31    0.378378\n2000-04-30   -1.124124\nFreq: M, dtype: float64"
      ]
     },
     "execution_count": 13,
     "metadata": {},
     "output_type": "execute_result"
    },
    {
     "data": {
      "text/plain": [
       "2000-03-31   -0.651579\n2000-04-30    0.707420\n2000-05-31    0.975092\n2000-06-30   -0.121033\nFreq: M, dtype: float64"
      ]
     },
     "execution_count": 13,
     "metadata": {},
     "output_type": "execute_result"
    },
    {
     "data": {
      "text/plain": [
       "2000-02-02   -0.651579\n2000-03-02    0.707420\n2000-04-02    0.975092\n2000-05-02   -0.121033\ndtype: float64"
      ]
     },
     "execution_count": 13,
     "metadata": {},
     "output_type": "execute_result"
    },
    {
     "data": {
      "text/plain": [
       "2000-01-31 01:30:00   -0.651579\n2000-02-29 01:30:00    0.707420\n2000-03-31 01:30:00    0.975092\n2000-04-30 01:30:00   -0.121033\nFreq: M, dtype: float64"
      ]
     },
     "execution_count": 13,
     "metadata": {},
     "output_type": "execute_result"
    }
   ],
   "source": [
    "# shifting(leading and lagging) data\n",
    "ts = pd.Series(np.random.randn(4),\n",
    "               index=pd.date_range('1/1/2000', periods=4, freq='M'))\n",
    "ts\n",
    "ts.shift(2)\n",
    "ts.shift(-2)\n",
    "# a common use of shift is computing percent changes in a time series or multiple time series\n",
    "ts / ts.shift(1) - 1\n",
    "ts.shift(2, freq='M')\n",
    "ts.shift(2, freq='D')\n",
    "ts.shift(1, freq='90T')"
   ]
  },
  {
   "cell_type": "code",
   "execution_count": 14,
   "metadata": {},
   "outputs": [
    {
     "data": {
      "text/plain": [
       "Timestamp('2011-11-20 00:00:00')"
      ]
     },
     "execution_count": 14,
     "metadata": {},
     "output_type": "execute_result"
    },
    {
     "data": {
      "text/plain": [
       "Timestamp('2011-11-30 00:00:00')"
      ]
     },
     "execution_count": 14,
     "metadata": {},
     "output_type": "execute_result"
    },
    {
     "data": {
      "text/plain": [
       "Timestamp('2011-12-31 00:00:00')"
      ]
     },
     "execution_count": 14,
     "metadata": {},
     "output_type": "execute_result"
    },
    {
     "data": {
      "text/plain": [
       "Timestamp('2011-11-30 00:00:00')"
      ]
     },
     "execution_count": 14,
     "metadata": {},
     "output_type": "execute_result"
    },
    {
     "data": {
      "text/plain": [
       "Timestamp('2011-10-31 00:00:00')"
      ]
     },
     "execution_count": 14,
     "metadata": {},
     "output_type": "execute_result"
    },
    {
     "data": {
      "text/plain": [
       "2000-01-15    0.214333\n2000-01-19   -0.111563\n2000-01-23   -0.130894\n2000-01-27   -1.565741\n2000-01-31    0.532515\n2000-02-04   -0.685466\n2000-02-08    0.642385\n2000-02-12   -0.212566\n2000-02-16   -0.794000\n2000-02-20    1.003586\n2000-02-24   -0.531780\n2000-02-28   -1.289922\n2000-03-03    0.902329\n2000-03-07    1.369027\n2000-03-11    0.846799\n2000-03-15    0.372214\n2000-03-19    0.801918\n2000-03-23    0.751525\n2000-03-27   -0.483494\n2000-03-31    0.933828\nFreq: 4D, dtype: float64"
      ]
     },
     "execution_count": 14,
     "metadata": {},
     "output_type": "execute_result"
    },
    {
     "data": {
      "text/plain": [
       "2000-01-31   -0.212270\n2000-02-29   -0.266823\n2000-03-31    0.686768\ndtype: float64"
      ]
     },
     "execution_count": 14,
     "metadata": {},
     "output_type": "execute_result"
    },
    {
     "data": {
      "text/plain": [
       "2000-01-31   -0.212270\n2000-02-29   -0.266823\n2000-03-31    0.686768\nFreq: M, dtype: float64"
      ]
     },
     "execution_count": 14,
     "metadata": {},
     "output_type": "execute_result"
    }
   ],
   "source": [
    "# shifting dates with offsets\n",
    "from pandas.tseries.offsets import Day, MonthEnd\n",
    "\n",
    "now = datetime(2011, 11, 17)\n",
    "now + 3 * Day()\n",
    "now + MonthEnd()\n",
    "now + MonthEnd(2)\n",
    "offset = MonthEnd()\n",
    "offset.rollforward(now)\n",
    "offset.rollback(now)\n",
    "# a creative use of date offsets is to use these methods with groupby\n",
    "ts = pd.Series(np.random.randn(20),\n",
    "               index=pd.date_range('1/15/2000', periods=20, freq='4d'))\n",
    "ts\n",
    "ts.groupby(offset.rollforward).mean()\n",
    "# an easier way is to use resample\n",
    "ts.resample('M').mean()"
   ]
  },
  {
   "cell_type": "code",
   "execution_count": 21,
   "metadata": {},
   "outputs": [
    {
     "data": {
      "text/plain": [
       "['US/Eastern', 'US/Hawaii', 'US/Mountain', 'US/Pacific', 'UTC']"
      ]
     },
     "execution_count": 21,
     "metadata": {},
     "output_type": "execute_result"
    },
    {
     "data": {
      "text/plain": [
       "'Africa/Bissau'"
      ]
     },
     "execution_count": 21,
     "metadata": {},
     "output_type": "execute_result"
    },
    {
     "data": {
      "text/plain": [
       "<DstTzInfo 'America/Los_Angeles' LMT-1 day, 16:07:00 STD>"
      ]
     },
     "execution_count": 21,
     "metadata": {},
     "output_type": "execute_result"
    }
   ],
   "source": [
    "# time zone handling\n",
    "# timezone are expressed as offsets from UTC\n",
    "import pytz\n",
    "\n",
    "pytz.common_timezones[-5:]\n",
    "pytz.common_timezones[8]\n",
    "tz = pytz.timezone('America/Los_Angeles')   # create a time zone object from pytz, use pytz.timezone\n",
    "tz"
   ]
  },
  {
   "cell_type": "code",
   "execution_count": 27,
   "metadata": {},
   "outputs": [
    {
     "data": {
      "text/plain": [
       "2012-03-03 09:30:00    0.492451\n2012-03-04 09:30:00    0.130291\n2012-03-05 09:30:00   -0.021208\n2012-03-06 09:30:00   -0.617962\n2012-03-07 09:30:00   -0.365079\n2012-03-08 09:30:00    0.143581\nFreq: D, dtype: float64"
      ]
     },
     "execution_count": 27,
     "metadata": {},
     "output_type": "execute_result"
    },
    {
     "name": "stdout",
     "output_type": "stream",
     "text": [
      "None\n"
     ]
    },
    {
     "data": {
      "text/plain": [
       "DatetimeIndex(['2012-03-09 09:30:00+00:00', '2012-03-10 09:30:00+00:00',\n               '2012-03-11 09:30:00+00:00', '2012-03-12 09:30:00+00:00',\n               '2012-03-13 09:30:00+00:00', '2012-03-14 09:30:00+00:00',\n               '2012-03-15 09:30:00+00:00', '2012-03-16 09:30:00+00:00',\n               '2012-03-17 09:30:00+00:00', '2012-03-18 09:30:00+00:00'],\n              dtype='datetime64[ns, UTC]', freq='D')"
      ]
     },
     "execution_count": 27,
     "metadata": {},
     "output_type": "execute_result"
    },
    {
     "data": {
      "text/plain": [
       "2012-03-03 09:30:00    0.492451\n2012-03-04 09:30:00    0.130291\n2012-03-05 09:30:00   -0.021208\n2012-03-06 09:30:00   -0.617962\n2012-03-07 09:30:00   -0.365079\n2012-03-08 09:30:00    0.143581\nFreq: D, dtype: float64"
      ]
     },
     "execution_count": 27,
     "metadata": {},
     "output_type": "execute_result"
    },
    {
     "data": {
      "text/plain": [
       "2012-03-03 09:30:00+00:00    0.492451\n2012-03-04 09:30:00+00:00    0.130291\n2012-03-05 09:30:00+00:00   -0.021208\n2012-03-06 09:30:00+00:00   -0.617962\n2012-03-07 09:30:00+00:00   -0.365079\n2012-03-08 09:30:00+00:00    0.143581\nFreq: D, dtype: float64"
      ]
     },
     "execution_count": 27,
     "metadata": {},
     "output_type": "execute_result"
    },
    {
     "data": {
      "text/plain": [
       "2012-03-03 04:30:00-05:00    0.492451\n2012-03-04 04:30:00-05:00    0.130291\n2012-03-05 04:30:00-05:00   -0.021208\n2012-03-06 04:30:00-05:00   -0.617962\n2012-03-07 04:30:00-05:00   -0.365079\n2012-03-08 04:30:00-05:00    0.143581\nFreq: D, dtype: float64"
      ]
     },
     "execution_count": 27,
     "metadata": {},
     "output_type": "execute_result"
    },
    {
     "data": {
      "text/plain": [
       "2012-03-03 14:30:00+00:00    0.492451\n2012-03-04 14:30:00+00:00    0.130291\n2012-03-05 14:30:00+00:00   -0.021208\n2012-03-06 14:30:00+00:00   -0.617962\n2012-03-07 14:30:00+00:00   -0.365079\n2012-03-08 14:30:00+00:00    0.143581\nFreq: D, dtype: float64"
      ]
     },
     "execution_count": 27,
     "metadata": {},
     "output_type": "execute_result"
    },
    {
     "data": {
      "text/plain": [
       "2012-03-03 15:30:00+01:00    0.492451\n2012-03-04 15:30:00+01:00    0.130291\n2012-03-05 15:30:00+01:00   -0.021208\n2012-03-06 15:30:00+01:00   -0.617962\n2012-03-07 15:30:00+01:00   -0.365079\n2012-03-08 15:30:00+01:00    0.143581\nFreq: D, dtype: float64"
      ]
     },
     "execution_count": 27,
     "metadata": {},
     "output_type": "execute_result"
    },
    {
     "data": {
      "text/plain": [
       "DatetimeIndex(['2012-03-03 09:30:00+08:00', '2012-03-04 09:30:00+08:00',\n               '2012-03-05 09:30:00+08:00', '2012-03-06 09:30:00+08:00',\n               '2012-03-07 09:30:00+08:00', '2012-03-08 09:30:00+08:00'],\n              dtype='datetime64[ns, Asia/Shanghai]', freq='D')"
      ]
     },
     "execution_count": 27,
     "metadata": {},
     "output_type": "execute_result"
    }
   ],
   "source": [
    "# time zone localization and conversion\n",
    "rng = pd.date_range('3/3/2012 9:30', periods=6, freq='D')\n",
    "ts = pd.Series(np.random.randn(len(rng)), index=rng)\n",
    "ts\n",
    "print(ts.index.tz)  # tz field is None\n",
    "pd.date_range('3/9/2012 9:30', periods=10, freq='D', tz='UTC')\n",
    "ts\n",
    "ts_utc = ts.tz_localize('UTC')\n",
    "ts_utc\n",
    "ts_utc.tz_convert('America/New_York')\n",
    "ts_eastern = ts.tz_localize('America/New_York')\n",
    "ts_western = ts.tz_localize('America/Los_Angeles')\n",
    "ts_eastern.tz_convert('UTC')\n",
    "ts_eastern.tz_convert('Europe/Berlin')\n",
    "ts.index.tz_localize('Asia/Shanghai')"
   ]
  },
  {
   "cell_type": "code",
   "execution_count": 29,
   "metadata": {},
   "outputs": [
    {
     "data": {
      "text/plain": [
       "Timestamp('2011-03-11 23:00:00-0500', tz='America/New_York')"
      ]
     },
     "execution_count": 29,
     "metadata": {},
     "output_type": "execute_result"
    },
    {
     "data": {
      "text/plain": [
       "1299902400000000000"
      ]
     },
     "execution_count": 29,
     "metadata": {},
     "output_type": "execute_result"
    }
   ],
   "source": [
    "# operations with timezone-aware timestamp objects\n",
    "stamp = pd.Timestamp('2011-03-12 04:00')\n",
    "stamp_utc = stamp.tz_localize('utc')\n",
    "stamp_utc.tz_convert('America/New_York')\n",
    "stamp_utc.value  # store a UTC timestamp value as nanoseconds since the Unix epoch(Jan 1, 1970) invariant between time zone conversions"
   ]
  },
  {
   "cell_type": "code",
   "execution_count": 32,
   "metadata": {},
   "outputs": [
    {
     "data": {
      "text/plain": [
       "2012-03-07 09:30:00   -0.349608\n2012-03-08 09:30:00    0.835816\n2012-03-09 09:30:00    0.291087\n2012-03-12 09:30:00    0.738305\n2012-03-13 09:30:00    0.227230\n2012-03-14 09:30:00    0.873977\n2012-03-15 09:30:00    0.774193\n2012-03-16 09:30:00    0.678232\n2012-03-19 09:30:00   -0.371990\n2012-03-20 09:30:00   -0.017194\nFreq: B, dtype: float64"
      ]
     },
     "execution_count": 32,
     "metadata": {},
     "output_type": "execute_result"
    },
    {
     "data": {
      "text/plain": [
       "DatetimeIndex(['2012-03-07 09:30:00+00:00', '2012-03-08 09:30:00+00:00',\n               '2012-03-09 09:30:00+00:00', '2012-03-12 09:30:00+00:00',\n               '2012-03-13 09:30:00+00:00', '2012-03-14 09:30:00+00:00',\n               '2012-03-15 09:30:00+00:00'],\n              dtype='datetime64[ns, Europe/London]', freq='B')"
      ]
     },
     "execution_count": 32,
     "metadata": {},
     "output_type": "execute_result"
    },
    {
     "data": {
      "text/plain": [
       "DatetimeIndex(['2012-03-09 13:30:00+04:00', '2012-03-12 13:30:00+04:00',\n               '2012-03-13 13:30:00+04:00', '2012-03-14 13:30:00+04:00',\n               '2012-03-15 13:30:00+04:00'],\n              dtype='datetime64[ns, Europe/Moscow]', freq='B')"
      ]
     },
     "execution_count": 32,
     "metadata": {},
     "output_type": "execute_result"
    },
    {
     "data": {
      "text/plain": [
       "DatetimeIndex(['2012-03-07 09:30:00+00:00', '2012-03-08 09:30:00+00:00',\n               '2012-03-09 09:30:00+00:00', '2012-03-12 09:30:00+00:00',\n               '2012-03-13 09:30:00+00:00', '2012-03-14 09:30:00+00:00',\n               '2012-03-15 09:30:00+00:00'],\n              dtype='datetime64[ns, UTC]', freq='B')"
      ]
     },
     "execution_count": 32,
     "metadata": {},
     "output_type": "execute_result"
    }
   ],
   "source": [
    "# operations between different time zones\n",
    "# If two time series with different time zones are combined, the result will be UTC.\n",
    "rng = pd.date_range('3/7/2012 9:30', periods=10, freq='B')\n",
    "ts = pd.Series(np.random.randn(len(rng)), index=rng)\n",
    "ts\n",
    "ts1 = ts[:7].tz_localize('Europe/London')\n",
    "ts1.index\n",
    "ts2 = ts1[2:].tz_convert('Europe/Moscow')\n",
    "ts2.index\n",
    "result = ts1 + ts2\n",
    "result.index"
   ]
  },
  {
   "cell_type": "code",
   "execution_count": null,
   "metadata": {},
   "outputs": [],
   "source": []
  }
 ],
 "metadata": {
  "kernelspec": {
   "display_name": "Python 2",
   "language": "python",
   "name": "python2"
  },
  "language_info": {
   "codemirror_mode": {
    "name": "ipython",
    "version": 2
   },
   "file_extension": ".py",
   "mimetype": "text/x-python",
   "name": "python",
   "nbconvert_exporter": "python",
   "pygments_lexer": "ipython2",
   "version": "2.7.6"
  }
 },
 "nbformat": 4,
 "nbformat_minor": 0
}
