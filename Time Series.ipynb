{
 "cells": [
  {
   "cell_type": "code",
   "execution_count": 1,
   "metadata": {
    "collapsed": true
   },
   "outputs": [],
   "source": [
    "from IPython.core.interactiveshell import InteractiveShell\n",
    "InteractiveShell.ast_node_interactivity = \"all\""
   ]
  },
  {
   "cell_type": "code",
   "execution_count": 2,
   "metadata": {},
   "outputs": [
    {
     "data": {
      "text/plain": [
       "'\\nAnything that is observed or measured at many points in time forms a time series. Many time series are fixed frequency\\n• Timestamps, specific instants in time\\n• Fixed periods, such as the month January 2007 or the full year 2010\\n• Intervals of time, indicated by a start and end timestamp. Periods can be thought\\nof as special cases of intervals\\n• Experiment or elapsed time; each timestamp is a measure of time relative to a\\nparticular start time (e.g., the diameter of a cookie baking each second since\\nbeing placed in the oven)\\n'"
      ]
     },
     "execution_count": 2,
     "metadata": {},
     "output_type": "execute_result"
    },
    {
     "data": {
      "text/plain": [
       "datetime.datetime(2020, 2, 18, 15, 8, 16, 347267)"
      ]
     },
     "execution_count": 2,
     "metadata": {},
     "output_type": "execute_result"
    },
    {
     "data": {
      "text/plain": [
       "(2020, 2, 18)"
      ]
     },
     "execution_count": 2,
     "metadata": {},
     "output_type": "execute_result"
    },
    {
     "data": {
      "text/plain": [
       "datetime.timedelta(926, 56700)"
      ]
     },
     "execution_count": 2,
     "metadata": {},
     "output_type": "execute_result"
    },
    {
     "data": {
      "text/plain": [
       "(926, 56700)"
      ]
     },
     "execution_count": 2,
     "metadata": {},
     "output_type": "execute_result"
    },
    {
     "data": {
      "text/plain": [
       "datetime.datetime(2011, 1, 19, 0, 0)"
      ]
     },
     "execution_count": 2,
     "metadata": {},
     "output_type": "execute_result"
    }
   ],
   "source": [
    "\"\"\"\n",
    "Anything that is observed or measured at many points in time forms a time series. Many time series are fixed frequency\n",
    "• Timestamps, specific instants in time\n",
    "• Fixed periods, such as the month January 2007 or the full year 2010\n",
    "• Intervals of time, indicated by a start and end timestamp. Periods can be thought\n",
    "of as special cases of intervals\n",
    "• Experiment or elapsed time; each timestamp is a measure of time relative to a\n",
    "particular start time (e.g., the diameter of a cookie baking each second since\n",
    "being placed in the oven)\n",
    "\"\"\"\n",
    "# Date and Time data types and tools\n",
    "from datetime import datetime, timedelta\n",
    "now = datetime.now()\n",
    "now\n",
    "now.year, now.month, now.day\n",
    "delta = datetime(2011, 1, 7) - datetime(2008, 6, 24, 8, 15)\n",
    "delta\n",
    "delta.days, delta.seconds\n",
    "start = datetime(2011, 1, 7)\n",
    "start + timedelta(12)   # days = 12"
   ]
  },
  {
   "cell_type": "code",
   "execution_count": 3,
   "metadata": {},
   "outputs": [
    {
     "data": {
      "text/plain": [
       "'2011-01-03 00:00:00'"
      ]
     },
     "execution_count": 3,
     "metadata": {},
     "output_type": "execute_result"
    },
    {
     "data": {
      "text/plain": [
       "'2011-01-03'"
      ]
     },
     "execution_count": 3,
     "metadata": {},
     "output_type": "execute_result"
    },
    {
     "data": {
      "text/plain": [
       "'11-01-03-1'"
      ]
     },
     "execution_count": 3,
     "metadata": {},
     "output_type": "execute_result"
    },
    {
     "data": {
      "text/plain": [
       "'2011-01-03'"
      ]
     },
     "execution_count": 3,
     "metadata": {},
     "output_type": "execute_result"
    },
    {
     "data": {
      "text/plain": [
       "'\\n%Y Four-digit year\\n%y Two-digit year\\n%m Two-digit month [01, 12]\\n%d Two-digit day [01, 31]\\n%H Hour (24-hour clock) [00, 23]\\n%I Hour (12-hour clock) [01, 12]\\n%M Two-digit minute [00, 59]\\n%S Second [00, 61] (seconds 60, 61 account for leap seconds)\\n%w Weekday as integer [0 (Sunday), 6]\\n%U Week number of the year [00, 53]; Sunday is considered the first day of the week, and days before the first Sunday of\\nthe year are “week 0”\\n%W Week number of the year [00, 53]; Monday is considered the first day of the week, and days before the first Monday of\\nthe year are “week 0”\\n%z UTC time zone offset as +HHMM or -HHMM; empty if time zone naive\\n%F Shortcut for %Y-%m-%d (e.g., 2012-4-18)\\n%D Shortcut for %m/%d/%y (e.g., 04/18/12)\\n'"
      ]
     },
     "execution_count": 3,
     "metadata": {},
     "output_type": "execute_result"
    },
    {
     "ename": "ValueError",
     "evalue": "'F' is a bad directive in format '%F'",
     "traceback": [
      "\u001b[1;31m---------------------------------------------------------------------------\u001b[0m",
      "\u001b[1;31mValueError\u001b[0m                                Traceback (most recent call last)",
      "\u001b[1;32m<ipython-input-3-54257083867e>\u001b[0m in \u001b[0;36m<module>\u001b[1;34m\u001b[0m\n\u001b[0;32m     25\u001b[0m \u001b[1;31m# from str to datetime\u001b[0m\u001b[1;33m\u001b[0m\u001b[1;33m\u001b[0m\u001b[0m\n\u001b[0;32m     26\u001b[0m \u001b[0mvalue\u001b[0m \u001b[1;33m=\u001b[0m \u001b[1;34m'2011-01-03'\u001b[0m\u001b[1;33m\u001b[0m\u001b[0m\n\u001b[1;32m---> 27\u001b[1;33m \u001b[0mdatetime\u001b[0m\u001b[1;33m.\u001b[0m\u001b[0mstrptime\u001b[0m\u001b[1;33m(\u001b[0m\u001b[0mvalue\u001b[0m\u001b[1;33m,\u001b[0m \u001b[1;34m'%F'\u001b[0m\u001b[1;33m)\u001b[0m\u001b[1;33m\u001b[0m\u001b[0m\n\u001b[0m\u001b[0;32m     28\u001b[0m \u001b[1;31m# parser.parse method in the third-party dateutil package\u001b[0m\u001b[1;33m\u001b[0m\u001b[1;33m\u001b[0m\u001b[0m\n\u001b[0;32m     29\u001b[0m \u001b[1;32mfrom\u001b[0m \u001b[0mdateutil\u001b[0m\u001b[1;33m.\u001b[0m\u001b[0mparser\u001b[0m \u001b[1;32mimport\u001b[0m \u001b[0mparse\u001b[0m\u001b[1;33m\u001b[0m\u001b[0m\n",
      "\u001b[1;32md:\\python3.6\\lib\\_strptime.py\u001b[0m in \u001b[0;36m_strptime_datetime\u001b[1;34m(cls, data_string, format)\u001b[0m\n\u001b[0;32m    563\u001b[0m     \"\"\"Return a class cls instance based on the input string and the\n\u001b[0;32m    564\u001b[0m     format string.\"\"\"\n\u001b[1;32m--> 565\u001b[1;33m     \u001b[0mtt\u001b[0m\u001b[1;33m,\u001b[0m \u001b[0mfraction\u001b[0m \u001b[1;33m=\u001b[0m \u001b[0m_strptime\u001b[0m\u001b[1;33m(\u001b[0m\u001b[0mdata_string\u001b[0m\u001b[1;33m,\u001b[0m \u001b[0mformat\u001b[0m\u001b[1;33m)\u001b[0m\u001b[1;33m\u001b[0m\u001b[0m\n\u001b[0m\u001b[0;32m    566\u001b[0m     \u001b[0mtzname\u001b[0m\u001b[1;33m,\u001b[0m \u001b[0mgmtoff\u001b[0m \u001b[1;33m=\u001b[0m \u001b[0mtt\u001b[0m\u001b[1;33m[\u001b[0m\u001b[1;33m-\u001b[0m\u001b[1;36m2\u001b[0m\u001b[1;33m:\u001b[0m\u001b[1;33m]\u001b[0m\u001b[1;33m\u001b[0m\u001b[0m\n\u001b[0;32m    567\u001b[0m     \u001b[0margs\u001b[0m \u001b[1;33m=\u001b[0m \u001b[0mtt\u001b[0m\u001b[1;33m[\u001b[0m\u001b[1;33m:\u001b[0m\u001b[1;36m6\u001b[0m\u001b[1;33m]\u001b[0m \u001b[1;33m+\u001b[0m \u001b[1;33m(\u001b[0m\u001b[0mfraction\u001b[0m\u001b[1;33m,\u001b[0m\u001b[1;33m)\u001b[0m\u001b[1;33m\u001b[0m\u001b[0m\n",
      "\u001b[1;32md:\\python3.6\\lib\\_strptime.py\u001b[0m in \u001b[0;36m_strptime\u001b[1;34m(data_string, format)\u001b[0m\n\u001b[0;32m    352\u001b[0m                 \u001b[1;32mdel\u001b[0m \u001b[0merr\u001b[0m\u001b[1;33m\u001b[0m\u001b[0m\n\u001b[0;32m    353\u001b[0m                 raise ValueError(\"'%s' is a bad directive in format '%s'\" %\n\u001b[1;32m--> 354\u001b[1;33m                                     (bad_directive, format)) from None\n\u001b[0m\u001b[0;32m    355\u001b[0m             \u001b[1;31m# IndexError only occurs when the format string is \"%\"\u001b[0m\u001b[1;33m\u001b[0m\u001b[1;33m\u001b[0m\u001b[0m\n\u001b[0;32m    356\u001b[0m             \u001b[1;32mexcept\u001b[0m \u001b[0mIndexError\u001b[0m\u001b[1;33m:\u001b[0m\u001b[1;33m\u001b[0m\u001b[0m\n",
      "\u001b[1;31mValueError\u001b[0m: 'F' is a bad directive in format '%F'"
     ],
     "output_type": "error"
    }
   ],
   "source": [
    "# converting between string and datetime\n",
    "stamp = datetime(2011, 1, 3)\n",
    "str(stamp)\n",
    "stamp.strftime('%Y-%m-%d')\n",
    "stamp.strftime('%y-%m-%d-%w')\n",
    "stamp.strftime('%F')\n",
    "\"\"\"\n",
    "%Y Four-digit year\n",
    "%y Two-digit year\n",
    "%m Two-digit month [01, 12]\n",
    "%d Two-digit day [01, 31]\n",
    "%H Hour (24-hour clock) [00, 23]\n",
    "%I Hour (12-hour clock) [01, 12]\n",
    "%M Two-digit minute [00, 59]\n",
    "%S Second [00, 61] (seconds 60, 61 account for leap seconds)\n",
    "%w Weekday as integer [0 (Sunday), 6]\n",
    "%U Week number of the year [00, 53]; Sunday is considered the first day of the week, and days before the first Sunday of\n",
    "the year are “week 0”\n",
    "%W Week number of the year [00, 53]; Monday is considered the first day of the week, and days before the first Monday of\n",
    "the year are “week 0”\n",
    "%z UTC time zone offset as +HHMM or -HHMM; empty if time zone naive\n",
    "%F Shortcut for %Y-%m-%d (e.g., 2012-4-18)\n",
    "%D Shortcut for %m/%d/%y (e.g., 04/18/12)\n",
    "\"\"\"\n",
    "# from str to datetime\n",
    "value = '2011-01-03'\n",
    "datetime.strptime(value, '%F')\n",
    "# parser.parse method in the third-party dateutil package\n",
    "from dateutil.parser import parse\n",
    "parse('2011-01-03')\n",
    "parse('Jan 31, 1997 10:45 PM')\n",
    "parse('6/12/2011', dayfirst=True)   # day appearing before month\n",
    "# dateutil.parser is a useful but imperfect tool. it will recognize some strings as dates that you might prefer that it didn't\n",
    "# '42' will be parsed as the year 2042"
   ]
  },
  {
   "cell_type": "code",
   "execution_count": 4,
   "metadata": {},
   "outputs": [
    {
     "data": {
      "text/plain": [
       "DatetimeIndex(['2011-07-06 12:00:00', '2011-08-06 00:00:00'], dtype='datetime64[ns]', freq=None)"
      ]
     },
     "execution_count": 4,
     "metadata": {},
     "output_type": "execute_result"
    },
    {
     "data": {
      "text/plain": [
       "DatetimeIndex(['2011-07-06 12:00:00', '2011-08-06 00:00:00', 'NaT'], dtype='datetime64[ns]', freq=None)"
      ]
     },
     "execution_count": 4,
     "metadata": {},
     "output_type": "execute_result"
    },
    {
     "data": {
      "text/plain": [
       "array([False, False,  True])"
      ]
     },
     "execution_count": 4,
     "metadata": {},
     "output_type": "execute_result"
    }
   ],
   "source": [
    "import pandas as pd\n",
    "\n",
    "datestrs = ['2011-07-06 12:00:00', '2011-08-06 00:00:00']\n",
    "pd.to_datetime(datestrs)\n",
    "idx = pd.to_datetime(datestrs + [None])\n",
    "idx\n",
    "pd.isnull(idx)"
   ]
  },
  {
   "cell_type": "code",
   "execution_count": 5,
   "metadata": {},
   "outputs": [
    {
     "data": {
      "text/plain": [
       "2011-07-06 12:00:00    1.649798\n2011-08-06 00:00:00    0.456721\nNaT                    0.111264\ndtype: float64"
      ]
     },
     "execution_count": 5,
     "metadata": {},
     "output_type": "execute_result"
    },
    {
     "data": {
      "text/plain": [
       "2011-01-02    0.715327\n2011-01-05    0.756917\n2011-01-07    0.649669\n2011-01-08   -1.250535\n2011-01-10    1.262826\n2011-01-12    1.720687\ndtype: float64"
      ]
     },
     "execution_count": 5,
     "metadata": {},
     "output_type": "execute_result"
    },
    {
     "data": {
      "text/plain": [
       "DatetimeIndex(['2011-01-02', '2011-01-05', '2011-01-07', '2011-01-08',\n               '2011-01-10', '2011-01-12'],\n              dtype='datetime64[ns]', freq=None)"
      ]
     },
     "execution_count": 5,
     "metadata": {},
     "output_type": "execute_result"
    },
    {
     "data": {
      "text/plain": [
       "2011-01-02    1.430654\n2011-01-05         NaN\n2011-01-07    1.299338\n2011-01-08         NaN\n2011-01-10    2.525651\n2011-01-12         NaN\ndtype: float64"
      ]
     },
     "execution_count": 5,
     "metadata": {},
     "output_type": "execute_result"
    },
    {
     "data": {
      "text/plain": [
       "Timestamp('2011-01-02 00:00:00')"
      ]
     },
     "execution_count": 5,
     "metadata": {},
     "output_type": "execute_result"
    }
   ],
   "source": [
    "# time series basics\n",
    "import numpy as np\n",
    "from datetime import datetime\n",
    "\n",
    "dates = [datetime(2011, 1, 2), datetime(2011, 1, 5),\n",
    "         datetime(2011, 1, 7), datetime(2011, 1, 8),\n",
    "         datetime(2011, 1, 10), datetime(2011, 1, 12)]\n",
    "ts = pd.Series(np.random.randn(3), index=idx)\n",
    "ts\n",
    "ts = pd.Series(np.random.randn(6), index=dates)\n",
    "ts\n",
    "ts.index\n",
    "ts + ts[::2]\n",
    "stamp = ts.index[0]\n",
    "stamp"
   ]
  },
  {
   "cell_type": "code",
   "execution_count": 6,
   "metadata": {},
   "outputs": [
    {
     "data": {
      "text/plain": [
       "Timestamp('2011-01-07 00:00:00')"
      ]
     },
     "execution_count": 6,
     "metadata": {},
     "output_type": "execute_result"
    },
    {
     "data": {
      "text/plain": [
       "0.6496690446138357"
      ]
     },
     "execution_count": 6,
     "metadata": {},
     "output_type": "execute_result"
    },
    {
     "data": {
      "text/plain": [
       "1.262825603258606"
      ]
     },
     "execution_count": 6,
     "metadata": {},
     "output_type": "execute_result"
    },
    {
     "data": {
      "text/plain": [
       "1.262825603258606"
      ]
     },
     "execution_count": 6,
     "metadata": {},
     "output_type": "execute_result"
    },
    {
     "data": {
      "text/plain": [
       "2000-01-01    2.226228\n2000-01-02   -0.372992\n2000-01-03    1.291018\n2000-01-04   -0.326265\n2000-01-05   -0.276326\n2000-01-06   -0.355569\n2000-01-07    0.194608\n2000-01-08   -0.890136\n2000-01-09    0.379868\n2000-01-10    0.734949\n2000-01-11   -0.550603\n2000-01-12   -0.228024\n2000-01-13   -1.153591\n2000-01-14    0.558844\n2000-01-15   -0.800265\n2000-01-16    0.137146\n2000-01-17    0.210986\n2000-01-18    0.066799\n2000-01-19    0.129609\n2000-01-20   -0.053827\n2000-01-21   -1.245547\n2000-01-22    0.681900\n2000-01-23    0.659660\n2000-01-24    0.781386\n2000-01-25   -1.390673\n2000-01-26   -0.995112\n2000-01-27    0.212307\n2000-01-28    0.461557\n2000-01-29    1.670926\n2000-01-30   -0.615635\n                ...   \n2002-08-28    1.312226\n2002-08-29   -1.079289\n2002-08-30   -0.400025\n2002-08-31    0.219371\n2002-09-01    0.426936\n2002-09-02    0.801212\n2002-09-03   -0.338356\n2002-09-04    0.821953\n2002-09-05    0.418181\n2002-09-06   -0.758751\n2002-09-07   -0.311996\n2002-09-08   -0.561633\n2002-09-09    0.687106\n2002-09-10    1.563034\n2002-09-11   -0.275647\n2002-09-12    1.196182\n2002-09-13    0.187648\n2002-09-14    1.607224\n2002-09-15   -0.363981\n2002-09-16    0.719437\n2002-09-17   -1.120590\n2002-09-18   -0.272811\n2002-09-19   -2.313125\n2002-09-20    3.144302\n2002-09-21   -1.070027\n2002-09-22   -1.170998\n2002-09-23    1.086533\n2002-09-24   -0.324724\n2002-09-25    0.155579\n2002-09-26   -0.848689\nFreq: D, Length: 1000, dtype: float64"
      ]
     },
     "execution_count": 6,
     "metadata": {},
     "output_type": "execute_result"
    },
    {
     "data": {
      "text/plain": [
       "2001-01-01    0.375831\n2001-01-02   -0.932422\n2001-01-03   -2.045705\n2001-01-04   -2.193407\n2001-01-05    0.073083\n2001-01-06   -0.188490\n2001-01-07    0.097755\n2001-01-08   -0.456239\n2001-01-09   -0.937280\n2001-01-10   -0.946649\n2001-01-11   -0.619414\n2001-01-12    0.262100\n2001-01-13   -0.342497\n2001-01-14    2.005820\n2001-01-15   -0.907864\n2001-01-16    0.145399\n2001-01-17    0.454555\n2001-01-18   -1.020103\n2001-01-19   -0.359284\n2001-01-20   -0.407811\n2001-01-21    0.638532\n2001-01-22   -0.056133\n2001-01-23   -0.621321\n2001-01-24    1.035227\n2001-01-25   -0.001365\n2001-01-26   -0.612778\n2001-01-27    2.096310\n2001-01-28   -1.197693\n2001-01-29    2.041561\n2001-01-30    0.498086\n                ...   \n2001-12-02    0.569753\n2001-12-03   -0.928173\n2001-12-04    1.429428\n2001-12-05    0.904111\n2001-12-06    0.072477\n2001-12-07    0.162621\n2001-12-08   -0.797783\n2001-12-09    0.330374\n2001-12-10    1.492985\n2001-12-11   -0.142104\n2001-12-12    1.382928\n2001-12-13    0.827944\n2001-12-14    0.858848\n2001-12-15    0.241499\n2001-12-16    0.173902\n2001-12-17    0.839521\n2001-12-18    1.211528\n2001-12-19   -0.954992\n2001-12-20   -0.335094\n2001-12-21   -0.507138\n2001-12-22    2.596756\n2001-12-23    0.292271\n2001-12-24   -0.665761\n2001-12-25    0.508281\n2001-12-26    0.343136\n2001-12-27   -2.300676\n2001-12-28    0.178329\n2001-12-29   -1.435214\n2001-12-30   -1.414760\n2001-12-31    0.911688\nFreq: D, Length: 365, dtype: float64"
      ]
     },
     "execution_count": 6,
     "metadata": {},
     "output_type": "execute_result"
    },
    {
     "data": {
      "text/plain": [
       "2011-01-07    0.649669\n2011-01-08   -1.250535\n2011-01-10    1.262826\n2011-01-12    1.720687\ndtype: float64"
      ]
     },
     "execution_count": 6,
     "metadata": {},
     "output_type": "execute_result"
    }
   ],
   "source": [
    "# indexing, selection, subsetting\n",
    "stamp = ts.index[2]\n",
    "stamp\n",
    "ts[stamp]\n",
    "# As a convenience, you can also pass a string that is interpretable as a date\n",
    "ts['1/10/2011']\n",
    "ts['20110110']\n",
    "\n",
    "# for longer time series\n",
    "longer_ts = pd.Series(np.random.randn(1000),\n",
    "                      index=pd.date_range('1/1/2000', periods=1000))\n",
    "longer_ts\n",
    "longer_ts['2001']   # selects time period of whole 2001 year\n",
    "# slicing with datetime object\n",
    "ts[datetime(2011, 1, 7):]"
   ]
  },
  {
   "cell_type": "code",
   "execution_count": 7,
   "metadata": {},
   "outputs": [
    {
     "data": {
      "text/plain": [
       "2011-01-02    0.715327\n2011-01-05    0.756917\n2011-01-07    0.649669\n2011-01-08   -1.250535\n2011-01-10    1.262826\n2011-01-12    1.720687\ndtype: float64"
      ]
     },
     "execution_count": 7,
     "metadata": {},
     "output_type": "execute_result"
    },
    {
     "data": {
      "text/plain": [
       "2011-01-07    0.649669\n2011-01-08   -1.250535\n2011-01-10    1.262826\ndtype: float64"
      ]
     },
     "execution_count": 7,
     "metadata": {},
     "output_type": "execute_result"
    },
    {
     "data": {
      "text/plain": [
       "2011-01-02    0.715327\n2011-01-05    0.756917\n2011-01-07    0.649669\n2011-01-08   -1.250535\ndtype: float64"
      ]
     },
     "execution_count": 7,
     "metadata": {},
     "output_type": "execute_result"
    }
   ],
   "source": [
    "# slice with timestamps not contained in a time series to perform a range query, slicing produces views\n",
    "ts\n",
    "ts['1/6/2011': '1/11/2011']\n",
    "ts.truncate(after='1/9/2011')\n"
   ]
  },
  {
   "cell_type": "code",
   "execution_count": 8,
   "metadata": {},
   "outputs": [
    {
     "data": {
      "text/plain": [
       "DatetimeIndex(['2000-01-05', '2000-01-12', '2000-01-19', '2000-01-26',\n               '2000-02-02', '2000-02-09', '2000-02-16', '2000-02-23',\n               '2000-03-01', '2000-03-08', '2000-03-15', '2000-03-22',\n               '2000-03-29', '2000-04-05', '2000-04-12', '2000-04-19',\n               '2000-04-26', '2000-05-03', '2000-05-10', '2000-05-17',\n               '2000-05-24', '2000-05-31', '2000-06-07', '2000-06-14',\n               '2000-06-21', '2000-06-28', '2000-07-05', '2000-07-12',\n               '2000-07-19', '2000-07-26', '2000-08-02', '2000-08-09',\n               '2000-08-16', '2000-08-23', '2000-08-30', '2000-09-06',\n               '2000-09-13', '2000-09-20', '2000-09-27', '2000-10-04',\n               '2000-10-11', '2000-10-18', '2000-10-25', '2000-11-01',\n               '2000-11-08', '2000-11-15', '2000-11-22', '2000-11-29',\n               '2000-12-06', '2000-12-13', '2000-12-20', '2000-12-27',\n               '2001-01-03', '2001-01-10', '2001-01-17', '2001-01-24',\n               '2001-01-31', '2001-02-07', '2001-02-14', '2001-02-21',\n               '2001-02-28', '2001-03-07', '2001-03-14', '2001-03-21',\n               '2001-03-28', '2001-04-04', '2001-04-11', '2001-04-18',\n               '2001-04-25', '2001-05-02', '2001-05-09', '2001-05-16',\n               '2001-05-23', '2001-05-30', '2001-06-06', '2001-06-13',\n               '2001-06-20', '2001-06-27', '2001-07-04', '2001-07-11',\n               '2001-07-18', '2001-07-25', '2001-08-01', '2001-08-08',\n               '2001-08-15', '2001-08-22', '2001-08-29', '2001-09-05',\n               '2001-09-12', '2001-09-19', '2001-09-26', '2001-10-03',\n               '2001-10-10', '2001-10-17', '2001-10-24', '2001-10-31',\n               '2001-11-07', '2001-11-14', '2001-11-21', '2001-11-28'],\n              dtype='datetime64[ns]', freq='W-WED')"
      ]
     },
     "execution_count": 8,
     "metadata": {},
     "output_type": "execute_result"
    },
    {
     "data": {
      "text/html": [
       "<div>\n",
       "<style scoped>\n",
       "    .dataframe tbody tr th:only-of-type {\n",
       "        vertical-align: middle;\n",
       "    }\n",
       "\n",
       "    .dataframe tbody tr th {\n",
       "        vertical-align: top;\n",
       "    }\n",
       "\n",
       "    .dataframe thead th {\n",
       "        text-align: right;\n",
       "    }\n",
       "</style>\n",
       "<table border=\"1\" class=\"dataframe\">\n",
       "  <thead>\n",
       "    <tr style=\"text-align: right;\">\n",
       "      <th></th>\n",
       "      <th>Colorado</th>\n",
       "      <th>Texas</th>\n",
       "      <th>New York</th>\n",
       "      <th>Ohio</th>\n",
       "    </tr>\n",
       "  </thead>\n",
       "  <tbody>\n",
       "    <tr>\n",
       "      <th>2001-05-02</th>\n",
       "      <td>-1.634552</td>\n",
       "      <td>-0.459202</td>\n",
       "      <td>0.184533</td>\n",
       "      <td>0.705621</td>\n",
       "    </tr>\n",
       "    <tr>\n",
       "      <th>2001-05-09</th>\n",
       "      <td>0.678235</td>\n",
       "      <td>-0.612991</td>\n",
       "      <td>0.382822</td>\n",
       "      <td>-0.474643</td>\n",
       "    </tr>\n",
       "    <tr>\n",
       "      <th>2001-05-16</th>\n",
       "      <td>0.017702</td>\n",
       "      <td>0.243652</td>\n",
       "      <td>-1.414015</td>\n",
       "      <td>1.362887</td>\n",
       "    </tr>\n",
       "    <tr>\n",
       "      <th>2001-05-23</th>\n",
       "      <td>-2.340715</td>\n",
       "      <td>-0.522536</td>\n",
       "      <td>1.321039</td>\n",
       "      <td>0.783216</td>\n",
       "    </tr>\n",
       "    <tr>\n",
       "      <th>2001-05-30</th>\n",
       "      <td>-0.446368</td>\n",
       "      <td>0.530365</td>\n",
       "      <td>0.475904</td>\n",
       "      <td>0.091022</td>\n",
       "    </tr>\n",
       "  </tbody>\n",
       "</table>\n",
       "</div>"
      ],
      "text/plain": [
       "<div>\n",
       "<style scoped>\n",
       "    .dataframe tbody tr th:only-of-type {\n",
       "        vertical-align: middle;\n",
       "    }\n",
       "\n",
       "    .dataframe tbody tr th {\n",
       "        vertical-align: top;\n",
       "    }\n",
       "\n",
       "    .dataframe thead th {\n",
       "        text-align: right;\n",
       "    }\n",
       "</style>\n",
       "<table border=\"1\" class=\"dataframe\">\n",
       "  <thead>\n",
       "    <tr style=\"text-align: right;\">\n",
       "      <th></th>\n",
       "      <th>Colorado</th>\n",
       "      <th>Texas</th>\n",
       "      <th>New York</th>\n",
       "      <th>Ohio</th>\n",
       "    </tr>\n",
       "  </thead>\n",
       "  <tbody>\n",
       "    <tr>\n",
       "      <th>2001-05-02</th>\n",
       "      <td>-1.634552</td>\n",
       "      <td>-0.459202</td>\n",
       "      <td>0.184533</td>\n",
       "      <td>0.705621</td>\n",
       "    </tr>\n",
       "    <tr>\n",
       "      <th>2001-05-09</th>\n",
       "      <td>0.678235</td>\n",
       "      <td>-0.612991</td>\n",
       "      <td>0.382822</td>\n",
       "      <td>-0.474643</td>\n",
       "    </tr>\n",
       "    <tr>\n",
       "      <th>2001-05-16</th>\n",
       "      <td>0.017702</td>\n",
       "      <td>0.243652</td>\n",
       "      <td>-1.414015</td>\n",
       "      <td>1.362887</td>\n",
       "    </tr>\n",
       "    <tr>\n",
       "      <th>2001-05-23</th>\n",
       "      <td>-2.340715</td>\n",
       "      <td>-0.522536</td>\n",
       "      <td>1.321039</td>\n",
       "      <td>0.783216</td>\n",
       "    </tr>\n",
       "    <tr>\n",
       "      <th>2001-05-30</th>\n",
       "      <td>-0.446368</td>\n",
       "      <td>0.530365</td>\n",
       "      <td>0.475904</td>\n",
       "      <td>0.091022</td>\n",
       "    </tr>\n",
       "  </tbody>\n",
       "</table>\n",
       "</div>"
      ]
     },
     "execution_count": 8,
     "metadata": {},
     "output_type": "execute_result"
    }
   ],
   "source": [
    "# holds true for DataFrame as well, indexing on its rows\n",
    "dates = pd.date_range('1/1/2000', periods=100, freq='W-WED')\n",
    "dates\n",
    "long_df = pd.DataFrame(np.random.randn(100, 4),\n",
    "                       index=dates,\n",
    "                       columns=['Colorado', 'Texas',\n",
    "                                'New York', 'Ohio'])\n",
    "long_df.loc['5-2001']"
   ]
  },
  {
   "cell_type": "code",
   "execution_count": 9,
   "metadata": {},
   "outputs": [
    {
     "data": {
      "text/plain": [
       "2000-01-01    0\n2000-01-02    1\n2000-01-02    2\n2000-01-02    3\n2000-01-03    4\ndtype: int32"
      ]
     },
     "execution_count": 9,
     "metadata": {},
     "output_type": "execute_result"
    },
    {
     "data": {
      "text/plain": [
       "2000-01-02    1\n2000-01-02    2\n2000-01-02    3\ndtype: int32"
      ]
     },
     "execution_count": 9,
     "metadata": {},
     "output_type": "execute_result"
    },
    {
     "data": {
      "text/plain": [
       "2000-01-01    0\n2000-01-02    2\n2000-01-03    4\ndtype: int32"
      ]
     },
     "execution_count": 9,
     "metadata": {},
     "output_type": "execute_result"
    }
   ],
   "source": [
    "# time series with duplicate indices\n",
    "dates = pd.DatetimeIndex(['1/1/2000', '1/2/2000', '1/2/2000',\n",
    "                          '1/2/2000', '1/3/2000'])\n",
    "dup_ts = pd.Series(np.arange(5), index=dates)\n",
    "dup_ts\n",
    "dup_ts['1/2/2000']\n",
    "grouped = dup_ts.groupby(level=0)\n",
    "grouped.mean()\n"
   ]
  },
  {
   "cell_type": "code",
   "execution_count": 10,
   "metadata": {},
   "outputs": [
    {
     "data": {
      "text/plain": [
       "2011-01-02    0.715327\n2011-01-05    0.756917\n2011-01-07    0.649669\n2011-01-08   -1.250535\n2011-01-10    1.262826\n2011-01-12    1.720687\ndtype: float64"
      ]
     },
     "execution_count": 10,
     "metadata": {},
     "output_type": "execute_result"
    },
    {
     "data": {
      "text/plain": [
       "DatetimeIndexResampler [freq=<Day>, axis=0, closed=left, label=left, convention=start, base=0]"
      ]
     },
     "execution_count": 10,
     "metadata": {},
     "output_type": "execute_result"
    }
   ],
   "source": [
    "# date ranges, frequencies, and shifting\n",
    "# pandas has a\n",
    "# full suite of standard time series frequencies and tools for resampling, inferring frequencies,\n",
    "# and generating fixed-frequency date ranges. For example, you can convert\n",
    "# the sample time series to be fixed daily frequency by calling resample:\n",
    "ts\n",
    "resampler = ts.resample('D')    # 'D' is interpreted as daily frequency\n",
    "resampler\n"
   ]
  },
  {
   "cell_type": "code",
   "execution_count": 14,
   "metadata": {},
   "outputs": [
    {
     "data": {
      "text/plain": [
       "DatetimeIndex(['2012-04-01', '2012-04-02', '2012-04-03', '2012-04-04',\n               '2012-04-05', '2012-04-06', '2012-04-07', '2012-04-08',\n               '2012-04-09', '2012-04-10', '2012-04-11', '2012-04-12',\n               '2012-04-13', '2012-04-14', '2012-04-15', '2012-04-16',\n               '2012-04-17', '2012-04-18', '2012-04-19', '2012-04-20',\n               '2012-04-21', '2012-04-22', '2012-04-23', '2012-04-24',\n               '2012-04-25', '2012-04-26', '2012-04-27', '2012-04-28',\n               '2012-04-29', '2012-04-30', '2012-05-01', '2012-05-02',\n               '2012-05-03', '2012-05-04', '2012-05-05', '2012-05-06',\n               '2012-05-07', '2012-05-08', '2012-05-09', '2012-05-10',\n               '2012-05-11', '2012-05-12', '2012-05-13', '2012-05-14',\n               '2012-05-15', '2012-05-16', '2012-05-17', '2012-05-18',\n               '2012-05-19', '2012-05-20', '2012-05-21', '2012-05-22',\n               '2012-05-23', '2012-05-24', '2012-05-25', '2012-05-26',\n               '2012-05-27', '2012-05-28', '2012-05-29', '2012-05-30',\n               '2012-05-31', '2012-06-01'],\n              dtype='datetime64[ns]', freq='D')"
      ]
     },
     "execution_count": 14,
     "metadata": {},
     "output_type": "execute_result"
    },
    {
     "data": {
      "text/plain": [
       "DatetimeIndex(['2012-04-01', '2012-04-02', '2012-04-03', '2012-04-04',\n               '2012-04-05', '2012-04-06', '2012-04-07', '2012-04-08',\n               '2012-04-09', '2012-04-10', '2012-04-11', '2012-04-12',\n               '2012-04-13', '2012-04-14', '2012-04-15', '2012-04-16',\n               '2012-04-17', '2012-04-18', '2012-04-19', '2012-04-20'],\n              dtype='datetime64[ns]', freq='D')"
      ]
     },
     "execution_count": 14,
     "metadata": {},
     "output_type": "execute_result"
    },
    {
     "data": {
      "text/plain": [
       "DatetimeIndex(['2012-03-13', '2012-03-14', '2012-03-15', '2012-03-16',\n               '2012-03-17', '2012-03-18', '2012-03-19', '2012-03-20',\n               '2012-03-21', '2012-03-22', '2012-03-23', '2012-03-24',\n               '2012-03-25', '2012-03-26', '2012-03-27', '2012-03-28',\n               '2012-03-29', '2012-03-30', '2012-03-31', '2012-04-01'],\n              dtype='datetime64[ns]', freq='D')"
      ]
     },
     "execution_count": 14,
     "metadata": {},
     "output_type": "execute_result"
    },
    {
     "data": {
      "text/plain": [
       "DatetimeIndex(['2000-01-31', '2000-02-29', '2000-03-31', '2000-04-28',\n               '2000-05-31', '2000-06-30', '2000-07-31', '2000-08-31',\n               '2000-09-29', '2000-10-31', '2000-11-30'],\n              dtype='datetime64[ns]', freq='BM')"
      ]
     },
     "execution_count": 14,
     "metadata": {},
     "output_type": "execute_result"
    },
    {
     "data": {
      "text/plain": [
       "DatetimeIndex(['2000-01-03', '2000-01-04', '2000-01-05', '2000-01-06',\n               '2000-01-07', '2000-01-10', '2000-01-11', '2000-01-12',\n               '2000-01-13', '2000-01-14', '2000-01-17', '2000-01-18',\n               '2000-01-19', '2000-01-20', '2000-01-21', '2000-01-24',\n               '2000-01-25', '2000-01-26', '2000-01-27', '2000-01-28',\n               '2000-01-31', '2000-02-01'],\n              dtype='datetime64[ns]', freq='B')"
      ]
     },
     "execution_count": 14,
     "metadata": {},
     "output_type": "execute_result"
    },
    {
     "data": {
      "text/plain": [
       "DatetimeIndex(['2000-01-01 00:00:00', '2000-01-01 01:00:00',\n               '2000-01-01 02:00:00', '2000-01-01 03:00:00',\n               '2000-01-01 04:00:00', '2000-01-01 05:00:00',\n               '2000-01-01 06:00:00', '2000-01-01 07:00:00',\n               '2000-01-01 08:00:00', '2000-01-01 09:00:00',\n               ...\n               '2000-01-31 15:00:00', '2000-01-31 16:00:00',\n               '2000-01-31 17:00:00', '2000-01-31 18:00:00',\n               '2000-01-31 19:00:00', '2000-01-31 20:00:00',\n               '2000-01-31 21:00:00', '2000-01-31 22:00:00',\n               '2000-01-31 23:00:00', '2000-02-01 00:00:00'],\n              dtype='datetime64[ns]', length=745, freq='H')"
      ]
     },
     "execution_count": 14,
     "metadata": {},
     "output_type": "execute_result"
    }
   ],
   "source": [
    "# generating date ranges\n",
    "# date_range is responsible for generating a DatetimeIndex with an indicated length according to a particular frequency\n",
    "index = pd.date_range('2012-04-01', '2012-06-01')\n",
    "index\n",
    "pd.date_range(start='2012-04-01', periods=20)\n",
    "pd.date_range(end='2012-04-01', periods=20)\n",
    "# if you wanted a date index containing the last business day of each month, you would pass the 'BM' frequency\n",
    "pd.date_range('2000-01-01', '2000-12-01', freq='BM')\n",
    "pd.date_range('2000-01-01', '2000-02-01', freq='B')  # only businessday\n",
    "pd.date_range('2000-01-01', '2000-02-01', freq='H')\n",
    "# by default preserves the time\n",
    "pd.date_range('2012-05-02 12:56:31', periods=5)\n",
    "pd.date_range('2012-05-02 12:56:31', periods=5, normalize=True)\n"
   ]
  },
  {
   "cell_type": "code",
   "execution_count": 20,
   "metadata": {},
   "outputs": [
    {
     "data": {
      "text/plain": [
       "<Hour>"
      ]
     },
     "execution_count": 20,
     "metadata": {},
     "output_type": "execute_result"
    },
    {
     "data": {
      "text/plain": [
       "<4 * Hours>"
      ]
     },
     "execution_count": 20,
     "metadata": {},
     "output_type": "execute_result"
    },
    {
     "data": {
      "text/plain": [
       "DatetimeIndex(['2000-01-01 00:00:00', '2000-01-01 04:00:00',\n               '2000-01-01 08:00:00', '2000-01-01 12:00:00',\n               '2000-01-01 16:00:00', '2000-01-01 20:00:00',\n               '2000-01-02 00:00:00', '2000-01-02 04:00:00',\n               '2000-01-02 08:00:00', '2000-01-02 12:00:00',\n               '2000-01-02 16:00:00', '2000-01-02 20:00:00',\n               '2000-01-03 00:00:00'],\n              dtype='datetime64[ns]', freq='4H')"
      ]
     },
     "execution_count": 20,
     "metadata": {},
     "output_type": "execute_result"
    },
    {
     "data": {
      "text/plain": [
       "DatetimeIndex(['2000-01-01 00:00:00', '2000-01-01 01:30:00',\n               '2000-01-01 03:00:00', '2000-01-01 04:30:00',\n               '2000-01-01 06:00:00', '2000-01-01 07:30:00',\n               '2000-01-01 09:00:00', '2000-01-01 10:30:00',\n               '2000-01-01 12:00:00', '2000-01-01 13:30:00',\n               '2000-01-01 15:00:00', '2000-01-01 16:30:00',\n               '2000-01-01 18:00:00', '2000-01-01 19:30:00',\n               '2000-01-01 21:00:00', '2000-01-01 22:30:00',\n               '2000-01-02 00:00:00', '2000-01-02 01:30:00',\n               '2000-01-02 03:00:00', '2000-01-02 04:30:00',\n               '2000-01-02 06:00:00', '2000-01-02 07:30:00',\n               '2000-01-02 09:00:00', '2000-01-02 10:30:00',\n               '2000-01-02 12:00:00', '2000-01-02 13:30:00',\n               '2000-01-02 15:00:00', '2000-01-02 16:30:00',\n               '2000-01-02 18:00:00', '2000-01-02 19:30:00',\n               '2000-01-02 21:00:00', '2000-01-02 22:30:00',\n               '2000-01-03 00:00:00'],\n              dtype='datetime64[ns]', freq='90T')"
      ]
     },
     "execution_count": 20,
     "metadata": {},
     "output_type": "execute_result"
    },
    {
     "data": {
      "text/plain": [
       "[Timestamp('2012-01-20 00:00:00', freq='WOM-3FRI'),\n Timestamp('2012-02-17 00:00:00', freq='WOM-3FRI'),\n Timestamp('2012-03-16 00:00:00', freq='WOM-3FRI'),\n Timestamp('2012-04-20 00:00:00', freq='WOM-3FRI'),\n Timestamp('2012-05-18 00:00:00', freq='WOM-3FRI'),\n Timestamp('2012-06-15 00:00:00', freq='WOM-3FRI'),\n Timestamp('2012-07-20 00:00:00', freq='WOM-3FRI'),\n Timestamp('2012-08-17 00:00:00', freq='WOM-3FRI')]"
      ]
     },
     "execution_count": 20,
     "metadata": {},
     "output_type": "execute_result"
    }
   ],
   "source": [
    "# frequencies and date offsets\n",
    "# date offset\n",
    "from pandas.tseries.offsets import Hour, Minute\n",
    "hour = Hour()\n",
    "hour\n",
    "Hour(4)\n",
    "# mostly you would never need to explicitly create one of these objects\n",
    "pd.date_range('2000-01-01', '2000-01-03', freq='4h')\n",
    "pd.date_range('2000-01-01', '2000-01-03', freq='1h30min')\n",
    "# week of month dates\n",
    "# one useful frequency class is 'week of month' starting with WOM which enables you to get dates like the third Friday or so\n",
    "rng = pd.date_range('2012-01-01', '2012-09-01', freq='WOM-3FRI')\n",
    "list(rng)"
   ]
  },
  {
   "cell_type": "code",
   "execution_count": 25,
   "metadata": {},
   "outputs": [
    {
     "data": {
      "text/plain": [
       "2000-01-31   -0.610653\n2000-02-29   -1.521783\n2000-03-31    1.498375\n2000-04-30   -0.150941\nFreq: M, dtype: float64"
      ]
     },
     "execution_count": 25,
     "metadata": {},
     "output_type": "execute_result"
    },
    {
     "data": {
      "text/plain": [
       "2000-01-31         NaN\n2000-02-29         NaN\n2000-03-31   -0.610653\n2000-04-30   -1.521783\nFreq: M, dtype: float64"
      ]
     },
     "execution_count": 25,
     "metadata": {},
     "output_type": "execute_result"
    },
    {
     "data": {
      "text/plain": [
       "2000-01-31    1.498375\n2000-02-29   -0.150941\n2000-03-31         NaN\n2000-04-30         NaN\nFreq: M, dtype: float64"
      ]
     },
     "execution_count": 25,
     "metadata": {},
     "output_type": "execute_result"
    },
    {
     "data": {
      "text/plain": [
       "2000-01-31         NaN\n2000-02-29    1.492060\n2000-03-31   -1.984618\n2000-04-30   -1.100737\nFreq: M, dtype: float64"
      ]
     },
     "execution_count": 25,
     "metadata": {},
     "output_type": "execute_result"
    },
    {
     "data": {
      "text/plain": [
       "2000-03-31   -0.610653\n2000-04-30   -1.521783\n2000-05-31    1.498375\n2000-06-30   -0.150941\nFreq: M, dtype: float64"
      ]
     },
     "execution_count": 25,
     "metadata": {},
     "output_type": "execute_result"
    },
    {
     "data": {
      "text/plain": [
       "2000-02-02   -0.610653\n2000-03-02   -1.521783\n2000-04-02    1.498375\n2000-05-02   -0.150941\ndtype: float64"
      ]
     },
     "execution_count": 25,
     "metadata": {},
     "output_type": "execute_result"
    },
    {
     "data": {
      "text/plain": [
       "2000-01-31 01:30:00   -0.610653\n2000-02-29 01:30:00   -1.521783\n2000-03-31 01:30:00    1.498375\n2000-04-30 01:30:00   -0.150941\nFreq: M, dtype: float64"
      ]
     },
     "execution_count": 25,
     "metadata": {},
     "output_type": "execute_result"
    }
   ],
   "source": [
    "# shifting(leading and lagging) data\n",
    "ts = pd.Series(np.random.randn(4),\n",
    "               index=pd.date_range('1/1/2000', periods=4, freq='M'))\n",
    "ts\n",
    "ts.shift(2)\n",
    "ts.shift(-2)\n",
    "# a common use of shift is computing percent changes in a time series or multiple time series\n",
    "ts / ts.shift(1) - 1\n",
    "ts.shift(2, freq='M')\n",
    "ts.shift(2, freq='D')\n",
    "ts.shift(1, freq='90T')"
   ]
  },
  {
   "cell_type": "code",
   "execution_count": 30,
   "metadata": {},
   "outputs": [
    {
     "data": {
      "text/plain": [
       "Timestamp('2011-11-20 00:00:00')"
      ]
     },
     "execution_count": 30,
     "metadata": {},
     "output_type": "execute_result"
    },
    {
     "data": {
      "text/plain": [
       "Timestamp('2011-11-30 00:00:00')"
      ]
     },
     "execution_count": 30,
     "metadata": {},
     "output_type": "execute_result"
    },
    {
     "data": {
      "text/plain": [
       "Timestamp('2011-12-31 00:00:00')"
      ]
     },
     "execution_count": 30,
     "metadata": {},
     "output_type": "execute_result"
    },
    {
     "data": {
      "text/plain": [
       "Timestamp('2011-11-30 00:00:00')"
      ]
     },
     "execution_count": 30,
     "metadata": {},
     "output_type": "execute_result"
    },
    {
     "data": {
      "text/plain": [
       "Timestamp('2011-10-31 00:00:00')"
      ]
     },
     "execution_count": 30,
     "metadata": {},
     "output_type": "execute_result"
    },
    {
     "data": {
      "text/plain": [
       "2000-01-15   -0.976085\n2000-01-19    1.779162\n2000-01-23   -0.271855\n2000-01-27   -0.081055\n2000-01-31   -0.825880\n2000-02-04   -1.035571\n2000-02-08   -0.244828\n2000-02-12   -1.096827\n2000-02-16   -0.426689\n2000-02-20   -0.411702\n2000-02-24   -0.439954\n2000-02-28    0.425226\n2000-03-03   -0.771999\n2000-03-07   -0.074223\n2000-03-11    0.095599\n2000-03-15    1.555791\n2000-03-19   -0.946401\n2000-03-23   -0.351056\n2000-03-27    0.270578\n2000-03-31    0.690277\nFreq: 4D, dtype: float64"
      ]
     },
     "execution_count": 30,
     "metadata": {},
     "output_type": "execute_result"
    }
   ],
   "source": [
    "# shifting dates with offsets\n",
    "from pandas.tseries.offsets import Day, MonthEnd\n",
    "\n",
    "now = datetime(2011, 11, 17)\n",
    "now + 3 * Day()\n",
    "now + MonthEnd()\n",
    "now + MonthEnd(2)\n",
    "offset = MonthEnd()\n",
    "offset.rollforward(now)\n",
    "offset.rollback(now)\n",
    "# a creative use of date offsets is to use these methods with groupby\n",
    "ts = pd.Series(np.random.randn(20),\n",
    "               index=pd.date_range('1/15/2000', periods=20, freq='4d'))\n",
    "ts\n",
    "ts.groupby(offset.rollforward).mean()\n",
    "# an easier way is to use resample\n",
    "ts.resample('M').mean()"
   ]
  },
  {
   "cell_type": "code",
   "execution_count": null,
   "metadata": {},
   "outputs": [],
   "source": []
  }
 ],
 "metadata": {
  "kernelspec": {
   "display_name": "Python 2",
   "language": "python",
   "name": "python2"
  },
  "language_info": {
   "codemirror_mode": {
    "name": "ipython",
    "version": 2
   },
   "file_extension": ".py",
   "mimetype": "text/x-python",
   "name": "python",
   "nbconvert_exporter": "python",
   "pygments_lexer": "ipython2",
   "version": "2.7.6"
  }
 },
 "nbformat": 4,
 "nbformat_minor": 0
}
