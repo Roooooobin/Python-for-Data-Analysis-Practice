{
 "cells": [
  {
   "cell_type": "code",
   "execution_count": 1,
   "metadata": {
    "collapsed": true
   },
   "outputs": [],
   "source": [
    "from IPython.core.interactiveshell import InteractiveShell\n",
    "InteractiveShell.ast_node_interactivity = \"all\""
   ]
  },
  {
   "cell_type": "code",
   "execution_count": 5,
   "metadata": {},
   "outputs": [
    {
     "data": {
      "text/plain": [
       "'\\nAnything that is observed or measured at many points in time forms a time series. Many time series are fixed frequency\\n• Timestamps, specific instants in time\\n• Fixed periods, such as the month January 2007 or the full year 2010\\n• Intervals of time, indicated by a start and end timestamp. Periods can be thought\\nof as special cases of intervals\\n• Experiment or elapsed time; each timestamp is a measure of time relative to a\\nparticular start time (e.g., the diameter of a cookie baking each second since\\nbeing placed in the oven)\\n'"
      ]
     },
     "execution_count": 5,
     "metadata": {},
     "output_type": "execute_result"
    },
    {
     "data": {
      "text/plain": [
       "datetime.datetime(2020, 2, 16, 16, 18, 45, 487628)"
      ]
     },
     "execution_count": 5,
     "metadata": {},
     "output_type": "execute_result"
    },
    {
     "data": {
      "text/plain": [
       "(2020, 2, 16)"
      ]
     },
     "execution_count": 5,
     "metadata": {},
     "output_type": "execute_result"
    },
    {
     "data": {
      "text/plain": [
       "datetime.timedelta(926, 56700)"
      ]
     },
     "execution_count": 5,
     "metadata": {},
     "output_type": "execute_result"
    },
    {
     "data": {
      "text/plain": [
       "(926, 56700)"
      ]
     },
     "execution_count": 5,
     "metadata": {},
     "output_type": "execute_result"
    },
    {
     "data": {
      "text/plain": [
       "datetime.datetime(2011, 1, 19, 0, 0)"
      ]
     },
     "execution_count": 5,
     "metadata": {},
     "output_type": "execute_result"
    }
   ],
   "source": [
    "\"\"\"\n",
    "Anything that is observed or measured at many points in time forms a time series. Many time series are fixed frequency\n",
    "• Timestamps, specific instants in time\n",
    "• Fixed periods, such as the month January 2007 or the full year 2010\n",
    "• Intervals of time, indicated by a start and end timestamp. Periods can be thought\n",
    "of as special cases of intervals\n",
    "• Experiment or elapsed time; each timestamp is a measure of time relative to a\n",
    "particular start time (e.g., the diameter of a cookie baking each second since\n",
    "being placed in the oven)\n",
    "\"\"\"\n",
    "# Date and Time data types and tools\n",
    "from datetime import datetime, timedelta\n",
    "now = datetime.now()\n",
    "now\n",
    "now.year, now.month, now.day\n",
    "delta = datetime(2011, 1, 7) - datetime(2008, 6, 24, 8, 15)\n",
    "delta\n",
    "delta.days, delta.seconds\n",
    "start = datetime(2011, 1, 7)\n",
    "start + timedelta(12)   # days = 12"
   ]
  },
  {
   "cell_type": "code",
   "execution_count": 8,
   "metadata": {},
   "outputs": [
    {
     "data": {
      "text/plain": [
       "'2011-01-03 00:00:00'"
      ]
     },
     "execution_count": 8,
     "metadata": {},
     "output_type": "execute_result"
    },
    {
     "data": {
      "text/plain": [
       "'2011-01-03'"
      ]
     },
     "execution_count": 8,
     "metadata": {},
     "output_type": "execute_result"
    },
    {
     "data": {
      "text/plain": [
       "'11-01-03-1'"
      ]
     },
     "execution_count": 8,
     "metadata": {},
     "output_type": "execute_result"
    },
    {
     "data": {
      "text/plain": [
       "'2011-01-03'"
      ]
     },
     "execution_count": 8,
     "metadata": {},
     "output_type": "execute_result"
    },
    {
     "data": {
      "text/plain": [
       "'\\n%Y Four-digit year\\n%y Two-digit year\\n%m Two-digit month [01, 12]\\n%d Two-digit day [01, 31]\\n%H Hour (24-hour clock) [00, 23]\\n%I Hour (12-hour clock) [01, 12]\\n%M Two-digit minute [00, 59]\\n%S Second [00, 61] (seconds 60, 61 account for leap seconds)\\n%w Weekday as integer [0 (Sunday), 6]\\n%U Week number of the year [00, 53]; Sunday is considered the first day of the week, and days before the first Sunday of\\nthe year are “week 0”\\n%W Week number of the year [00, 53]; Monday is considered the first day of the week, and days before the first Monday of\\nthe year are “week 0”\\n%z UTC time zone offset as +HHMM or -HHMM; empty if time zone naive\\n%F Shortcut for %Y-%m-%d (e.g., 2012-4-18)\\n%D Shortcut for %m/%d/%y (e.g., 04/18/12)\\n'"
      ]
     },
     "execution_count": 8,
     "metadata": {},
     "output_type": "execute_result"
    }
   ],
   "source": [
    "# converting between string and datetime\n",
    "stamp = datetime(2011, 1, 3)\n",
    "str(stamp)\n",
    "stamp.strftime('%Y-%m-%d')\n",
    "stamp.strftime('%y-%m-%d-%w')\n",
    "stamp.strftime('%F')\n",
    "\"\"\"\n",
    "%Y Four-digit year\n",
    "%y Two-digit year\n",
    "%m Two-digit month [01, 12]\n",
    "%d Two-digit day [01, 31]\n",
    "%H Hour (24-hour clock) [00, 23]\n",
    "%I Hour (12-hour clock) [01, 12]\n",
    "%M Two-digit minute [00, 59]\n",
    "%S Second [00, 61] (seconds 60, 61 account for leap seconds)\n",
    "%w Weekday as integer [0 (Sunday), 6]\n",
    "%U Week number of the year [00, 53]; Sunday is considered the first day of the week, and days before the first Sunday of\n",
    "the year are “week 0”\n",
    "%W Week number of the year [00, 53]; Monday is considered the first day of the week, and days before the first Monday of\n",
    "the year are “week 0”\n",
    "%z UTC time zone offset as +HHMM or -HHMM; empty if time zone naive\n",
    "%F Shortcut for %Y-%m-%d (e.g., 2012-4-18)\n",
    "%D Shortcut for %m/%d/%y (e.g., 04/18/12)\n",
    "\"\"\"\n",
    "# from str to datetime\n",
    "value = '2011-01-03'\n",
    "datetime.strptime(value, '%F')\n",
    "# parser.parse method in the third-party dateutil package\n",
    "from dateutil.parser import parse\n",
    "parse('2011-01-03')\n",
    "parse('Jan 31, 1997 10:45 PM')\n",
    "parse('6/12/2011', dayfirst=True)   # day appearing before month\n"
   ]
  },
  {
   "cell_type": "code",
   "execution_count": null,
   "metadata": {},
   "outputs": [],
   "source": []
  }
 ],
 "metadata": {
  "kernelspec": {
   "display_name": "Python 2",
   "language": "python",
   "name": "python2"
  },
  "language_info": {
   "codemirror_mode": {
    "name": "ipython",
    "version": 2
   },
   "file_extension": ".py",
   "mimetype": "text/x-python",
   "name": "python",
   "nbconvert_exporter": "python",
   "pygments_lexer": "ipython2",
   "version": "2.7.6"
  }
 },
 "nbformat": 4,
 "nbformat_minor": 0
}
