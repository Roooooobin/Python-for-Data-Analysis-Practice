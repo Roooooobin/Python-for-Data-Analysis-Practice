{
 "cells": [
  {
   "cell_type": "markdown",
   "metadata": {},
   "source": [
    "n-dimensional array object or ndarray, which is fast, flexible container for large datasets in Python. Arrays enable you to perform mathematical operations on whole blocks of data using similar syntax to the equivalent operations between scalar elements"
   ]
  },
  {
   "cell_type": "code",
   "execution_count": 1,
   "metadata": {
    "collapsed": true
   },
   "outputs": [
    {
     "name": "stdout",
     "output_type": "stream",
     "text": [
      "[[-0.18362671  0.279699   -1.08547965]\n [-0.55566853  2.08891049 -0.64020807]]\n[[ -1.83626706   2.79698999 -10.85479651]\n [ -5.55668533  20.88910486  -6.40208067]]\n[[-0.36725341  0.559398   -2.1709593 ]\n [-1.11133707  4.17782097 -1.28041613]]\n"
     ]
    }
   ],
   "source": [
    "import numpy as np\n",
    "\n",
    "data = np.random.randn(2, 3)\n",
    "print(data)\n",
    "print(data * 10)\n",
    "print(data + data)\n",
    "\"\"\"\n",
    "An ndarray is a generic multidimensional container for homogeneous data, elements must be the same type\n",
    "\"\"\"\n",
    "print(data.shape)\n",
    "print(data.dtype)"
   ]
  },
  {
   "cell_type": "code",
   "execution_count": 4,
   "metadata": {},
   "outputs": [
    {
     "name": "stdout",
     "output_type": "stream",
     "text": [
      "[6.  7.5 8.  0.  1. ]\n[[1 2 3 4]\n [5 6 7 8]]\n2\n(2, 4)\nfloat64\nint32\n"
     ]
    }
   ],
   "source": [
    "# creating ndarray\n",
    "data1 = [6, 7.5, 8, 0, 1]\n",
    "arr1 = np.array(data1)\n",
    "print(arr1)\n",
    "# nested sequences to multidimensional array\n",
    "data2 = [[1, 2, 3, 4], [5, 6, 7, 8]]\n",
    "arr2 = np.array(data2)\n",
    "print(arr2)\n",
    "print(arr2.ndim)\n",
    "print(arr2.shape)\n",
    "print(arr1.dtype)\n",
    "print(arr2.dtype)"
   ]
  },
  {
   "cell_type": "code",
   "execution_count": 15,
   "metadata": {},
   "outputs": [
    {
     "name": "stdout",
     "output_type": "stream",
     "text": [
      "[0 0 0 0 0 0 0 0 0 0] int32\n[0. 0. 0. 0. 0. 0. 0. 0. 0. 0.] float64\n[[0. 0. 0. 0. 0. 0.]\n [0. 0. 0. 0. 0. 0.]\n [0. 0. 0. 0. 0. 0.]]\n[[[1. 0.]\n  [0. 0.]\n  [0. 1.]]\n\n [[0. 0.]\n  [0. 0.]\n  [1. 0.]]]\n[ 0  1  2  3  4  5  6  7  8  9 10 11 12 13 14]\n[[1. 0. 0. 0.]\n [0. 1. 0. 0.]\n [0. 0. 1. 0.]]\n[[1. 0. 0.]\n [0. 1. 0.]\n [0. 0. 1.]]\n"
     ]
    }
   ],
   "source": [
    "# zeros and ones create arrays of 0s or 1s\n",
    "zeros_int = np.zeros(10, dtype=int)\n",
    "print(zeros_int, zeros_int.dtype)\n",
    "zeros_ = np.zeros(10)\n",
    "print(zeros_, zeros_.dtype)\n",
    "print(np.zeros((3, 6)))\n",
    "# empty creates an array without initializing its values\n",
    "print(np.empty((2, 3, 2)))  # it's not safe to assume that np.empty will return an array of all zeros\n",
    "# arange is an array-valued version of the built-in Python range function\n",
    "print(np.arange(15))\n",
    "\"\"\"\n",
    "ones_like: takes another array and produces a ones array of the same shape and dtype\n",
    "full: produce an array of the given shape and dtype with all values set to the indicated \"fill value\"\n",
    "eye: create a square N*N identity matrix(1s on the diagonal and 0s elsewhere\n",
    "\"\"\"\n",
    "print(np.eye(3, 4))\n",
    "print(np.identity(3))"
   ]
  },
  {
   "cell_type": "code",
   "execution_count": 19,
   "metadata": {},
   "outputs": [
    {
     "name": "stdout",
     "output_type": "stream",
     "text": [
      "int32\nfloat64\n"
     ]
    },
    {
     "data": {
      "text/plain": [
       "array([ 1.25, -9.6 , 42.  ])"
      ]
     },
     "execution_count": 19,
     "metadata": {},
     "output_type": "execute_result"
    }
   ],
   "source": [
    "# data types for ndarrays\n",
    "\"\"\"\n",
    "np.float64\n",
    "np.int32\n",
    "np.complex64/128/256\n",
    "\n",
    "astype() to cast an array from one dtype to another\n",
    "\"\"\"\n",
    "arr = np.array([1, 2, 3, 4, 5])\n",
    "print(arr.dtype)\n",
    "float_arr = arr.astype(np.float64)\n",
    "print(float_arr.dtype)\n",
    "# if you have an array of strings representing numbers, you can use astype to convert them to numeric form\n",
    "# be cautious when using the numpy.string_ type, as string data in NumPy is fixed size and may truncate input without warning\n",
    "numeric_strings = np.array(['1.25', '-9.6', '42'], dtype=np.string_)\n",
    "numeric_strings.astype(float)   # cannot be converted to float64\n",
    "# calling astype always creates a new array, even the new dtype is the same"
   ]
  },
  {
   "cell_type": "code",
   "execution_count": 26,
   "metadata": {},
   "outputs": [
    {
     "name": "stdout",
     "output_type": "stream",
     "text": [
      "[[1. 2. 3.]\n [4. 5. 6.]]\n[[ 1.  4.  9.]\n [16. 25. 36.]]\n[[0. 0. 0.]\n [0. 0. 0.]]\n[[1.         0.5        0.33333333]\n [0.25       0.2        0.16666667]]\nfloat64\n[[ 0.  4.  1.]\n [ 7.  2. 12.]]\n"
     ]
    },
    {
     "data": {
      "text/plain": [
       "array([[False,  True, False],\n       [ True, False,  True]])"
      ]
     },
     "execution_count": 26,
     "metadata": {},
     "output_type": "execute_result"
    }
   ],
   "source": [
    "\"\"\"\n",
    "arrays are important because the enable you to express batch operations on data without any \"for\" loops, vectorization\n",
    "\"\"\"\n",
    "arr = np.array([[1, 2, 3], [4, 5, 6]], dtype=np.float64)\n",
    "print(arr)\n",
    "print(arr * arr)\n",
    "print(arr - arr)\n",
    "print(1 / arr)\n",
    "# comparisons between arrays of the same size yield boolean arrays\n",
    "arr2 = np.array([[0., 4., 1.], [7., 2., 12.]])\n",
    "print(arr2.dtype)\n",
    "print(arr2)\n",
    "arr2 > arr"
   ]
  },
  {
   "cell_type": "code",
   "execution_count": 31,
   "metadata": {},
   "outputs": [
    {
     "name": "stdout",
     "output_type": "stream",
     "text": [
      "[0 1 2 3 4 5 6 7 8 9]\n5\n[5 6 7]\n[ 0  1  2  3  4 23 23 23  8  9]\n[23 23 23]\n[  0   1   2   3   4  23 233  23   8   9]\n[ 23 233  23]\n[23 23 23]\n[  0   1   2   3   4  23 233  23   8   9]\n"
     ]
    }
   ],
   "source": [
    "\"\"\"\n",
    "NumPy array indexing is a rich topic\n",
    "\"\"\"\n",
    "arr = np.arange(10)\n",
    "print(arr)\n",
    "print(arr[5])\n",
    "print(arr[5:8])\n",
    "arr[5:8] = 23\n",
    "print(arr)  # if you assign a scalar value to a slice, the value is propagated(or broadcasted) to the entire selection\n",
    "# array slices are \"views\" on the original array which means the data is deep sliced, not copied, any modifications to the view will be reflected in the source array\n",
    "arr_slice = arr[5:8]\n",
    "print(arr_slice)\n",
    "arr_slice[1] = 233\n",
    "print(arr)\n",
    "# if you want a copy, use .copy()\n",
    "arr_copied = arr[5:8].copy()\n",
    "print(arr_copied)\n",
    "arr_copied[1] = 23\n",
    "print(arr_copied)\n",
    "print(arr)"
   ]
  },
  {
   "cell_type": "code",
   "execution_count": 32,
   "metadata": {},
   "outputs": [
    {
     "name": "stdout",
     "output_type": "stream",
     "text": [
      "[7 8 9]\n3 3\n"
     ]
    }
   ],
   "source": [
    "# you can pass a comma-separated list of indices to select individual elements\n",
    "arr2d = np.array([[1, 2, 3], [4, 5, 6], [7, 8, 9]])\n",
    "print(arr2d[2])\n",
    "print(arr2d[0][2], arr2d[0, 2])\n",
    "# similar with multidimensional array\n",
    "arr2d = np.array([[1, 2, 3], [4, 5, 6], [7, 8, 9]])\n",
    "print(arr2d[1:, :2])"
   ]
  },
  {
   "cell_type": "code",
   "execution_count": 6,
   "metadata": {},
   "outputs": [
    {
     "name": "stdout",
     "output_type": "stream",
     "text": [
      "['Bob' 'Joe' 'Will' 'Bob' 'Will' 'Joe' 'Joe']\n[ True False False  True False False False]\n[[ 0.26239774  1.50561548 -0.421066    0.45083176]\n [-0.06576134  0.87952908 -1.9085828  -0.39794606]\n [ 0.08709249  0.17193017  0.64598925 -0.33727065]\n [ 0.77748831 -0.12773154 -1.35663818 -0.47997675]\n [-1.23570473  0.39664837 -0.43904985 -0.87115413]\n [-1.03589337  0.20914278 -0.90238772 -0.39897316]\n [-1.70337297 -1.00744276  0.35979811 -0.66685602]]\n[[ 0.26239774  1.50561548 -0.421066    0.45083176]\n [ 0.77748831 -0.12773154 -1.35663818 -0.47997675]]\n[[ 0.26239774  1.50561548]\n [ 0.77748831 -0.12773154]]\n[[-0.06576134  0.87952908 -1.9085828  -0.39794606]\n [ 0.08709249  0.17193017  0.64598925 -0.33727065]\n [-1.23570473  0.39664837 -0.43904985 -0.87115413]\n [-1.03589337  0.20914278 -0.90238772 -0.39897316]\n [-1.70337297 -1.00744276  0.35979811 -0.66685602]]\n[ True False  True  True  True False False]\n"
     ]
    }
   ],
   "source": [
    "import numpy as np\n",
    "# boolean indexing\n",
    "names = np.array(['Bob', 'Joe', 'Will', 'Bob', 'Will', 'Joe', 'Joe'])\n",
    "data = np.random.randn(7, 4)\n",
    "print(names)\n",
    "print(names == 'Bob')\n",
    "print(data)\n",
    "# boolean array can be passed when indexing the array\n",
    "print(data[names == 'Bob'])\n",
    "print(data[names == 'Bob', :2])\n",
    "cond = names == 'Bob'\n",
    "print(data[~cond])  # ~operator invert a general condition\n",
    "mask = (names == 'Bob') | (names == 'Will')\n",
    "print(mask)\n",
    "print(data[mask])\n",
    "\"\"\"\n",
    "Setting value with boolean arrays works in a common-sense way.\n",
    "To set all of the negative values in data to 0 we need only do:\n",
    "\"\"\"\n",
    "data[data < 0] = 0\n",
    "# set whole rows or column using a one-dimensional boolean array is also easy"
   ]
  },
  {
   "cell_type": "code",
   "execution_count": 11,
   "metadata": {},
   "outputs": [
    {
     "name": "stdout",
     "output_type": "stream",
     "text": [
      "[[0. 0. 0. 0.]\n [1. 1. 1. 1.]\n [2. 2. 2. 2.]\n [3. 3. 3. 3.]\n [4. 4. 4. 4.]\n [5. 5. 5. 5.]\n [6. 6. 6. 6.]\n [7. 7. 7. 7.]]\n[[4. 4. 4. 4.]\n [3. 3. 3. 3.]\n [0. 0. 0. 0.]\n [6. 6. 6. 6.]]\n[[5. 5. 5. 5.]\n [3. 3. 3. 3.]\n [1. 1. 1. 1.]]\n[[ 0  1  2  3]\n [ 4  5  6  7]\n [ 8  9 10 11]\n [12 13 14 15]\n [16 17 18 19]\n [20 21 22 23]\n [24 25 26 27]\n [28 29 30 31]]\n[ 4 23 29 10]\n[[ 4  7  5  6]\n [20 23 21 22]\n [28 31 29 30]\n [ 8 11  9 10]]\n"
     ]
    }
   ],
   "source": [
    "# fancy indexing is a term adopted by NumPy to describe indexing using integer arrays\n",
    "arr = np.empty((8, 4))\n",
    "for i in range(8):\n",
    "    arr[i] = i\n",
    "print(arr)\n",
    "print(arr[[4, 3, 0, 6]])\n",
    "print(arr[[-3, -5, -7]])\n",
    "# passing multiple index arrays does something different; it selects a one-dimensional array fo elements corresponding to each tuple of indices\n",
    "arr = np.arange(32).reshape((8, 4))\n",
    "print(arr)\n",
    "print(arr[[1, 5, 7, 2], [0, 3, 1, 2]])\n",
    "print(arr[[1, 5, 7, 2]][:, [0, 3, 1, 2]])\n",
    "# fancy indexing always copies the data into a new array unlike slicing"
   ]
  },
  {
   "cell_type": "code",
   "execution_count": 17,
   "metadata": {},
   "outputs": [
    {
     "name": "stdout",
     "output_type": "stream",
     "text": [
      "[[ 0  1  2  3  4]\n [ 5  6  7  8  9]\n [10 11 12 13 14]]\n[[ 0  5 10]\n [ 1  6 11]\n [ 2  7 12]\n [ 3  8 13]\n [ 4  9 14]]\n[[125 140 155 170 185]\n [140 158 176 194 212]\n [155 176 197 218 239]\n [170 194 218 242 266]\n [185 212 239 266 293]]\n[[[ 0  1  2  3]\n  [ 4  5  6  7]]\n\n [[ 8  9 10 11]\n  [12 13 14 15]]]\n[[[ 0  1  2  3]\n  [ 8  9 10 11]]\n\n [[ 4  5  6  7]\n  [12 13 14 15]]]\n[[[ 0  4]\n  [ 1  5]\n  [ 2  6]\n  [ 3  7]]\n\n [[ 8 12]\n  [ 9 13]\n  [10 14]\n  [11 15]]]\n"
     ]
    }
   ],
   "source": [
    "# transposing arrays and swapping axes\n",
    "arr = np.arange(15).reshape((3, 5))\n",
    "print(arr)\n",
    "print(arr.T)\n",
    "# when computing the inner matrix product using np.dot\n",
    "print(np.dot(arr.T, arr))\n",
    "arr = np.arange(16).reshape((2, 2, 4))\n",
    "print(arr)\n",
    "print(arr.transpose((1, 0, 2)))  # x: 0, y: 1, z: 2; \n",
    "print(arr.swapaxes(1, 2))   # swapaxes returns a view without making a copy"
   ]
  },
  {
   "cell_type": "code",
   "execution_count": null,
   "metadata": {},
   "outputs": [],
   "source": []
  }
 ],
 "metadata": {
  "kernelspec": {
   "display_name": "Python 2",
   "language": "python",
   "name": "python2"
  },
  "language_info": {
   "codemirror_mode": {
    "name": "ipython",
    "version": 2
   },
   "file_extension": ".py",
   "mimetype": "text/x-python",
   "name": "python",
   "nbconvert_exporter": "python",
   "pygments_lexer": "ipython2",
   "version": "2.7.6"
  }
 },
 "nbformat": 4,
 "nbformat_minor": 0
}
